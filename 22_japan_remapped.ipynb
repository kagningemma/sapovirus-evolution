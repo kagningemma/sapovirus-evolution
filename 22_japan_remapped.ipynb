{
 "cells": [
  {
   "cell_type": "markdown",
   "metadata": {},
   "source": [
    "# Analysis Workflow of illumina reads from sample 25-japan.\n",
    "\n",
    "#### this is a secondary mapping done against outbreak consensus sequence \"cons_GI.2_outbreak2013k4.fa\""
   ]
  },
  {
   "cell_type": "markdown",
   "metadata": {},
   "source": [
    "We will use paired reads from one sample. These were collected during a sapovirus outbreak in 2013\n",
    "Let's start by aligning these reads to reference. The first step is creating an index to align the reads to. "
   ]
  },
  {
   "cell_type": "code",
   "execution_count": 1,
   "metadata": {},
   "outputs": [],
   "source": [
    "import os\n",
    "os.chdir(\"/media/viro102/HD-ADU3/kte-data/sapo-ivar/test/outbreak_samples/GI.2/22_japan_2/\")"
   ]
  },
  {
   "cell_type": "code",
   "execution_count": 2,
   "metadata": {},
   "outputs": [
    {
     "name": "stdout",
     "output_type": "stream",
     "text": [
      "reference indexed\n"
     ]
    },
    {
     "name": "stderr",
     "output_type": "stream",
     "text": [
      "[bwa_index] Pack FASTA... 0.00 sec\n",
      "[bwa_index] Construct BWT for the packed sequence...\n",
      "[bwa_index] 0.00 seconds elapse.\n",
      "[bwa_index] Update BWT... 0.00 sec\n",
      "[bwa_index] Pack forward-only FASTA... 0.00 sec\n",
      "[bwa_index] Construct SA from BWT and Occ... 0.00 sec\n",
      "[main] Version: 0.7.12-r1039\n",
      "[main] CMD: bwa index cons_GI.2_outbreak2013k4.fa\n",
      "[main] Real time: 0.589 sec; CPU: 0.009 sec\n"
     ]
    }
   ],
   "source": [
    "%%bash\n",
    "bwa index cons_GI.2_outbreak2013k4.fa\n",
    "echo \"reference indexed\""
   ]
  },
  {
   "cell_type": "markdown",
   "metadata": {},
   "source": [
    "map reads to reference"
   ]
  },
  {
   "cell_type": "code",
   "execution_count": 3,
   "metadata": {},
   "outputs": [
    {
     "name": "stdout",
     "output_type": "stream",
     "text": [
      "mapping completed\n"
     ]
    },
    {
     "name": "stderr",
     "output_type": "stream",
     "text": [
      "[M::bwa_idx_load_from_disk] read 0 ALT contigs\n",
      "[M::process] read 2333598 sequences (320000052 bp)...\n",
      "[M::mem_pestat] # candidate unique pairs for (FF, FR, RF, RR): (38, 1124617, 39, 36)\n",
      "[M::mem_pestat] analyzing insert size distribution for orientation FF...\n",
      "[M::mem_pestat] (25, 50, 75) percentile: (304, 1119, 2680)\n",
      "[M::mem_pestat] low and high boundaries for computing mean and std.dev: (1, 7432)\n",
      "[M::mem_pestat] mean and std.dev: (1639.71, 1606.75)\n",
      "[M::mem_pestat] low and high boundaries for proper pairs: (1, 9808)\n",
      "[M::mem_pestat] analyzing insert size distribution for orientation FR...\n",
      "[M::mem_pestat] (25, 50, 75) percentile: (81, 125, 188)\n",
      "[M::mem_pestat] low and high boundaries for computing mean and std.dev: (1, 402)\n",
      "[M::mem_pestat] mean and std.dev: (140.17, 77.77)\n",
      "[M::mem_pestat] low and high boundaries for proper pairs: (1, 509)\n",
      "[M::mem_pestat] analyzing insert size distribution for orientation RF...\n",
      "[M::mem_pestat] (25, 50, 75) percentile: (46, 1059, 2696)\n",
      "[M::mem_pestat] low and high boundaries for computing mean and std.dev: (1, 7996)\n",
      "[M::mem_pestat] mean and std.dev: (1611.44, 1602.16)\n",
      "[M::mem_pestat] low and high boundaries for proper pairs: (1, 10646)\n",
      "[M::mem_pestat] analyzing insert size distribution for orientation RR...\n",
      "[M::mem_pestat] (25, 50, 75) percentile: (322, 584, 2575)\n",
      "[M::mem_pestat] low and high boundaries for computing mean and std.dev: (1, 7081)\n",
      "[M::mem_pestat] mean and std.dev: (1287.20, 1565.85)\n",
      "[M::mem_pestat] low and high boundaries for proper pairs: (1, 9334)\n",
      "[M::mem_pestat] skip orientation FF\n",
      "[M::mem_pestat] skip orientation RF\n",
      "[M::mem_pestat] skip orientation RR\n",
      "[M::mem_process_seqs] Processed 2333598 reads in 197.546 CPU sec, 34.460 real sec\n",
      "[M::process] read 475848 sequences (66321324 bp)...\n",
      "[M::mem_pestat] # candidate unique pairs for (FF, FR, RF, RR): (9, 229733, 10, 9)\n",
      "[M::mem_pestat] skip orientation FF as there are not enough pairs\n",
      "[M::mem_pestat] analyzing insert size distribution for orientation FR...\n",
      "[M::mem_pestat] (25, 50, 75) percentile: (83, 127, 190)\n",
      "[M::mem_pestat] low and high boundaries for computing mean and std.dev: (1, 404)\n",
      "[M::mem_pestat] mean and std.dev: (142.40, 78.02)\n",
      "[M::mem_pestat] low and high boundaries for proper pairs: (1, 511)\n",
      "[M::mem_pestat] analyzing insert size distribution for orientation RF...\n",
      "[M::mem_pestat] (25, 50, 75) percentile: (42, 1369, 3035)\n",
      "[M::mem_pestat] low and high boundaries for computing mean and std.dev: (1, 9021)\n",
      "[M::mem_pestat] mean and std.dev: (1705.60, 1660.69)\n",
      "[M::mem_pestat] low and high boundaries for proper pairs: (1, 12014)\n",
      "[M::mem_pestat] skip orientation RR as there are not enough pairs\n",
      "[M::mem_pestat] skip orientation RF\n",
      "[M::mem_process_seqs] Processed 475848 reads in 38.186 CPU sec, 6.448 real sec\n",
      "[main] Version: 0.7.12-r1039\n",
      "[main] CMD: bwa mem -t 32 cons_GI.2_outbreak2013k4.fa 22_S5_L001_R1_001.fastq.gz 22_S5_L001_R2_001.fastq.gz\n",
      "[main] Real time: 163.946 sec; CPU: 256.091 sec\n",
      "[bam_sort_core] merging from 1 files and 1 in-memory blocks...\n"
     ]
    }
   ],
   "source": [
    "%%bash\n",
    "bwa mem -t 32 cons_GI.2_outbreak2013k4.fa  22_S5_L001_R1_001.fastq.gz 22_S5_L001_R2_001.fastq.gz | samtools view -b -F 4 -F 2048 | samtools sort -o 22_japan_GI.2_a.sorted.bam\n",
    "samtools index 22_japan_GI.2_a.sorted.bam\n",
    "\"mapping completed\""
   ]
  },
  {
   "cell_type": "markdown",
   "metadata": {},
   "source": [
    "Let's now trim off the primer sequences using ivar. In order to do this we need three files.BED file with primer coordinates. We will generate this by aligning the primer sequences to the reference sequence and then using bedtools to create the BED file. Aligned and sorted BAM file generate in the previous step."
   ]
  },
  {
   "cell_type": "code",
   "execution_count": 8,
   "metadata": {},
   "outputs": [
    {
     "name": "stdout",
     "output_type": "stream",
     "text": [
      "bed file with primers locations on ref generated\n"
     ]
    },
    {
     "name": "stderr",
     "output_type": "stream",
     "text": [
      "[M::bwa_idx_load_from_disk] read 0 ALT contigs\n",
      "[M::process] read 68 sequences (1514 bp)...\n",
      "[M::mem_process_seqs] Processed 68 reads in 0.011 CPU sec, 0.010 real sec\n",
      "[main] Version: 0.7.12-r1039\n",
      "[main] CMD: bwa mem -k 5 -T 16 cons_GI.2_outbreak2013k4.fa Primalprimers_SaV_GI.2_batch2_ok.fa\n",
      "[main] Real time: 0.013 sec; CPU: 0.014 sec\n"
     ]
    }
   ],
   "source": [
    "%%bash\n",
    "\n",
    "bwa mem -k 5 -T 16 cons_GI.2_outbreak2013k4.fa Primalprimers_SaV_GI.2_batch2_ok.fa  | samtools view -b -F 4 > Primalprimers_SaV_GI.2_batch2_ok.fa.bam\n",
    "\n",
    "bedtools bamtobed -i Primalprimers_SaV_GI.2_batch2_ok.fa.bam > 22_japan_GI.2_primers.bed\n",
    "\n",
    " echo \"bed file with primers locations on ref generated\""
   ]
  },
  {
   "cell_type": "markdown",
   "metadata": {},
   "source": [
    "We will now use BED file into ivar to trim primer sequences\n",
    "Note that this BED file has to be generated only once per reference sequence."
   ]
  },
  {
   "cell_type": "code",
   "execution_count": 10,
   "metadata": {},
   "outputs": [
    {
     "name": "stdout",
     "output_type": "stream",
     "text": [
      "Number of references: 1\n",
      "Reference Name: cons_GI.2_outbreak2013k4\n",
      "Reference Length: 7442\n",
      "Using Region: cons_GI.2_outbreak2013k4\n",
      "Sorted By Coordinate\n",
      "Sorted By Query Name\n",
      "Processed 1000000 reads ... \n",
      "Processed 2000000 reads ... \n",
      "Results: \n",
      "Trimmed primers from 705302 reads.\n",
      "122462 reads were shortened below the minimum length of 30 bp and were not writen to file.\n",
      "1941039 reads that started outside of primer regions were not written to file.\n",
      "primers trimming complete\n"
     ]
    },
    {
     "name": "stderr",
     "output_type": "stream",
     "text": [
      "[E::idx_find_and_load] Could not retrieve index file for '22_japan_rem_GI.1_a.sorted.bam'\n"
     ]
    }
   ],
   "source": [
    "%%bash\n",
    "ivar trim -b 22_japan_GI.2_primers.bed -p 22_japan_GI.2.trimmed -i 22_japan_GI.2_a.sorted.bam\n",
    "\n",
    "echo \"primers trimming complete\""
   ]
  },
  {
   "cell_type": "markdown",
   "metadata": {},
   "source": [
    "let us sort and index trimmed BAM file.\n"
   ]
  },
  {
   "cell_type": "code",
   "execution_count": 11,
   "metadata": {},
   "outputs": [
    {
     "name": "stdout",
     "output_type": "stream",
     "text": [
      "trimmed BAM file Sorted and indexed\n"
     ]
    }
   ],
   "source": [
    "%%bash\n",
    "samtools sort -o 22_japan_GI.2.trimmed.sorted.bam 22_japan_GI.2.trimmed.bam ; samtools index 22_japan_GI.2.trimmed.sorted.bam\n",
    "tput setaf 1 echo \"Sorted and indexed trimmed BAM file\""
   ]
  },
  {
   "cell_type": "code",
   "execution_count": null,
   "metadata": {},
   "outputs": [],
   "source": [
    "#Let's quicky take a look at the depth of the trimmed vs untrimmed BAM file. We'll extract the depth using the samtools depth command.\n"
   ]
  },
  {
   "cell_type": "code",
   "execution_count": 12,
   "metadata": {},
   "outputs": [
    {
     "name": "stdout",
     "output_type": "stream",
     "text": [
      "please plot the depth per position\n"
     ]
    }
   ],
   "source": [
    "%%bash\n",
    "mkdir depth\n",
    "samtools depth -a 22_japan_GI.2.trimmed.sorted.bam > depth/22_japan_GI.2.trimmed.sorted.bam.depth ; samtools depth -a 22_japan_GI.2_a.sorted.bam > depth/22_japan_GI.2.sorted.bam.depth\n",
    "tput setaf 1 echo \"please plot the depth per position\"\n"
   ]
  },
  {
   "cell_type": "code",
   "execution_count": 20,
   "metadata": {},
   "outputs": [
    {
     "data": {
      "image/png": "[encoded data removed]",
      "text/plain": [
       "<Figure size 1080x360 with 1 Axes>"
      ]
     },
     "metadata": {
      "needs_background": "light"
     },
     "output_type": "display_data"
    }
   ],
   "source": [
    "import os\n",
    "os.chdir(\"/media/viro102/HD-ADU3/kte-data/sapo-ivar/test/outbreak_samples/GI.2/22_japan_2/depth\")\n",
    "import pandas as pd \n",
    "import matplotlib.pyplot as plt\n",
    "df_trimmed = pd.read_csv(\"22_japan_GI.2.trimmed.sorted.bam.depth\", sep = \"\\t\", names = [\"Ref\", \"Pos\",\"depth_tr\"])\n",
    "df_untrimmed = pd.read_csv(\"22_japan_GI.2.sorted.bam.depth\", sep = \"\\t\", names = [\"Ref\", \"Pos\",\"depth_untr\"])\n",
    "ax = df_trimmed[\"depth_tr\"].plot(logy=True, label = \"Trimmed\", figsize = (15,5))\n",
    "df_untrimmed[\"depth_untr\"].plot(logy=True, ax = ax, label =\"Untrimmed\")\n",
    "plt.legend()\n",
    "plt.tight_layout()\n",
    "plt.show()"
   ]
  },
  {
   "cell_type": "code",
   "execution_count": 16,
   "metadata": {},
   "outputs": [],
   "source": [
    "os.chdir(\"/media/viro102/HD-ADU3/kte-data/sapo-ivar/test/outbreak_samples/GI.2/22_japan_2/\")\n"
   ]
  },
  {
   "cell_type": "markdown",
   "metadata": {},
   "source": [
    "Now, we need to identify primer sequences that might have a mismatch with the consensus sequence to ensure that we remove reads from any amplicon that might bias the iSNV frequency due to varying primer binding effeciency\"\n",
    "To do this, we should : \n",
    "-Call consensus on merged BAM file.\n",
    "-align primer sequences to consensus after creating a bwa index from the consensus sequence called."
   ]
  },
  {
   "cell_type": "code",
   "execution_count": 17,
   "metadata": {},
   "outputs": [
    {
     "name": "stdout",
     "output_type": "stream",
     "text": [
      "Minimum Quality: 20\n",
      "Threshold: 0\n",
      "Minimum depth: \u0000\n",
      "Regions with depth less than minimum depth covered by: -\n",
      "consensus called on merged BAM file.\n"
     ]
    },
    {
     "name": "stderr",
     "output_type": "stream",
     "text": [
      "[mpileup] 1 samples in 1 input files\n",
      "[mpileup] Max depth set to maximum value (2147483647)\n",
      "[bwa_index] Pack FASTA... 0.00 sec\n",
      "[bwa_index] Construct BWT for the packed sequence...\n",
      "[bwa_index] 0.00 seconds elapse.\n",
      "[bwa_index] Update BWT... 0.00 sec\n",
      "[bwa_index] Pack forward-only FASTA... 0.00 sec\n",
      "[bwa_index] Construct SA from BWT and Occ... 0.00 sec\n",
      "[main] Version: 0.7.12-r1039\n",
      "[main] CMD: bwa index -p 22_japan_rem_GI.1.consensus 22_japan_rem_GI.1.consensus.fa\n",
      "[main] Real time: 0.518 sec; CPU: 0.009 sec\n",
      "[M::bwa_idx_load_from_disk] read 0 ALT contigs\n",
      "[E::main_mem] fail to open file `Primalprimers_SaVGI.1_batch2_ok.fa'.\n"
     ]
    }
   ],
   "source": [
    "%%bash\n",
    "\n",
    "samtools mpileup -A -d 0 -Q 0 22_japan_GI.2.trimmed.sorted.bam  | ivar consensus -p 22_japan_GI.2.consensus\n",
    "echo \"consensus called on merged BAM file.\"\n",
    "bwa index -p 22_japan_GI.2.consensus 22_japan_GI.2.consensus.fa\n",
    "\n",
    "bwa mem -k 5 -T 16 22_japan_GI.2.consensus Primalprimers_SaV_GI.2_batch2_ok.fa  | samtools view -bS -F 4 | samtools sort -o 22_japan_GI.2_primers_consensus.bam\n",
    "\n",
    "tput setaf 1 echo \"primers mapped to consensus\""
   ]
  },
  {
   "cell_type": "markdown",
   "metadata": {},
   "source": [
    "Let's now call iSNVs on this BAM file at a minimum threshold of 3% and the default minimum quality threshold of 20"
   ]
  },
  {
   "cell_type": "code",
   "execution_count": null,
   "metadata": {},
   "outputs": [],
   "source": [
    "%%bash\n",
    "samtools mpileup -A -d 0 --reference 22_japan_GI.2.consensus.fa -Q 0 22_japan_GI.2_primers_consensus.bam | ivar variants -p 22_japan_GI.2_primers_consensus_1 -t 0.03\n"
   ]
  },
  {
   "cell_type": "markdown",
   "metadata": {},
   "source": [
    "Echo \"Let's now get the indices of primers with mismtaches and their respective pairs. To get the pair information, we need a tsv file with two columns to represent the pairs of primers. This file is in pair_information.tsv\""
   ]
  },
  {
   "cell_type": "code",
   "execution_count": 18,
   "metadata": {},
   "outputs": [
    {
     "name": "stdout",
     "output_type": "stream",
     "text": [
      "\n",
      "you got the indices of primers with mismtaches and their respective pairs\n"
     ]
    }
   ],
   "source": [
    "%%bash\n",
    "bedtools bamtobed -i 22_japan_GI.2_primers_consensus.bam > 22_japan_GI.2_primers_consensus.bam.bed ; ivar getmasked -i 22_japan_GI.2_primers_consensus_1.tsv -b 22_japan_GI.2_primers_consensus.bam.bed -f Primal-primers_SaVGI.2pairs_ok.tsv -p primer_mismatchers_indices\n",
    "\n",
    "\n",
    "tput setaf 1 echo \"you got the indices of primers with mismtaches and their respective pairs\""
   ]
  },
  {
   "cell_type": "markdown",
   "metadata": {},
   "source": [
    "let us remove reads from mismatched primers(Masking). Those reads are associated with false iSNPs. After that, let us compute depth in masked and unmasked files"
   ]
  },
  {
   "cell_type": "code",
   "execution_count": 19,
   "metadata": {},
   "outputs": [
    {
     "name": "stdout",
     "output_type": "stream",
     "text": [
      "Writing to 22_japan_rem_GI.1.bad_are_masked.bam\n",
      "Number of references: 1\n",
      "Reference Name: cons_GI.2_outbreak2013k4\n",
      "Reference Length: 7442\n",
      "Using Region: cons_GI.2_outbreak2013k4\n",
      "Sorted By Coordinate\n",
      "Results:\n",
      "0 reads were removed.\n"
     ]
    }
   ],
   "source": [
    "%%bash\n",
    "\n",
    "ivar removereads -i 22_japan_GI.2.trimmed.sorted.bam -p 22_japan_GI.2.bad_are_masked.bam -t primer_mismatchers_indices.txt -b 22_japan_GI.2_primers.bed\n",
    "\n",
    "tput setaf 1 echo \"you removed reads from mismatched primers\"\n",
    "samtools sort -o 22_japan_GI.2.bad_are_masked.sorted.bam 22_japan_GI.2.bad_are_masked.bam \n",
    "samtools depth -a 22_japan_GI.2.bad_are_masked.sorted.bam > depth/22_japan_GI.2.bad_are_masked.sorted.depth"
   ]
  },
  {
   "cell_type": "markdown",
   "metadata": {},
   "source": [
    "Let us now plot depth for the masked and unmasked samples"
   ]
  },
  {
   "cell_type": "code",
   "execution_count": 22,
   "metadata": {},
   "outputs": [
    {
     "data": {
      "image/png": "[encoded data removed]",
      "text/plain": [
       "<Figure size 1080x360 with 1 Axes>"
      ]
     },
     "metadata": {
      "needs_background": "light"
     },
     "output_type": "display_data"
    }
   ],
   "source": [
    "os.chdir(\"/media/viro102/HD-ADU3/kte-data/sapo-ivar/test/outbreak_samples/GI.2/22_japan_2/depth\")\n",
    "import pandas as pd\n",
    "import matplotlib.pyplot as plt\n",
    "df_unmasked = pd.read_csv(\"22_japan_GI.2.trimmed.sorted.bam.depth\", sep = \"\\t\", names = [\"Ref\", \"Pos\", \"depth_unmask\"])\n",
    "df_masked = pd.read_csv(\"22_japan_GI.2.bad_are_masked.sorted.depth\", sep = \"\\t\", names = [\"Ref\", \"Pos\", \"depth_mask\"])\n",
    "\n",
    "ax = df_masked[\"depth_mask\"].plot(logy=True, label = \"Masked\", figsize = (15,5), alpha = 0.9)\n",
    "df_unmasked[\"depth_unmask\"].plot(logy=True, ax = ax, label =\"Unmasked\", alpha=0.9)\n",
    "plt.legend()\n",
    "plt.grid()\n",
    "plt.show()"
   ]
  },
  {
   "cell_type": "markdown",
   "metadata": {},
   "source": [
    "Let's now call iSNVs from the BAMS without reads from the masked amplicons as well as the amino acid consequence of each mutation"
   ]
  },
  {
   "cell_type": "code",
   "execution_count": 23,
   "metadata": {},
   "outputs": [],
   "source": [
    "os.chdir(\"/media/viro102/HD-ADU3/kte-data/sapo-ivar/test/outbreak_samples/GI.2/22_japan_2/\")\n"
   ]
  },
  {
   "cell_type": "code",
   "execution_count": 32,
   "metadata": {},
   "outputs": [
    {
     "name": "stdout",
     "output_type": "stream",
     "text": [
      "analysis is completed\n",
      "please exclude variants with depth <400 and count iSNV\n"
     ]
    },
    {
     "name": "stderr",
     "output_type": "stream",
     "text": [
      "[mpileup] 1 samples in 1 input files\n",
      "[mpileup] Max depth set to maximum value (2147483647)\n"
     ]
    }
   ],
   "source": [
    "%%bash\n",
    "\n",
    "samtools mpileup -A -d 0 --reference cons_GI.2_outbreak2013k4.fa -Q 0 22_japan_GI.2.bad_are_masked.sorted.bam | ivar variants -p 22_japan_GI.2_final -t 0.03 -r cons_GI.2_outbreak2013k4.fa -g cons_GI.2_outbreak2013k4.gff ; tput setaf 1 echo \"analysis is completed\"\n",
    "tput setaf 1 echo \"please exclude variants with depth <400 and count iSNV\""
   ]
  },
  {
   "cell_type": "markdown",
   "metadata": {},
   "source": [
    "show position of called variants"
   ]
  },
  {
   "cell_type": "code",
   "execution_count": 29,
   "metadata": {},
   "outputs": [
    {
     "data": {
      "text/html": [
       "<div>\n",
       "<style scoped>\n",
       "    .dataframe tbody tr th:only-of-type {\n",
       "        vertical-align: middle;\n",
       "    }\n",
       "\n",
       "    .dataframe tbody tr th {\n",
       "        vertical-align: top;\n",
       "    }\n",
       "\n",
       "    .dataframe thead th {\n",
       "        text-align: right;\n",
       "    }\n",
       "</style>\n",
       "<table border=\"1\" class=\"dataframe\">\n",
       "  <thead>\n",
       "    <tr style=\"text-align: right;\">\n",
       "      <th></th>\n",
       "      <th>REGION</th>\n",
       "      <th>POS</th>\n",
       "      <th>REF</th>\n",
       "      <th>ALT</th>\n",
       "      <th>REF_DP</th>\n",
       "      <th>REF_RV</th>\n",
       "      <th>REF_QUAL</th>\n",
       "      <th>ALT_DP</th>\n",
       "      <th>ALT_RV</th>\n",
       "      <th>ALT_QUAL</th>\n",
       "      <th>ALT_FREQ</th>\n",
       "      <th>TOTAL_DP</th>\n",
       "      <th>PVAL</th>\n",
       "      <th>PASS</th>\n",
       "      <th>GFF_FEATURE</th>\n",
       "      <th>REF_CODON</th>\n",
       "      <th>REF_AA</th>\n",
       "      <th>ALT_CODON</th>\n",
       "      <th>ALT_AA</th>\n",
       "      <th>AA_csq</th>\n",
       "    </tr>\n",
       "  </thead>\n",
       "  <tbody>\n",
       "    <tr>\n",
       "      <th>0</th>\n",
       "      <td>cons_GI.2_outbreak2013k4</td>\n",
       "      <td>972</td>\n",
       "      <td>C</td>\n",
       "      <td>T</td>\n",
       "      <td>2149</td>\n",
       "      <td>2042</td>\n",
       "      <td>37</td>\n",
       "      <td>303</td>\n",
       "      <td>292</td>\n",
       "      <td>34</td>\n",
       "      <td>0.123573</td>\n",
       "      <td>2452</td>\n",
       "      <td>6.962400e-96</td>\n",
       "      <td>True</td>\n",
       "      <td>NaN</td>\n",
       "      <td>GGC</td>\n",
       "      <td>G</td>\n",
       "      <td>GGT</td>\n",
       "      <td>G</td>\n",
       "      <td>Synonymous</td>\n",
       "    </tr>\n",
       "    <tr>\n",
       "      <th>1</th>\n",
       "      <td>cons_GI.2_outbreak2013k4</td>\n",
       "      <td>3543</td>\n",
       "      <td>G</td>\n",
       "      <td>A</td>\n",
       "      <td>9920</td>\n",
       "      <td>7694</td>\n",
       "      <td>42</td>\n",
       "      <td>856</td>\n",
       "      <td>840</td>\n",
       "      <td>25</td>\n",
       "      <td>0.079428</td>\n",
       "      <td>10777</td>\n",
       "      <td>2.451030e-166</td>\n",
       "      <td>True</td>\n",
       "      <td>NaN</td>\n",
       "      <td>GTG</td>\n",
       "      <td>V</td>\n",
       "      <td>GTA</td>\n",
       "      <td>V</td>\n",
       "      <td>Synonymous</td>\n",
       "    </tr>\n",
       "    <tr>\n",
       "      <th>2</th>\n",
       "      <td>cons_GI.2_outbreak2013k4</td>\n",
       "      <td>4962</td>\n",
       "      <td>C</td>\n",
       "      <td>T</td>\n",
       "      <td>17756</td>\n",
       "      <td>14999</td>\n",
       "      <td>41</td>\n",
       "      <td>1179</td>\n",
       "      <td>981</td>\n",
       "      <td>40</td>\n",
       "      <td>0.062246</td>\n",
       "      <td>18941</td>\n",
       "      <td>0.000000e+00</td>\n",
       "      <td>True</td>\n",
       "      <td>NaN</td>\n",
       "      <td>GCC</td>\n",
       "      <td>A</td>\n",
       "      <td>GCT</td>\n",
       "      <td>A</td>\n",
       "      <td>Synonymous</td>\n",
       "    </tr>\n",
       "    <tr>\n",
       "      <th>3</th>\n",
       "      <td>cons_GI.2_outbreak2013k4</td>\n",
       "      <td>5175</td>\n",
       "      <td>C</td>\n",
       "      <td>T</td>\n",
       "      <td>11306</td>\n",
       "      <td>2005</td>\n",
       "      <td>39</td>\n",
       "      <td>1046</td>\n",
       "      <td>21</td>\n",
       "      <td>38</td>\n",
       "      <td>0.084655</td>\n",
       "      <td>12356</td>\n",
       "      <td>7.040980e-315</td>\n",
       "      <td>True</td>\n",
       "      <td>NaN</td>\n",
       "      <td>TCC</td>\n",
       "      <td>S</td>\n",
       "      <td>TCT</td>\n",
       "      <td>S</td>\n",
       "      <td>Synonymous</td>\n",
       "    </tr>\n",
       "    <tr>\n",
       "      <th>4</th>\n",
       "      <td>cons_GI.2_outbreak2013k4</td>\n",
       "      <td>5302</td>\n",
       "      <td>C</td>\n",
       "      <td>A</td>\n",
       "      <td>10798</td>\n",
       "      <td>9743</td>\n",
       "      <td>39</td>\n",
       "      <td>595</td>\n",
       "      <td>466</td>\n",
       "      <td>39</td>\n",
       "      <td>0.052207</td>\n",
       "      <td>11397</td>\n",
       "      <td>7.510120e-169</td>\n",
       "      <td>True</td>\n",
       "      <td>NaN</td>\n",
       "      <td>CTG</td>\n",
       "      <td>L</td>\n",
       "      <td>ATG</td>\n",
       "      <td>M</td>\n",
       "      <td>Non-Synonymous</td>\n",
       "    </tr>\n",
       "  </tbody>\n",
       "</table>\n",
       "</div>"
      ],
      "text/plain": [
       "                     REGION   POS REF ALT  REF_DP  REF_RV  REF_QUAL  ALT_DP  \\\n",
       "0  cons_GI.2_outbreak2013k4   972   C   T    2149    2042        37     303   \n",
       "1  cons_GI.2_outbreak2013k4  3543   G   A    9920    7694        42     856   \n",
       "2  cons_GI.2_outbreak2013k4  4962   C   T   17756   14999        41    1179   \n",
       "3  cons_GI.2_outbreak2013k4  5175   C   T   11306    2005        39    1046   \n",
       "4  cons_GI.2_outbreak2013k4  5302   C   A   10798    9743        39     595   \n",
       "\n",
       "   ALT_RV  ALT_QUAL  ALT_FREQ  TOTAL_DP           PVAL  PASS  GFF_FEATURE  \\\n",
       "0     292        34  0.123573      2452   6.962400e-96  True          NaN   \n",
       "1     840        25  0.079428     10777  2.451030e-166  True          NaN   \n",
       "2     981        40  0.062246     18941   0.000000e+00  True          NaN   \n",
       "3      21        38  0.084655     12356  7.040980e-315  True          NaN   \n",
       "4     466        39  0.052207     11397  7.510120e-169  True          NaN   \n",
       "\n",
       "  REF_CODON REF_AA ALT_CODON ALT_AA          AA_csq  \n",
       "0       GGC      G       GGT      G      Synonymous  \n",
       "1       GTG      V       GTA      V      Synonymous  \n",
       "2       GCC      A       GCT      A      Synonymous  \n",
       "3       TCC      S       TCT      S      Synonymous  \n",
       "4       CTG      L       ATG      M  Non-Synonymous  "
      ]
     },
     "execution_count": 29,
     "metadata": {},
     "output_type": "execute_result"
    }
   ],
   "source": [
    "os.chdir(\"/media/viro102/HD-ADU3/kte-data/sapo-ivar/test/outbreak_samples/GI.2/22_japan_2/\")\n",
    "import pandas as pd\n",
    "import matplotlib.pyplot as plt\n",
    "import numpy as np\n",
    "rep_a = pd.read_csv(\"22_japan_GI.2_final.tsv\", sep=\"\\t\")\n",
    "rep_a[\"AA_csq\"] = np.where(rep_a[\"REF_AA\"] == rep_a[\"ALT_AA\"], \"Synonymous\", \"Non-Synonymous\")\n",
    "rep_a.head()"
   ]
  },
  {
   "cell_type": "code",
   "execution_count": 30,
   "metadata": {},
   "outputs": [
    {
     "data": {
      "text/html": [
       "<div>\n",
       "<style scoped>\n",
       "    .dataframe tbody tr th:only-of-type {\n",
       "        vertical-align: middle;\n",
       "    }\n",
       "\n",
       "    .dataframe tbody tr th {\n",
       "        vertical-align: top;\n",
       "    }\n",
       "\n",
       "    .dataframe thead th {\n",
       "        text-align: right;\n",
       "    }\n",
       "</style>\n",
       "<table border=\"1\" class=\"dataframe\">\n",
       "  <thead>\n",
       "    <tr style=\"text-align: right;\">\n",
       "      <th></th>\n",
       "      <th>REGION</th>\n",
       "      <th>POS</th>\n",
       "      <th>REF</th>\n",
       "      <th>ALT</th>\n",
       "      <th>REF_DP</th>\n",
       "      <th>REF_RV</th>\n",
       "      <th>REF_QUAL</th>\n",
       "      <th>ALT_DP</th>\n",
       "      <th>ALT_RV</th>\n",
       "      <th>ALT_QUAL</th>\n",
       "      <th>ALT_FREQ</th>\n",
       "      <th>TOTAL_DP</th>\n",
       "      <th>PVAL</th>\n",
       "      <th>PASS</th>\n",
       "      <th>GFF_FEATURE</th>\n",
       "      <th>REF_CODON</th>\n",
       "      <th>REF_AA</th>\n",
       "      <th>ALT_CODON</th>\n",
       "      <th>ALT_AA</th>\n",
       "      <th>AA_csq</th>\n",
       "    </tr>\n",
       "  </thead>\n",
       "  <tbody>\n",
       "    <tr>\n",
       "      <th>0</th>\n",
       "      <td>cons_GI.2_outbreak2013k4</td>\n",
       "      <td>972</td>\n",
       "      <td>C</td>\n",
       "      <td>T</td>\n",
       "      <td>2149</td>\n",
       "      <td>2042</td>\n",
       "      <td>37</td>\n",
       "      <td>303</td>\n",
       "      <td>292</td>\n",
       "      <td>34</td>\n",
       "      <td>0.123573</td>\n",
       "      <td>2452</td>\n",
       "      <td>6.962400e-96</td>\n",
       "      <td>True</td>\n",
       "      <td>NaN</td>\n",
       "      <td>GGC</td>\n",
       "      <td>G</td>\n",
       "      <td>GGT</td>\n",
       "      <td>G</td>\n",
       "      <td>Synonymous</td>\n",
       "    </tr>\n",
       "    <tr>\n",
       "      <th>1</th>\n",
       "      <td>cons_GI.2_outbreak2013k4</td>\n",
       "      <td>3543</td>\n",
       "      <td>G</td>\n",
       "      <td>A</td>\n",
       "      <td>9920</td>\n",
       "      <td>7694</td>\n",
       "      <td>42</td>\n",
       "      <td>856</td>\n",
       "      <td>840</td>\n",
       "      <td>25</td>\n",
       "      <td>0.079428</td>\n",
       "      <td>10777</td>\n",
       "      <td>2.451030e-166</td>\n",
       "      <td>True</td>\n",
       "      <td>NaN</td>\n",
       "      <td>GTG</td>\n",
       "      <td>V</td>\n",
       "      <td>GTA</td>\n",
       "      <td>V</td>\n",
       "      <td>Synonymous</td>\n",
       "    </tr>\n",
       "    <tr>\n",
       "      <th>2</th>\n",
       "      <td>cons_GI.2_outbreak2013k4</td>\n",
       "      <td>4962</td>\n",
       "      <td>C</td>\n",
       "      <td>T</td>\n",
       "      <td>17756</td>\n",
       "      <td>14999</td>\n",
       "      <td>41</td>\n",
       "      <td>1179</td>\n",
       "      <td>981</td>\n",
       "      <td>40</td>\n",
       "      <td>0.062246</td>\n",
       "      <td>18941</td>\n",
       "      <td>0.000000e+00</td>\n",
       "      <td>True</td>\n",
       "      <td>NaN</td>\n",
       "      <td>GCC</td>\n",
       "      <td>A</td>\n",
       "      <td>GCT</td>\n",
       "      <td>A</td>\n",
       "      <td>Synonymous</td>\n",
       "    </tr>\n",
       "    <tr>\n",
       "      <th>3</th>\n",
       "      <td>cons_GI.2_outbreak2013k4</td>\n",
       "      <td>5175</td>\n",
       "      <td>C</td>\n",
       "      <td>T</td>\n",
       "      <td>11306</td>\n",
       "      <td>2005</td>\n",
       "      <td>39</td>\n",
       "      <td>1046</td>\n",
       "      <td>21</td>\n",
       "      <td>38</td>\n",
       "      <td>0.084655</td>\n",
       "      <td>12356</td>\n",
       "      <td>7.040980e-315</td>\n",
       "      <td>True</td>\n",
       "      <td>NaN</td>\n",
       "      <td>TCC</td>\n",
       "      <td>S</td>\n",
       "      <td>TCT</td>\n",
       "      <td>S</td>\n",
       "      <td>Synonymous</td>\n",
       "    </tr>\n",
       "    <tr>\n",
       "      <th>4</th>\n",
       "      <td>cons_GI.2_outbreak2013k4</td>\n",
       "      <td>5302</td>\n",
       "      <td>C</td>\n",
       "      <td>A</td>\n",
       "      <td>10798</td>\n",
       "      <td>9743</td>\n",
       "      <td>39</td>\n",
       "      <td>595</td>\n",
       "      <td>466</td>\n",
       "      <td>39</td>\n",
       "      <td>0.052207</td>\n",
       "      <td>11397</td>\n",
       "      <td>7.510120e-169</td>\n",
       "      <td>True</td>\n",
       "      <td>NaN</td>\n",
       "      <td>CTG</td>\n",
       "      <td>L</td>\n",
       "      <td>ATG</td>\n",
       "      <td>M</td>\n",
       "      <td>Non-Synonymous</td>\n",
       "    </tr>\n",
       "    <tr>\n",
       "      <th>5</th>\n",
       "      <td>cons_GI.2_outbreak2013k4</td>\n",
       "      <td>6220</td>\n",
       "      <td>A</td>\n",
       "      <td>G</td>\n",
       "      <td>7377</td>\n",
       "      <td>5476</td>\n",
       "      <td>39</td>\n",
       "      <td>1509</td>\n",
       "      <td>1485</td>\n",
       "      <td>37</td>\n",
       "      <td>0.169799</td>\n",
       "      <td>8887</td>\n",
       "      <td>0.000000e+00</td>\n",
       "      <td>True</td>\n",
       "      <td>NaN</td>\n",
       "      <td>ATC</td>\n",
       "      <td>I</td>\n",
       "      <td>GTC</td>\n",
       "      <td>V</td>\n",
       "      <td>Non-Synonymous</td>\n",
       "    </tr>\n",
       "  </tbody>\n",
       "</table>\n",
       "</div>"
      ],
      "text/plain": [
       "                     REGION   POS REF ALT  REF_DP  REF_RV  REF_QUAL  ALT_DP  \\\n",
       "0  cons_GI.2_outbreak2013k4   972   C   T    2149    2042        37     303   \n",
       "1  cons_GI.2_outbreak2013k4  3543   G   A    9920    7694        42     856   \n",
       "2  cons_GI.2_outbreak2013k4  4962   C   T   17756   14999        41    1179   \n",
       "3  cons_GI.2_outbreak2013k4  5175   C   T   11306    2005        39    1046   \n",
       "4  cons_GI.2_outbreak2013k4  5302   C   A   10798    9743        39     595   \n",
       "5  cons_GI.2_outbreak2013k4  6220   A   G    7377    5476        39    1509   \n",
       "\n",
       "   ALT_RV  ALT_QUAL  ALT_FREQ  TOTAL_DP           PVAL  PASS  GFF_FEATURE  \\\n",
       "0     292        34  0.123573      2452   6.962400e-96  True          NaN   \n",
       "1     840        25  0.079428     10777  2.451030e-166  True          NaN   \n",
       "2     981        40  0.062246     18941   0.000000e+00  True          NaN   \n",
       "3      21        38  0.084655     12356  7.040980e-315  True          NaN   \n",
       "4     466        39  0.052207     11397  7.510120e-169  True          NaN   \n",
       "5    1485        37  0.169799      8887   0.000000e+00  True          NaN   \n",
       "\n",
       "  REF_CODON REF_AA ALT_CODON ALT_AA          AA_csq  \n",
       "0       GGC      G       GGT      G      Synonymous  \n",
       "1       GTG      V       GTA      V      Synonymous  \n",
       "2       GCC      A       GCT      A      Synonymous  \n",
       "3       TCC      S       TCT      S      Synonymous  \n",
       "4       CTG      L       ATG      M  Non-Synonymous  \n",
       "5       ATC      I       GTC      V  Non-Synonymous  "
      ]
     },
     "execution_count": 30,
     "metadata": {},
     "output_type": "execute_result"
    }
   ],
   "source": [
    " rep_b = rep_a[rep_a['TOTAL_DP'] >= 400]\n",
    "rep_b"
   ]
  },
  {
   "cell_type": "code",
   "execution_count": 33,
   "metadata": {},
   "outputs": [
    {
     "data": {
      "image/png": "[encoded data removed]",
      "text/plain": [
       "<Figure size 1023.5x360 with 1 Axes>"
      ]
     },
     "metadata": {
      "needs_background": "light"
     },
     "output_type": "display_data"
    }
   ],
   "source": [
    "import numpy as np\n",
    "import seaborn as sns\n",
    "import matplotlib.pyplot as plt\n",
    "rep_b=rep_a[rep_a['TOTAL_DP'] >= 400]\n",
    "sns.lmplot( x=\"POS\", y=\"ALT_FREQ\", data=rep_b, fit_reg=False, hue='AA_csq',aspect=20/8, \n",
    "           legend=True, legend_out=True)\n",
    "plt.xlabel('Genome position', fontsize=15)\n",
    "plt.ylabel('iSNV frequency', fontsize=15)\n",
    "plt.title('iSNVs in sample 22_japan', fontsize=20)\n",
    "plt.grid(axis=\"both\")\n",
    "plt.show()"
   ]
  },
  {
   "cell_type": "code",
   "execution_count": 34,
   "metadata": {},
   "outputs": [
    {
     "name": "stdout",
     "output_type": "stream",
     "text": [
      "snps in non structural region\n",
      "(1, 20)\n",
      "snps in capsid\n",
      "(3, 20)\n"
     ]
    }
   ],
   "source": [
    "# let us filter snps in non structural region [1-5099]\n",
    "print(\"snps in non structural region\")\n",
    "print((rep_b[(rep_b['POS'] > 3610) & (rep_b['POS'] < 5099)]).shape)\n",
    "# let us filter snps in complete capsid[5010-6800]\n",
    "print(\"snps in capsid\")\n",
    "print((rep_b[(rep_b['POS'] > 5100) & (rep_b['POS'] < 7350)]).shape)"
   ]
  },
  {
   "cell_type": "code",
   "execution_count": 38,
   "metadata": {},
   "outputs": [
    {
     "data": {
      "text/html": [
       "<div>\n",
       "<style scoped>\n",
       "    .dataframe tbody tr th:only-of-type {\n",
       "        vertical-align: middle;\n",
       "    }\n",
       "\n",
       "    .dataframe tbody tr th {\n",
       "        vertical-align: top;\n",
       "    }\n",
       "\n",
       "    .dataframe thead th {\n",
       "        text-align: right;\n",
       "    }\n",
       "</style>\n",
       "<table border=\"1\" class=\"dataframe\">\n",
       "  <thead>\n",
       "    <tr style=\"text-align: right;\">\n",
       "      <th></th>\n",
       "      <th>Ref</th>\n",
       "      <th>Pos</th>\n",
       "      <th>depth_mask</th>\n",
       "      <th>400cov</th>\n",
       "      <th>100cov</th>\n",
       "    </tr>\n",
       "  </thead>\n",
       "  <tbody>\n",
       "    <tr>\n",
       "      <th>0</th>\n",
       "      <td>cons_GI.2_outbreak2013k4</td>\n",
       "      <td>1</td>\n",
       "      <td>0</td>\n",
       "      <td>no</td>\n",
       "      <td>no</td>\n",
       "    </tr>\n",
       "    <tr>\n",
       "      <th>1</th>\n",
       "      <td>cons_GI.2_outbreak2013k4</td>\n",
       "      <td>2</td>\n",
       "      <td>0</td>\n",
       "      <td>no</td>\n",
       "      <td>no</td>\n",
       "    </tr>\n",
       "    <tr>\n",
       "      <th>2</th>\n",
       "      <td>cons_GI.2_outbreak2013k4</td>\n",
       "      <td>3</td>\n",
       "      <td>0</td>\n",
       "      <td>no</td>\n",
       "      <td>no</td>\n",
       "    </tr>\n",
       "    <tr>\n",
       "      <th>3</th>\n",
       "      <td>cons_GI.2_outbreak2013k4</td>\n",
       "      <td>4</td>\n",
       "      <td>0</td>\n",
       "      <td>no</td>\n",
       "      <td>no</td>\n",
       "    </tr>\n",
       "    <tr>\n",
       "      <th>4</th>\n",
       "      <td>cons_GI.2_outbreak2013k4</td>\n",
       "      <td>5</td>\n",
       "      <td>0</td>\n",
       "      <td>no</td>\n",
       "      <td>no</td>\n",
       "    </tr>\n",
       "  </tbody>\n",
       "</table>\n",
       "</div>"
      ],
      "text/plain": [
       "                        Ref  Pos  depth_mask 400cov 100cov\n",
       "0  cons_GI.2_outbreak2013k4    1           0     no     no\n",
       "1  cons_GI.2_outbreak2013k4    2           0     no     no\n",
       "2  cons_GI.2_outbreak2013k4    3           0     no     no\n",
       "3  cons_GI.2_outbreak2013k4    4           0     no     no\n",
       "4  cons_GI.2_outbreak2013k4    5           0     no     no"
      ]
     },
     "execution_count": 38,
     "metadata": {},
     "output_type": "execute_result"
    }
   ],
   "source": [
    "# what percentage of this masked genome (without reads from mismached primers) has depth >400 ? \n",
    "os.chdir(\"/media/viro102/HD-ADU3/kte-data/sapo-ivar/test/outbreak_samples/GI.2/22_japan_2/depth\")\n",
    "df_masked = pd.read_csv(\"22_japan_GI.2.bad_are_masked.sorted.depth\", sep = \"\\t\", names = [\"Ref\", \"Pos\", \"depth_mask\"])\n",
    "df_masked['400cov'] = np.where(df_masked['depth_mask']>=400, 'yes', 'no')\n",
    "df_masked['100cov'] = np.where(df_masked['depth_mask']>=100, 'yes', 'no')\n",
    "df_masked.head()"
   ]
  },
  {
   "cell_type": "code",
   "execution_count": 39,
   "metadata": {},
   "outputs": [
    {
     "name": "stdout",
     "output_type": "stream",
     "text": [
      "(7442, 5)\n",
      "col_0   Breadth 100coverage\n",
      "100cov                     \n",
      "no                      128\n",
      "yes                    7314\n",
      "col_0   Beadth above 400coverage\n",
      "400cov                          \n",
      "no                           210\n",
      "yes                         7232\n"
     ]
    }
   ],
   "source": [
    "# What proportion of the genome is has a depth of coverage of at least >100 reads, >400 (Breadth ofcoverage)\n",
    "my_tab1 = pd.crosstab(index=df_masked[\"100cov\"],  # Make a crosstab\n",
    "                              columns=\"Breadth 100coverage\")      # Name the count column\n",
    "my_tab2 = pd.crosstab(index=df_masked[\"400cov\"],  # Make a crosstab\n",
    "                              columns=\"Beadth above 400coverage\")      # Name the count column\n",
    "shape=df_masked.shape\n",
    "print(shape)\n",
    "print(my_tab1); print(my_tab2)"
   ]
  },
  {
   "cell_type": "code",
   "execution_count": 41,
   "metadata": {},
   "outputs": [
    {
     "data": {
      "text/plain": [
       "97.1781779091642"
      ]
     },
     "execution_count": 41,
     "metadata": {},
     "output_type": "execute_result"
    }
   ],
   "source": [
    "7232/7442 * 100 # proportion of genome covered >400"
   ]
  },
  {
   "cell_type": "code",
   "execution_count": 40,
   "metadata": {},
   "outputs": [
    {
     "data": {
      "text/plain": [
       "98.28003224939532"
      ]
     },
     "execution_count": 40,
     "metadata": {},
     "output_type": "execute_result"
    }
   ],
   "source": [
    "7314/7442 * 100 # proportion of genome covered >100"
   ]
  }
 ],
 "metadata": {
  "kernelspec": {
   "display_name": "Python 3",
   "language": "python",
   "name": "python3"
  },
  "language_info": {
   "codemirror_mode": {
    "name": "ipython",
    "version": 3
   },
   "file_extension": ".py",
   "mimetype": "text/x-python",
   "name": "python",
   "nbconvert_exporter": "python",
   "pygments_lexer": "ipython3",
   "version": "3.7.6"
  }
 },
 "nbformat": 4,
 "nbformat_minor": 4
}

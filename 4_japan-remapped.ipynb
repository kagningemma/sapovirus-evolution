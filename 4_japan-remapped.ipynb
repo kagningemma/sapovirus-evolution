{
 "cells": [
  {
   "cell_type": "markdown",
   "metadata": {},
   "source": [
    "## Secondary analysis of a sample tested positive to the sapovirus GI.1 during a non-foodborne outbreak in Miyagi-Japan"
   ]
  },
  {
   "cell_type": "markdown",
   "metadata": {},
   "source": [
    "This is a secondary analysis, following initial analysis aiming at obtaining the consensus sequence. After getting the consensu sequence using a GenBank reference, this time, we will determine the mutations in reads, with reference to the the 2013k9 outbreak consensus sequence"
   ]
  },
  {
   "cell_type": "code",
   "execution_count": 37,
   "metadata": {},
   "outputs": [],
   "source": [
    "import os\n",
    "os.chdir(\"/media/viro102/HD-ADU3/kte-data/sapo-ivar/test/outbreak_samples/GI.1/remapped/2015k4/4_japan\")"
   ]
  },
  {
   "cell_type": "markdown",
   "metadata": {},
   "source": [
    "### 1-index reference for mapping"
   ]
  },
  {
   "cell_type": "code",
   "execution_count": 38,
   "metadata": {},
   "outputs": [
    {
     "name": "stderr",
     "output_type": "stream",
     "text": [
      "[bwa_index] Pack FASTA... 0.00 sec\n",
      "[bwa_index] Construct BWT for the packed sequence...\n",
      "[bwa_index] 0.00 seconds elapse.\n",
      "[bwa_index] Update BWT... 0.00 sec\n",
      "[bwa_index] Pack forward-only FASTA... 0.00 sec\n",
      "[bwa_index] Construct SA from BWT and Occ... 0.00 sec\n",
      "[main] Version: 0.7.17-r1188\n",
      "[main] CMD: bwa index cons_2015k4.fa\n",
      "[main] Real time: 0.621 sec; CPU: 0.009 sec\n"
     ]
    }
   ],
   "source": [
    "%%bash\n",
    "# index ref\n",
    "bwa index cons_2015k4.fa"
   ]
  },
  {
   "cell_type": "markdown",
   "metadata": {},
   "source": [
    "### 2-Map reads to reference"
   ]
  },
  {
   "cell_type": "code",
   "execution_count": 39,
   "metadata": {},
   "outputs": [
    {
     "name": "stdout",
     "output_type": "stream",
     "text": [
      "mapping completed\n"
     ]
    },
    {
     "name": "stderr",
     "output_type": "stream",
     "text": [
      "[M::bwa_idx_load_from_disk] read 0 ALT contigs\n",
      "[M::process] read 1222684 sequences (157402932 bp)...\n",
      "[M::mem_pestat] # candidate unique pairs for (FF, FR, RF, RR): (122, 578513, 123, 129)\n",
      "[M::mem_pestat] analyzing insert size distribution for orientation FF...\n",
      "[M::mem_pestat] (25, 50, 75) percentile: (888, 1686, 2798)\n",
      "[M::mem_pestat] low and high boundaries for computing mean and std.dev: (1, 6618)\n",
      "[M::mem_pestat] mean and std.dev: (1994.64, 1456.32)\n",
      "[M::mem_pestat] low and high boundaries for proper pairs: (1, 8528)\n",
      "[M::mem_pestat] analyzing insert size distribution for orientation FR...\n",
      "[M::mem_pestat] (25, 50, 75) percentile: (74, 114, 169)\n",
      "[M::mem_pestat] low and high boundaries for computing mean and std.dev: (1, 359)\n",
      "[M::mem_pestat] mean and std.dev: (127.05, 68.44)\n",
      "[M::mem_pestat] low and high boundaries for proper pairs: (1, 454)\n",
      "[M::mem_pestat] analyzing insert size distribution for orientation RF...\n",
      "[M::mem_pestat] (25, 50, 75) percentile: (266, 1048, 3015)\n",
      "[M::mem_pestat] low and high boundaries for computing mean and std.dev: (1, 8513)\n",
      "[M::mem_pestat] mean and std.dev: (1671.85, 1663.46)\n",
      "[M::mem_pestat] low and high boundaries for proper pairs: (1, 11262)\n",
      "[M::mem_pestat] analyzing insert size distribution for orientation RR...\n",
      "[M::mem_pestat] (25, 50, 75) percentile: (602, 1750, 3052)\n",
      "[M::mem_pestat] low and high boundaries for computing mean and std.dev: (1, 7952)\n",
      "[M::mem_pestat] mean and std.dev: (2050.29, 1652.42)\n",
      "[M::mem_pestat] low and high boundaries for proper pairs: (1, 10402)\n",
      "[M::mem_pestat] skip orientation FF\n",
      "[M::mem_pestat] skip orientation RF\n",
      "[M::mem_pestat] skip orientation RR\n",
      "[M::mem_process_seqs] Processed 1222684 reads in 98.476 CPU sec, 15.649 real sec\n",
      "[main] Version: 0.7.17-r1188\n",
      "[main] CMD: bwa mem -t 32 cons_2015k4.fa 4_S4_L001_R1_001.fastq.gz 4_S4_L001_R2_001.fastq.gz\n",
      "[main] Real time: 35.111 sec; CPU: 105.891 sec\n"
     ]
    }
   ],
   "source": [
    "%%bash\n",
    "bwa mem -t 32  cons_2015k4.fa  *R1_001.fastq.gz *R2_001.fastq.gz | samtools view -b -F 4 -F 2048 | samtools sort -o 4_japan_GI.1_a.sorted.bam\n",
    "echo \"mapping completed\""
   ]
  },
  {
   "cell_type": "code",
   "execution_count": 40,
   "metadata": {},
   "outputs": [
    {
     "name": "stdout",
     "output_type": "stream",
     "text": [
      "4_japan_GI.1_a.sorted.bam\n",
      "4_japan_re_GI.1_final.tsv\n",
      "4_S4_L001_R1_001.fastq.gz\n",
      "4_S4_L001_R2_001.fastq.gz\n",
      "cons_2015k4.fa\n",
      "cons_2015k4.fa.amb\n",
      "cons_2015k4.fa.ann\n",
      "cons_2015k4.fa.bwt\n",
      "cons_2015k4.fa.pac\n",
      "cons_2015k4.fa.sa\n",
      "cons_2015k4.gff\n",
      "Primalprimers_SaVGI.1_batch2_ok.fa\n",
      "Primal-primers_SaVGI.1pairs_ok.tsv\n",
      "script-ivar-4_japan.sh\n"
     ]
    }
   ],
   "source": [
    "%%bash\n",
    "ls"
   ]
  },
  {
   "cell_type": "code",
   "execution_count": 41,
   "metadata": {},
   "outputs": [
    {
     "name": "stdout",
     "output_type": "stream",
     "text": [
      "1167767 + 0 in total (QC-passed reads + QC-failed reads)\n",
      "0 + 0 secondary\n",
      "0 + 0 supplementary\n",
      "0 + 0 duplicates\n",
      "1167767 + 0 mapped (100.00% : N/A)\n",
      "1167767 + 0 paired in sequencing\n",
      "584392 + 0 read1\n",
      "583375 + 0 read2\n",
      "1155928 + 0 properly paired (98.99% : N/A)\n",
      "1162590 + 0 with itself and mate mapped\n",
      "5177 + 0 singletons (0.44% : N/A)\n",
      "0 + 0 with mate mapped to a different chr\n",
      "0 + 0 with mate mapped to a different chr (mapQ>=5)\n"
     ]
    }
   ],
   "source": [
    "%%bash\n",
    "samtools flagstat 4_japan_GI.1_a.sorted.bam"
   ]
  },
  {
   "cell_type": "markdown",
   "metadata": {},
   "source": [
    "### 3-Let's now trim-off the primer sequences using ivar. \n",
    "In order to do this we need three files: (1) a BED file with primer coordinates. We will generate this by aligning the primer sequences to the reference sequence and then using bedtools to create the BED file. We also neet (2) Aligned and (3) sorted BAM file generate in the previous step.\n"
   ]
  },
  {
   "cell_type": "code",
   "execution_count": 42,
   "metadata": {},
   "outputs": [],
   "source": [
    "# map primers to the reference genome to identify primers coordinates"
   ]
  },
  {
   "cell_type": "code",
   "execution_count": 43,
   "metadata": {},
   "outputs": [
    {
     "name": "stdout",
     "output_type": "stream",
     "text": [
      "bed file with primers locations on reference sequence generated\n"
     ]
    },
    {
     "name": "stderr",
     "output_type": "stream",
     "text": [
      "[M::bwa_idx_load_from_disk] read 0 ALT contigs\n",
      "[M::process] read 68 sequences (1520 bp)...\n",
      "[M::mem_process_seqs] Processed 68 reads in 0.014 CPU sec, 0.014 real sec\n",
      "[main] Version: 0.7.17-r1188\n",
      "[main] CMD: bwa mem -k 5 -T 16 cons_2015k4.fa Primalprimers_SaVGI.1_batch2_ok.fa\n",
      "[main] Real time: 0.016 sec; CPU: 0.017 sec\n"
     ]
    }
   ],
   "source": [
    "%%bash\n",
    "bwa mem -k 5 -T 16 cons_2015k4.fa Primalprimers_SaVGI.1_batch2_ok.fa  | samtools view -b -F 4 > Primalprimers_SaVGI.1_batch2_ok.fa.bam\n",
    "bedtools bamtobed -i Primalprimers_SaVGI.1_batch2_ok.fa.bam > 4_japan_GI.1_primers.bed\n",
    "echo \"bed file with primers locations on reference sequence generated\""
   ]
  },
  {
   "cell_type": "code",
   "execution_count": 44,
   "metadata": {},
   "outputs": [],
   "source": [
    "# We will now use this BED file as input to ivar to trim primer sequences\n",
    "\n",
    "# Note that this BED file has to be generated only once for a reference sequence."
   ]
  },
  {
   "cell_type": "code",
   "execution_count": 45,
   "metadata": {},
   "outputs": [
    {
     "name": "stdout",
     "output_type": "stream",
     "text": [
      "Found 58 primers in BED file\n",
      "Amplicons detected: \n",
      "Building BAM index\n",
      "\n",
      "Number of references in file: 1\n",
      "cons_2015k4\n",
      "Using Region: cons_2015k4\n",
      "\n",
      "Found 1167767 mapped reads\n",
      "Found 0 unmapped reads\n",
      "Sorted By Coordinate\n",
      "-------\n",
      "Processed 10% reads ... \n",
      "Processed 20% reads ... \n",
      "Processed 30% reads ... \n",
      "Processed 40% reads ... \n",
      "Processed 50% reads ... \n",
      "Processed 60% reads ... \n",
      "Processed 70% reads ... \n",
      "Processed 80% reads ... \n",
      "Processed 90% reads ... \n",
      "Processed 100% reads ... \n",
      "\n",
      "-------\n",
      "Results: \n",
      "Primer Name\tRead Count\n",
      "KTESAVG11_1_LEFT\t0\n",
      "KTESAVG11_1_RIGHT\t1603\n",
      "KTESAVG11_2_LEFT\t1273\n",
      "KTESAVG11_3_RIGHT\t4\n",
      "KTESAVG11_4_LEFT\t759\n",
      "KTESAVG11_4_RIGHT\t1825\n",
      "KTESAVG11_5_LEFT\t2955\n",
      "KTESAVG11_5_RIGHT\t1921\n",
      "KTESAVG11_6_RIGHT\t844\n",
      "KTESAVG11_7_LEFT\t1261\n",
      "KTESAVG11_8_LEFT\t2678\n",
      "KTESAVG11_8_RIGHT\t5543\n",
      "KTESAVG11_9_LEFT\t4878\n",
      "KTESAVG11_9_RIGHT\t3624\n",
      "KTESAVG11_11_LEFT\t4854\n",
      "KTESAVG11_11_RIGHT\t5576\n",
      "KTESAVG11_12_RIGHT\t6808\n",
      "KTESAVG11_13_LEFT\t6677\n",
      "KTESAVG11_13_RIGHT\t9728\n",
      "KTESAVG11_14_LEFT\t3123\n",
      "KTESAVG11_14_RIGHT\t2224\n",
      "KTESAVG11_15_RIGHT\t1264\n",
      "KTESAVG11_16_RIGHT\t4472\n",
      "KTESAVG11_17_LEFT\t4945\n",
      "KTESAVG11_17_RIGHT\t8547\n",
      "KTESAVG11_18_LEFT\t16792\n",
      "KTESAVG11_18_RIGHT\t12293\n",
      "KTESAVG11_19_LEFT\t12535\n",
      "KTESAVG11_19_RIGHT\t23285\n",
      "KTESAVG11_20_LEFT\t19914\n",
      "KTESAVG11_20_RIGHT\t10271\n",
      "KTESAVG11_21_LEFT\t13206\n",
      "KTESAVG11_21_RIGHT\t8644\n",
      "KTESAVG11_22_RIGHT\t5117\n",
      "KTESAVG11_23_LEFT\t2981\n",
      "KTESAVG11_23_RIGHT\t11701\n",
      "KTESAVG11_24_LEFT\t17359\n",
      "KTESAVG11_24_RIGHT\t18555\n",
      "KTESAVG11_25_LEFT\t4392\n",
      "KTESAVG11_25_RIGHT\t8138\n",
      "GI1batch4_1_LEFT\t3959\n",
      "GI1batch4_1_RIGHT\t3588\n",
      "GI1batch4_2_LEFT\t3469\n",
      "GI1batch4_2_RIGHT\t4569\n",
      "GI1batch4_3_LEFT\t4578\n",
      "GI1batch4_3_RIGHT\t6175\n",
      "GI1batch4_4_LEFT\t10166\n",
      "GI1batch4_4_RIGHT\t11017\n",
      "GI1batch4_5_LEFT\t5260\n",
      "GI1batch4_5_RIGHT\t4982\n",
      "GI1batch4_6_LEFT\t10709\n",
      "GI1batch4_6_RIGHT\t6998\n",
      "GI1batch4_7_LEFT\t10673\n",
      "GI1batch4_7_RIGHT\t0\n",
      "GI1batch4_8_LEFT\t19860\n",
      "GI1batch4_8_RIGHT\t6946\n",
      "GI1batch4_9_LEFT\t10700\n",
      "GI1batch4_9_RIGHT\t4482\n",
      "\n",
      "Trimmed primers from 30.37% (354682) of reads.\n",
      "4.97% (58075) of reads were quality trimmed below the minimum length of 30 bp and were not written to file.\n",
      "66.85% (780667) of reads that started outside of primer regions were not written to file\n",
      "90.72% (1059394) of reads had their insert size smaller than their read length\n",
      "primers trimming complete\n",
      "Sorted and indexed trimmed BAM file\n"
     ]
    }
   ],
   "source": [
    "%%bash\n",
    "ivar trim -b 4_japan_GI.1_primers.bed -p 4_japan_GI.1.trimmed -i 4_japan_GI.1_a.sorted.bam\n",
    "echo \"primers trimming complete\"\n",
    "\n",
    "# Sort and index trimmed BAM file.\n",
    "samtools sort -o 4_japan_GI.1.trimmed.sorted.bam 4_japan_GI.1.trimmed.bam ; samtools index 4_japan_GI.1.trimmed.sorted.bam\n",
    "echo \"Sorted and indexed trimmed BAM file\"\n"
   ]
  },
  {
   "cell_type": "code",
   "execution_count": 46,
   "metadata": {
    "scrolled": true
   },
   "outputs": [
    {
     "name": "stdout",
     "output_type": "stream",
     "text": [
      "329025 + 0 in total (QC-passed reads + QC-failed reads)\n",
      "0 + 0 secondary\n",
      "0 + 0 supplementary\n",
      "0 + 0 duplicates\n",
      "329025 + 0 mapped (100.00% : N/A)\n",
      "329025 + 0 paired in sequencing\n",
      "168900 + 0 read1\n",
      "160125 + 0 read2\n",
      "327373 + 0 properly paired (99.50% : N/A)\n",
      "328163 + 0 with itself and mate mapped\n",
      "862 + 0 singletons (0.26% : N/A)\n",
      "0 + 0 with mate mapped to a different chr\n",
      "0 + 0 with mate mapped to a different chr (mapQ>=5)\n"
     ]
    }
   ],
   "source": [
    "%%bash\n",
    "samtools flagstat 4_japan_GI.1.trimmed.sorted.bam"
   ]
  },
  {
   "cell_type": "markdown",
   "metadata": {},
   "source": [
    "### 4-Let's quicky take a look at the depth of the trimmed vs untrimmed BAM file. We'll extract the depth using the samtools depth command.\n"
   ]
  },
  {
   "cell_type": "code",
   "execution_count": 47,
   "metadata": {},
   "outputs": [
    {
     "name": "stdout",
     "output_type": "stream",
     "text": [
      "Please plot the depth per position\n"
     ]
    }
   ],
   "source": [
    "%%bash\n",
    "mkdir depth\n",
    "samtools depth -a 4_japan_GI.1.trimmed.sorted.bam > depth/4_japan_GI.1.trimmed.sorted.bam.depth ; samtools depth -a 4_japan_GI.1_a.sorted.bam > depth/4_japan_GI.1.sorted.bam.depth\n",
    "echo \"Please plot the depth per position\""
   ]
  },
  {
   "cell_type": "code",
   "execution_count": 48,
   "metadata": {},
   "outputs": [],
   "source": [
    "## Plot of the depth per position"
   ]
  },
  {
   "cell_type": "code",
   "execution_count": 49,
   "metadata": {},
   "outputs": [
    {
     "data": {
      "image/png": "[encoded data removed]",
      "text/plain": [
       "<Figure size 1080x360 with 1 Axes>"
      ]
     },
     "metadata": {
      "needs_background": "light"
     },
     "output_type": "display_data"
    }
   ],
   "source": [
    "os.chdir(\"/media/viro102/HD-ADU3/kte-data/sapo-ivar/test/outbreak_samples/GI.1/remapped/2015k4/4_japan/depth\")\n",
    "import pandas as pd\n",
    "import matplotlib.pyplot as plt\n",
    "df_trimmed = pd.read_csv(\"4_japan_GI.1.trimmed.sorted.bam.depth\", sep = \"\\t\", names = [\"Ref\", \"Pos\", \"depth_t\"])\n",
    "df_untrimmed = pd.read_csv(\"4_japan_GI.1.sorted.bam.depth\", sep = \"\\t\", names = [\"Ref\", \"Pos\", \"depth_unt\"])\n",
    "\n",
    "ax = df_trimmed[\"depth_t\"].plot(logy=True, label = \"Trimmed\", figsize = (15,5), alpha = 0.9)\n",
    "df_untrimmed[\"depth_unt\"].plot(logy=True, ax = ax, label =\"Untrimmed\", alpha=0.9)\n",
    "plt.legend()\n",
    "plt.grid()\n",
    "plt.show()"
   ]
  },
  {
   "cell_type": "markdown",
   "metadata": {},
   "source": [
    "### 5-Let us identify primer sequences that might have a mismatch with the consensus sequence to ensure that we remove reads from any amplicons derived from those primers; Otherwise, it might bias the iSNV frequency due to varying primer binding effeciency"
   ]
  },
  {
   "cell_type": "code",
   "execution_count": 50,
   "metadata": {},
   "outputs": [],
   "source": [
    "#To that end, we have to : \n",
    "\n",
    "#Call consensus on merged BAM file (If the sequencing of each technical replicate was done separately).\n",
    "\n",
    "#Align primer sequences to consensus after creating a bwa index from the consensus sequence called."
   ]
  },
  {
   "cell_type": "code",
   "execution_count": 51,
   "metadata": {},
   "outputs": [],
   "source": [
    "os.chdir(\"/media/viro102/HD-ADU3/kte-data/sapo-ivar/test/outbreak_samples/GI.1/remapped/2015k4/4_japan\")"
   ]
  },
  {
   "cell_type": "code",
   "execution_count": 52,
   "metadata": {},
   "outputs": [
    {
     "name": "stdout",
     "output_type": "stream",
     "text": [
      "Minimum Quality: 20\n",
      "Threshold: 0\n",
      "Minimum depth: 10\n",
      "Regions with depth less than minimum depth covered by: N\n",
      "Reference length: 6820\n",
      "Positions with 0 depth: 0\n",
      "Positions with depth below 10: 29\n",
      "consensus called on BAM file.\n"
     ]
    },
    {
     "name": "stderr",
     "output_type": "stream",
     "text": [
      "[mpileup] 1 samples in 1 input files\n",
      "[mpileup] Max depth set to maximum value (2147483647)\n"
     ]
    }
   ],
   "source": [
    "%%bash\n",
    "# a-call consensus\n",
    "samtools mpileup -A -d 0 -Q 0 4_japan_GI.1.trimmed.sorted.bam  | ivar consensus -p 4_japan_GI.1.consensus\n",
    "echo \"consensus called on BAM file.\"\n"
   ]
  },
  {
   "cell_type": "code",
   "execution_count": 53,
   "metadata": {},
   "outputs": [
    {
     "name": "stdout",
     "output_type": "stream",
     "text": [
      "primers mapped to consensus\n"
     ]
    },
    {
     "name": "stderr",
     "output_type": "stream",
     "text": [
      "[bwa_index] Pack FASTA... 0.00 sec\n",
      "[bwa_index] Construct BWT for the packed sequence...\n",
      "[bwa_index] 0.00 seconds elapse.\n",
      "[bwa_index] Update BWT... 0.00 sec\n",
      "[bwa_index] Pack forward-only FASTA... 0.00 sec\n",
      "[bwa_index] Construct SA from BWT and Occ... 0.00 sec\n",
      "[main] Version: 0.7.17-r1188\n",
      "[main] CMD: bwa index -p 4_japan_GI.1.consensus 4_japan_GI.1.consensus.fa\n",
      "[main] Real time: 0.471 sec; CPU: 0.009 sec\n",
      "[M::bwa_idx_load_from_disk] read 0 ALT contigs\n",
      "[M::process] read 68 sequences (1520 bp)...\n",
      "[M::mem_process_seqs] Processed 68 reads in 0.018 CPU sec, 0.017 real sec\n",
      "[main] Version: 0.7.17-r1188\n",
      "[main] CMD: bwa mem -k 5 -T 16 4_japan_GI.1.consensus Primalprimers_SaVGI.1_batch2_ok.fa\n",
      "[main] Real time: 0.020 sec; CPU: 0.021 sec\n"
     ]
    }
   ],
   "source": [
    "%%bash\n",
    "# Map primers to the indexed consensus sequence\n",
    "bwa index -p 4_japan_GI.1.consensus 4_japan_GI.1.consensus.fa\n",
    "bwa mem -k 5 -T 16 4_japan_GI.1.consensus Primalprimers_SaVGI.1_batch2_ok.fa  | samtools view -bS -F 4 | samtools sort -o 4_japan_GI.1_primers_consensus.bam\n",
    "\n",
    "echo \"primers mapped to consensus\""
   ]
  },
  {
   "cell_type": "code",
   "execution_count": 54,
   "metadata": {},
   "outputs": [
    {
     "name": "stdout",
     "output_type": "stream",
     "text": [
      "A GFF file containing the open reading frames (ORFs) has not been provided. Amino acid translation will not be done.\n",
      "A reference sequence has not been supplied. Amino acid translation will not be done.\n",
      "iSNVs on this initial BAM (without removal of reads from mismached primers) called at a minimum threshold of 3%\n"
     ]
    },
    {
     "name": "stderr",
     "output_type": "stream",
     "text": [
      "[mpileup] 1 samples in 1 input files\n",
      "[mpileup] Max depth set to maximum value (2147483647)\n"
     ]
    }
   ],
   "source": [
    "%%bash\n",
    "samtools mpileup -A -d 0 --reference 4_japan_GI.1.consensus.fa -B -Q 0 4_japan_GI.1_primers_consensus.bam | ivar variants -p 4_japan_GI.1_primers_consensus_1\n",
    "echo \"iSNVs on this initial BAM (without removal of reads from mismached primers) called at a minimum threshold of 3%\""
   ]
  },
  {
   "cell_type": "code",
   "execution_count": 55,
   "metadata": {},
   "outputs": [
    {
     "name": "stdout",
     "output_type": "stream",
     "text": [
      "Found 51 primers in BED file\n",
      "Primer pair for KTESAVG11_2_LEFT not found in BED file.\n",
      "Primer pair for KTESAVG11_4_LEFT not found in BED file.\n",
      "Primer pair for KTESAVG11_5_LEFT not found in BED file.\n",
      "Primer pair for KTESAVG11_7_LEFT not found in BED file.\n",
      "Primer pair for KTESAVG11_9_LEFT not found in BED file.\n",
      "Primer pair for KTESAVG11_11_RIGHT not found in BED file.\n",
      "Primer pair for KTESAVG11_12_RIGHT not found in BED file.\n",
      "Primer pair for KTESAVG11_13_RIGHT not found in BED file.\n",
      "Primer pair for KTESAVG11_14_RIGHT not found in BED file.\n",
      "Primer pair for KTESAVG11_15_RIGHT not found in BED file.\n",
      "Primer pair for KTESAVG11_16_RIGHT not found in BED file.\n",
      "Primer pair for KTESAVG11_17_RIGHT not found in BED file.\n",
      "Primer pair for KTESAVG11_18_RIGHT not found in BED file.\n",
      "Primer pair for KTESAVG11_19_RIGHT not found in BED file.\n",
      "Primer pair for KTESAVG11_20_RIGHT not found in BED file.\n",
      "Primer pair for KTESAVG11_22_RIGHT not found in BED file.\n",
      "Primer pair for KTESAVG11_23_RIGHT not found in BED file.\n",
      "Primer pair for KTESAVG11_24_RIGHT not found in BED file.\n",
      "KTESAVG11_1_RIGHT\n",
      "KTESAVG11_4_LEFT\n",
      "KTESAVG11_5_LEFT\n",
      "KTESAVG11_5_RIGHT\n",
      "GI1batch4_3_LEFT\n",
      "KTESAVG11_13_LEFT\n",
      "KTESAVG11_14_LEFT\n",
      "KTESAVG11_14_RIGHT\n",
      "KTESAVG11_17_LEFT\n",
      "GI1batch4_7_LEFT\n",
      "KTESAVG11_17_RIGHT\n",
      "KTESAVG11_19_LEFT\n",
      "KTESAVG11_20_LEFT\n",
      "KTESAVG11_20_RIGHT\n",
      "KTESAVG11_23_LEFT\n",
      "KTESAVG11_25_LEFT\n",
      "KTESAVG11_24_RIGHT\n",
      "GI1batch4_9_RIGHT\n",
      "KTESAVG11_1_RIGHT\tKTESAVG11_4_LEFT\tKTESAVG11_5_LEFT\tKTESAVG11_5_RIGHT\tGI1batch4_3_LEFT\tKTESAVG11_13_LEFT\tKTESAVG11_14_LEFT\tKTESAVG11_14_RIGHT\tKTESAVG11_17_LEFT\tGI1batch4_7_LEFT\tKTESAVG11_17_RIGHT\tKTESAVG11_19_LEFT\tKTESAVG11_20_LEFT\tKTESAVG11_20_RIGHT\tKTESAVG11_23_LEFT\tKTESAVG11_25_LEFT\tKTESAVG11_24_RIGHT\tGI1batch4_9_RIGHT\n",
      "you got the indices of primers with mismtaches and their respective pairs\n"
     ]
    }
   ],
   "source": [
    "%%bash\n",
    "# Let's now get the indices of primers with mismtaches and their respective pairs. To get the pair information, we need a tsv file with two columns to represent the pairs of primers. This file is at pair_information.tsv\n",
    "bedtools bamtobed -i 4_japan_GI.1_primers_consensus.bam > 4_japan_GI.1_primers_consensus.bam.bed ; ivar getmasked -i 4_japan_GI.1_primers_consensus_1.tsv -b 4_japan_GI.1_primers_consensus.bam.bed -f Primal-primers_SaVGI.1pairs_ok.tsv -p primer_mismatchers_indices\n",
    "echo \"you got the indices of primers with mismtaches and their respective pairs\""
   ]
  },
  {
   "cell_type": "markdown",
   "metadata": {},
   "source": [
    "### 6- Let's omit reads from mismatched primers (Masking)"
   ]
  },
  {
   "cell_type": "code",
   "execution_count": 56,
   "metadata": {},
   "outputs": [
    {
     "name": "stdout",
     "output_type": "stream",
     "text": [
      "Found 58 primers in BED file\n",
      "Writing to 4_japan_GI.1.bad_are_masked.bam\n",
      "Number of references: 1\n",
      "Reference Name: cons_2015k4\n",
      "Reference Length: 7384\n",
      "Using Region: cons_2015k4\n",
      "Sorted By Coordinate\n",
      "Results:\n",
      "94150 reads were removed.\n",
      "you removed reads from mismatched primers\n"
     ]
    }
   ],
   "source": [
    "%%bash\n",
    "ivar removereads -i 4_japan_GI.1.trimmed.sorted.bam -p 4_japan_GI.1.bad_are_masked.bam -t primer_mismatchers_indices.txt -b 4_japan_GI.1_primers.bed\n",
    "echo \"you removed reads from mismatched primers\""
   ]
  },
  {
   "cell_type": "code",
   "execution_count": 57,
   "metadata": {},
   "outputs": [
    {
     "name": "stdout",
     "output_type": "stream",
     "text": [
      "234875 + 0 in total (QC-passed reads + QC-failed reads)\n",
      "0 + 0 secondary\n",
      "0 + 0 supplementary\n",
      "0 + 0 duplicates\n",
      "234875 + 0 mapped (100.00% : N/A)\n",
      "234875 + 0 paired in sequencing\n",
      "120554 + 0 read1\n",
      "114321 + 0 read2\n",
      "233621 + 0 properly paired (99.47% : N/A)\n",
      "234255 + 0 with itself and mate mapped\n",
      "620 + 0 singletons (0.26% : N/A)\n",
      "0 + 0 with mate mapped to a different chr\n",
      "0 + 0 with mate mapped to a different chr (mapQ>=5)\n"
     ]
    }
   ],
   "source": [
    "%%bash\n",
    "samtools flagstat 4_japan_GI.1.bad_are_masked.bam"
   ]
  },
  {
   "cell_type": "code",
   "execution_count": 58,
   "metadata": {},
   "outputs": [],
   "source": [
    "import os\n",
    "os.chdir(\"/media/viro102/HD-ADU3/kte-data/sapo-ivar/test/outbreak_samples/GI.1/remapped/2015k4/4_japan\")"
   ]
  },
  {
   "cell_type": "code",
   "execution_count": 59,
   "metadata": {},
   "outputs": [
    {
     "name": "stdout",
     "output_type": "stream",
     "text": [
      "\u001b[31mplease exclude variants with depth <400 and count iSNV\n"
     ]
    },
    {
     "name": "stderr",
     "output_type": "stream",
     "text": [
      "[mpileup] 1 samples in 1 input files\n",
      "[mpileup] Max depth set to maximum value (2147483647)\n"
     ]
    }
   ],
   "source": [
    "%%bash\n",
    "# let us take a look at the reads distribution before and after masking\n",
    "samtools sort -o 4_japan_GI.1.bad_are_masked.sorted.bam 4_japan_GI.1.bad_are_masked.bam \n",
    "samtools depth -a 4_japan_GI.1.bad_are_masked.sorted.bam > depth/4_japan_GI.1.bad_are_masked.sorted.depth\n",
    "\n",
    "# echo \"Let's now call iSNVs from the BAMS without reads from the masked amplicons\"\n",
    "\n",
    "samtools mpileup -A -d 0 --reference cons_2015k4.fa -B -Q 0 4_japan_GI.1.bad_are_masked.sorted.bam | ivar variants -r cons_2015k4.fa -p 4_japan_GI.1_final -g cons_2015k4.gff -m 10 ; tput setaf 1 echo \"analysis is completed\"\n",
    "echo \"please exclude variants with depth <400 and count iSNV\""
   ]
  },
  {
   "cell_type": "code",
   "execution_count": 60,
   "metadata": {},
   "outputs": [],
   "source": [
    "os.chdir(\"/media/viro102/HD-ADU3/kte-data/sapo-ivar/test/outbreak_samples/GI.1/4_japan/depth\")"
   ]
  },
  {
   "cell_type": "code",
   "execution_count": 61,
   "metadata": {},
   "outputs": [
    {
     "data": {
      "image/png": "[encoded data removed]",
      "text/plain": [
       "<Figure size 1080x360 with 1 Axes>"
      ]
     },
     "metadata": {
      "needs_background": "light"
     },
     "output_type": "display_data"
    }
   ],
   "source": [
    "import pandas as pd\n",
    "import matplotlib.pyplot as plt\n",
    "df_unmasked = pd.read_csv(\"4_japan_GI.1.trimmed.sorted.bam.depth\", sep = \"\\t\", names = [\"Ref\", \"Pos\", \"depth_unmask\"])\n",
    "df_masked = pd.read_csv(\"4_japan_GI.1.bad_are_masked.sorted.depth\", sep = \"\\t\", names = [\"Ref\", \"Pos\", \"depth_mask\"])\n",
    "\n",
    "ax = df_masked[\"depth_mask\"].plot(logy=True, label = \"Masked\", figsize = (15,5), alpha = 0.9)\n",
    "df_unmasked[\"depth_unmask\"].plot(logy=True, ax = ax, label =\"Unmasked\", alpha=0.9)\n",
    "plt.legend()\n",
    "plt.grid()\n",
    "plt.show()"
   ]
  },
  {
   "cell_type": "markdown",
   "metadata": {},
   "source": [
    "#### 7- View Tables and Plots"
   ]
  },
  {
   "cell_type": "code",
   "execution_count": 62,
   "metadata": {},
   "outputs": [],
   "source": [
    "os.chdir(\"/media/viro102/HD-ADU3/kte-data/sapo-ivar/test/outbreak_samples/GI.1/remapped/2015k4/4_japan\")"
   ]
  },
  {
   "cell_type": "code",
   "execution_count": 63,
   "metadata": {},
   "outputs": [
    {
     "data": {
      "text/html": [
       "<div>\n",
       "<style scoped>\n",
       "    .dataframe tbody tr th:only-of-type {\n",
       "        vertical-align: middle;\n",
       "    }\n",
       "\n",
       "    .dataframe tbody tr th {\n",
       "        vertical-align: top;\n",
       "    }\n",
       "\n",
       "    .dataframe thead th {\n",
       "        text-align: right;\n",
       "    }\n",
       "</style>\n",
       "<table border=\"1\" class=\"dataframe\">\n",
       "  <thead>\n",
       "    <tr style=\"text-align: right;\">\n",
       "      <th></th>\n",
       "      <th>REGION</th>\n",
       "      <th>POS</th>\n",
       "      <th>REF</th>\n",
       "      <th>ALT</th>\n",
       "      <th>REF_DP</th>\n",
       "      <th>REF_RV</th>\n",
       "      <th>REF_QUAL</th>\n",
       "      <th>ALT_DP</th>\n",
       "      <th>ALT_RV</th>\n",
       "      <th>ALT_QUAL</th>\n",
       "      <th>ALT_FREQ</th>\n",
       "      <th>TOTAL_DP</th>\n",
       "      <th>PVAL</th>\n",
       "      <th>PASS</th>\n",
       "      <th>GFF_FEATURE</th>\n",
       "      <th>REF_CODON</th>\n",
       "      <th>REF_AA</th>\n",
       "      <th>ALT_CODON</th>\n",
       "      <th>ALT_AA</th>\n",
       "      <th>S_NS</th>\n",
       "    </tr>\n",
       "  </thead>\n",
       "  <tbody>\n",
       "    <tr>\n",
       "      <th>0</th>\n",
       "      <td>cons_2015k4</td>\n",
       "      <td>30</td>\n",
       "      <td>T</td>\n",
       "      <td>C</td>\n",
       "      <td>3551</td>\n",
       "      <td>1642</td>\n",
       "      <td>37</td>\n",
       "      <td>121</td>\n",
       "      <td>57</td>\n",
       "      <td>37</td>\n",
       "      <td>0.032952</td>\n",
       "      <td>3672</td>\n",
       "      <td>1.946840e-33</td>\n",
       "      <td>True</td>\n",
       "      <td>NaN</td>\n",
       "      <td>GTT</td>\n",
       "      <td>V</td>\n",
       "      <td>GTC</td>\n",
       "      <td>V</td>\n",
       "      <td>S</td>\n",
       "    </tr>\n",
       "    <tr>\n",
       "      <th>1</th>\n",
       "      <td>cons_2015k4</td>\n",
       "      <td>258</td>\n",
       "      <td>A</td>\n",
       "      <td>-T</td>\n",
       "      <td>148</td>\n",
       "      <td>23</td>\n",
       "      <td>36</td>\n",
       "      <td>5</td>\n",
       "      <td>0</td>\n",
       "      <td>20</td>\n",
       "      <td>0.032468</td>\n",
       "      <td>154</td>\n",
       "      <td>1.070620e-01</td>\n",
       "      <td>False</td>\n",
       "      <td>NaN</td>\n",
       "      <td>NaN</td>\n",
       "      <td>NaN</td>\n",
       "      <td>NaN</td>\n",
       "      <td>NaN</td>\n",
       "      <td>NS</td>\n",
       "    </tr>\n",
       "    <tr>\n",
       "      <th>2</th>\n",
       "      <td>cons_2015k4</td>\n",
       "      <td>3060</td>\n",
       "      <td>A</td>\n",
       "      <td>T</td>\n",
       "      <td>119</td>\n",
       "      <td>41</td>\n",
       "      <td>52</td>\n",
       "      <td>3053</td>\n",
       "      <td>1091</td>\n",
       "      <td>51</td>\n",
       "      <td>0.962484</td>\n",
       "      <td>3172</td>\n",
       "      <td>0.000000e+00</td>\n",
       "      <td>True</td>\n",
       "      <td>NaN</td>\n",
       "      <td>ACA</td>\n",
       "      <td>T</td>\n",
       "      <td>ACT</td>\n",
       "      <td>T</td>\n",
       "      <td>S</td>\n",
       "    </tr>\n",
       "    <tr>\n",
       "      <th>3</th>\n",
       "      <td>cons_2015k4</td>\n",
       "      <td>7154</td>\n",
       "      <td>C</td>\n",
       "      <td>T</td>\n",
       "      <td>1635</td>\n",
       "      <td>383</td>\n",
       "      <td>63</td>\n",
       "      <td>470</td>\n",
       "      <td>149</td>\n",
       "      <td>61</td>\n",
       "      <td>0.223172</td>\n",
       "      <td>2106</td>\n",
       "      <td>1.654960e-219</td>\n",
       "      <td>True</td>\n",
       "      <td>NaN</td>\n",
       "      <td>CAC</td>\n",
       "      <td>H</td>\n",
       "      <td>CAT</td>\n",
       "      <td>H</td>\n",
       "      <td>S</td>\n",
       "    </tr>\n",
       "    <tr>\n",
       "      <th>4</th>\n",
       "      <td>cons_2015k4</td>\n",
       "      <td>7154</td>\n",
       "      <td>C</td>\n",
       "      <td>T</td>\n",
       "      <td>1635</td>\n",
       "      <td>383</td>\n",
       "      <td>63</td>\n",
       "      <td>470</td>\n",
       "      <td>149</td>\n",
       "      <td>61</td>\n",
       "      <td>0.223172</td>\n",
       "      <td>2106</td>\n",
       "      <td>1.654960e-219</td>\n",
       "      <td>True</td>\n",
       "      <td>NaN</td>\n",
       "      <td>CAC</td>\n",
       "      <td>H</td>\n",
       "      <td>CAT</td>\n",
       "      <td>H</td>\n",
       "      <td>S</td>\n",
       "    </tr>\n",
       "  </tbody>\n",
       "</table>\n",
       "</div>"
      ],
      "text/plain": [
       "        REGION   POS REF ALT  REF_DP  REF_RV  REF_QUAL  ALT_DP  ALT_RV  \\\n",
       "0  cons_2015k4    30   T   C    3551    1642        37     121      57   \n",
       "1  cons_2015k4   258   A  -T     148      23        36       5       0   \n",
       "2  cons_2015k4  3060   A   T     119      41        52    3053    1091   \n",
       "3  cons_2015k4  7154   C   T    1635     383        63     470     149   \n",
       "4  cons_2015k4  7154   C   T    1635     383        63     470     149   \n",
       "\n",
       "   ALT_QUAL  ALT_FREQ  TOTAL_DP           PVAL   PASS  GFF_FEATURE REF_CODON  \\\n",
       "0        37  0.032952      3672   1.946840e-33   True          NaN       GTT   \n",
       "1        20  0.032468       154   1.070620e-01  False          NaN       NaN   \n",
       "2        51  0.962484      3172   0.000000e+00   True          NaN       ACA   \n",
       "3        61  0.223172      2106  1.654960e-219   True          NaN       CAC   \n",
       "4        61  0.223172      2106  1.654960e-219   True          NaN       CAC   \n",
       "\n",
       "  REF_AA ALT_CODON ALT_AA S_NS  \n",
       "0      V       GTC      V    S  \n",
       "1    NaN       NaN    NaN   NS  \n",
       "2      T       ACT      T    S  \n",
       "3      H       CAT      H    S  \n",
       "4      H       CAT      H    S  "
      ]
     },
     "execution_count": 63,
     "metadata": {},
     "output_type": "execute_result"
    }
   ],
   "source": [
    "import pandas as pd\n",
    "import matplotlib.pyplot as plt\n",
    "import numpy as np\n",
    "rep_a = pd.read_csv(\"4_japan_GI.1_final.tsv\", sep=\"\\t\")\n",
    "rep_a[\"S_NS\"] = np.where(rep_a[\"REF_AA\"] == rep_a[\"ALT_AA\"], \"S\", \"NS\")\n",
    "rep_a.head()"
   ]
  },
  {
   "cell_type": "code",
   "execution_count": 64,
   "metadata": {},
   "outputs": [
    {
     "data": {
      "text/plain": [
       "(4, 20)"
      ]
     },
     "execution_count": 64,
     "metadata": {},
     "output_type": "execute_result"
    }
   ],
   "source": [
    "rep_b=rep_a[rep_a['TOTAL_DP'] >= 400]\n",
    "shape = rep_b.shape \n",
    "shape"
   ]
  },
  {
   "cell_type": "code",
   "execution_count": 65,
   "metadata": {},
   "outputs": [
    {
     "data": {
      "image/png": "[encoded data removed]",
      "text/plain": [
       "<Figure size 1050.25x360 with 1 Axes>"
      ]
     },
     "metadata": {
      "needs_background": "light"
     },
     "output_type": "display_data"
    }
   ],
   "source": [
    "import numpy as np\n",
    "import seaborn as sns\n",
    "import matplotlib.pyplot as plt\n",
    "rep_b=rep_a[rep_a['TOTAL_DP'] >= 400]\n",
    "sns.lmplot( x=\"POS\", y=\"ALT_FREQ\", data=rep_b, fit_reg=False, hue='S_NS',aspect=14/5, \n",
    "           legend=True, legend_out=True)\n",
    "plt.xlabel('Genome position', fontsize=15)\n",
    "plt.ylabel('iSNV frequency', fontsize=15)\n",
    "plt.title('Nucleotide mutations in reads within the sample \"2_miyagi\" vs outbreak', fontsize=20)\n",
    "plt.grid(axis=\"both\")\n",
    "plt.show()"
   ]
  },
  {
   "cell_type": "code",
   "execution_count": 66,
   "metadata": {},
   "outputs": [
    {
     "name": "stdout",
     "output_type": "stream",
     "text": [
      "snps in non structural region\n",
      "(0, 20)\n",
      "snps in capsid\n",
      "(2, 20)\n"
     ]
    }
   ],
   "source": [
    "# let us filter snps in non structural region [1-5099]\n",
    "print(\"snps in non structural region\")\n",
    "print((rep_b[(rep_b['POS'] > 3610) & (rep_b['POS'] < 5099)]).shape)\n",
    "# let us filter snps in complete capsid[5010-6800]\n",
    "print(\"snps in capsid\")\n",
    "print((rep_b[(rep_b['POS'] > 5100) & (rep_b['POS'] < 7350)]).shape)"
   ]
  },
  {
   "cell_type": "code",
   "execution_count": 67,
   "metadata": {},
   "outputs": [
    {
     "data": {
      "text/html": [
       "<div>\n",
       "<style scoped>\n",
       "    .dataframe tbody tr th:only-of-type {\n",
       "        vertical-align: middle;\n",
       "    }\n",
       "\n",
       "    .dataframe tbody tr th {\n",
       "        vertical-align: top;\n",
       "    }\n",
       "\n",
       "    .dataframe thead th {\n",
       "        text-align: right;\n",
       "    }\n",
       "</style>\n",
       "<table border=\"1\" class=\"dataframe\">\n",
       "  <thead>\n",
       "    <tr style=\"text-align: right;\">\n",
       "      <th></th>\n",
       "      <th>Ref</th>\n",
       "      <th>Pos</th>\n",
       "      <th>depth_mask</th>\n",
       "      <th>400cov</th>\n",
       "      <th>100cov</th>\n",
       "    </tr>\n",
       "  </thead>\n",
       "  <tbody>\n",
       "    <tr>\n",
       "      <th>0</th>\n",
       "      <td>cons_2015k4</td>\n",
       "      <td>1</td>\n",
       "      <td>0</td>\n",
       "      <td>no</td>\n",
       "      <td>no</td>\n",
       "    </tr>\n",
       "    <tr>\n",
       "      <th>1</th>\n",
       "      <td>cons_2015k4</td>\n",
       "      <td>2</td>\n",
       "      <td>0</td>\n",
       "      <td>no</td>\n",
       "      <td>no</td>\n",
       "    </tr>\n",
       "    <tr>\n",
       "      <th>2</th>\n",
       "      <td>cons_2015k4</td>\n",
       "      <td>3</td>\n",
       "      <td>0</td>\n",
       "      <td>no</td>\n",
       "      <td>no</td>\n",
       "    </tr>\n",
       "    <tr>\n",
       "      <th>3</th>\n",
       "      <td>cons_2015k4</td>\n",
       "      <td>4</td>\n",
       "      <td>0</td>\n",
       "      <td>no</td>\n",
       "      <td>no</td>\n",
       "    </tr>\n",
       "    <tr>\n",
       "      <th>4</th>\n",
       "      <td>cons_2015k4</td>\n",
       "      <td>5</td>\n",
       "      <td>0</td>\n",
       "      <td>no</td>\n",
       "      <td>no</td>\n",
       "    </tr>\n",
       "  </tbody>\n",
       "</table>\n",
       "</div>"
      ],
      "text/plain": [
       "           Ref  Pos  depth_mask 400cov 100cov\n",
       "0  cons_2015k4    1           0     no     no\n",
       "1  cons_2015k4    2           0     no     no\n",
       "2  cons_2015k4    3           0     no     no\n",
       "3  cons_2015k4    4           0     no     no\n",
       "4  cons_2015k4    5           0     no     no"
      ]
     },
     "execution_count": 67,
     "metadata": {},
     "output_type": "execute_result"
    }
   ],
   "source": [
    "# what percentage of this masked genome (without reads from mismached primers) has depth >400 ? \n",
    "os.chdir(\"/media/viro102/HD-ADU3/kte-data/sapo-ivar/test/outbreak_samples/GI.1/remapped/2015k4/4_japan/depth\")\n",
    "\n",
    "df_masked = pd.read_csv(\"4_japan_GI.1.bad_are_masked.sorted.depth\", sep = \"\\t\", names = [\"Ref\", \"Pos\", \"depth_mask\"])\n",
    "df_masked['400cov'] = np.where(df_masked['depth_mask']>=400, 'yes', 'no')\n",
    "df_masked['100cov'] = np.where(df_masked['depth_mask']>=100, 'yes', 'no')\n",
    "df_masked.head()"
   ]
  },
  {
   "cell_type": "code",
   "execution_count": 68,
   "metadata": {},
   "outputs": [
    {
     "name": "stdout",
     "output_type": "stream",
     "text": [
      "(7384, 5)\n",
      "col_0   Breadth 100coverage\n",
      "100cov                     \n",
      "no                     1393\n",
      "yes                    5991\n",
      "col_0   Beadth above 400coverage\n",
      "400cov                          \n",
      "no                          2164\n",
      "yes                         5220\n"
     ]
    }
   ],
   "source": [
    "# What proportion of the genome is has a depth of coverage of at least >100 reads, >400 (Breadth ofcoverage)\n",
    "my_tab1 = pd.crosstab(index=df_masked[\"100cov\"],  # Make a crosstab\n",
    "                              columns=\"Breadth 100coverage\")      # Name the count column\n",
    "my_tab2 = pd.crosstab(index=df_masked[\"400cov\"],  # Make a crosstab\n",
    "                              columns=\"Beadth above 400coverage\")      # Name the count column\n",
    "shape=df_masked.shape\n",
    "print(shape)\n",
    "print(my_tab1); print(my_tab2)"
   ]
  },
  {
   "cell_type": "code",
   "execution_count": 72,
   "metadata": {},
   "outputs": [
    {
     "data": {
      "text/plain": [
       "81.41051773338769"
      ]
     },
     "execution_count": 72,
     "metadata": {},
     "output_type": "execute_result"
    }
   ],
   "source": [
    "5991/7359 * 100 # proportion of genome covered >400"
   ]
  },
  {
   "cell_type": "code",
   "execution_count": 71,
   "metadata": {},
   "outputs": [
    {
     "data": {
      "text/plain": [
       "70.93355075417855"
      ]
     },
     "execution_count": 71,
     "metadata": {},
     "output_type": "execute_result"
    }
   ],
   "source": [
    "5220/7359 * 100 # proportion of genome covered >100"
   ]
  }
 ],
 "metadata": {
  "kernelspec": {
   "display_name": "Python 3",
   "language": "python",
   "name": "python3"
  },
  "language_info": {
   "codemirror_mode": {
    "name": "ipython",
    "version": 3
   },
   "file_extension": ".py",
   "mimetype": "text/x-python",
   "name": "python",
   "nbconvert_exporter": "python",
   "pygments_lexer": "ipython3",
   "version": "3.6.12"
  }
 },
 "nbformat": 4,
 "nbformat_minor": 4
}

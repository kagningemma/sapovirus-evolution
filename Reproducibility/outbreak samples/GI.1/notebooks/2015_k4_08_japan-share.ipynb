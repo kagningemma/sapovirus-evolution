{
 "cells": [
  {
   "cell_type": "markdown",
   "metadata": {},
   "source": [
    "## Full analysis of a sample tested positive to the sapovirus GI.1 during a non-foodborne outbreak in Miyagi-Japan\n"
   ]
  },
  {
   "cell_type": "markdown",
   "metadata": {},
   "source": [
    "We initially mapped these reads to the Nashville Reference sequence\n",
    "Here, we curated the outbreak consensus and re-mapped the reads to outbreak consensus"
   ]
  },
  {
   "cell_type": "code",
   "execution_count": 1,
   "metadata": {},
   "outputs": [],
   "source": [
    "import os\n",
    "os.chdir(\"/media/viro102/HD-ADU3/kte-data/sapo-ivar/test/outbreak_samples/GI.1/remapped-share/2015k4/8_japan/\")"
   ]
  },
  {
   "cell_type": "markdown",
   "metadata": {},
   "source": [
    "### 1-index reference for mapping"
   ]
  },
  {
   "cell_type": "code",
   "execution_count": 2,
   "metadata": {},
   "outputs": [
    {
     "name": "stdout",
     "output_type": "stream",
     "text": [
      "GANBATTE! KTE\n",
      "reference indexed\n"
     ]
    },
    {
     "name": "stderr",
     "output_type": "stream",
     "text": [
      "[bwa_index] Pack FASTA... 0.00 sec\n",
      "[bwa_index] Construct BWT for the packed sequence...\n",
      "[bwa_index] 0.00 seconds elapse.\n",
      "[bwa_index] Update BWT... 0.00 sec\n",
      "[bwa_index] Pack forward-only FASTA... 0.00 sec\n",
      "[bwa_index] Construct SA from BWT and Occ... 0.00 sec\n",
      "[main] Version: 0.7.12-r1039\n",
      "[main] CMD: bwa index cons_2015k4.fa\n",
      "[main] Real time: 0.218 sec; CPU: 0.008 sec\n"
     ]
    }
   ],
   "source": [
    "%%bash\n",
    "echo \"GANBATTE! KTE\"\n",
    "echo \"reference indexed\"\n",
    "\n",
    "# index ref\n",
    "bwa index cons_2015k4.fa"
   ]
  },
  {
   "cell_type": "markdown",
   "metadata": {},
   "source": [
    "### 2-Map reads to reference"
   ]
  },
  {
   "cell_type": "code",
   "execution_count": 3,
   "metadata": {},
   "outputs": [
    {
     "name": "stdout",
     "output_type": "stream",
     "text": [
      "mapping completed\n"
     ]
    },
    {
     "name": "stderr",
     "output_type": "stream",
     "text": [
      "[M::bwa_idx_load_from_disk] read 0 ALT contigs\n",
      "[M::process] read 1287612 sequences (167663604 bp)...\n",
      "[M::mem_pestat] # candidate unique pairs for (FF, FR, RF, RR): (122, 608258, 116, 111)\n",
      "[M::mem_pestat] analyzing insert size distribution for orientation FF...\n",
      "[M::mem_pestat] (25, 50, 75) percentile: (530, 1474, 3043)\n",
      "[M::mem_pestat] low and high boundaries for computing mean and std.dev: (1, 8069)\n",
      "[M::mem_pestat] mean and std.dev: (1982.98, 1659.73)\n",
      "[M::mem_pestat] low and high boundaries for proper pairs: (1, 10582)\n",
      "[M::mem_pestat] analyzing insert size distribution for orientation FR...\n",
      "[M::mem_pestat] (25, 50, 75) percentile: (75, 115, 172)\n",
      "[M::mem_pestat] low and high boundaries for computing mean and std.dev: (1, 366)\n",
      "[M::mem_pestat] mean and std.dev: (129.18, 69.71)\n",
      "[M::mem_pestat] low and high boundaries for proper pairs: (1, 463)\n",
      "[M::mem_pestat] analyzing insert size distribution for orientation RF...\n",
      "[M::mem_pestat] (25, 50, 75) percentile: (408, 1360, 2891)\n",
      "[M::mem_pestat] low and high boundaries for computing mean and std.dev: (1, 7857)\n",
      "[M::mem_pestat] mean and std.dev: (1705.13, 1566.11)\n",
      "[M::mem_pestat] low and high boundaries for proper pairs: (1, 10340)\n",
      "[M::mem_pestat] analyzing insert size distribution for orientation RR...\n",
      "[M::mem_pestat] (25, 50, 75) percentile: (467, 1559, 3054)\n",
      "[M::mem_pestat] low and high boundaries for computing mean and std.dev: (1, 8228)\n",
      "[M::mem_pestat] mean and std.dev: (1982.16, 1720.79)\n",
      "[M::mem_pestat] low and high boundaries for proper pairs: (1, 10815)\n",
      "[M::mem_pestat] skip orientation FF\n",
      "[M::mem_pestat] skip orientation RF\n",
      "[M::mem_pestat] skip orientation RR\n",
      "[M::mem_process_seqs] Processed 1287612 reads in 108.959 CPU sec, 17.919 real sec\n",
      "[main] Version: 0.7.12-r1039\n",
      "[main] CMD: bwa mem -t 32 cons_2015k4.fa 8_S8_L001_R1_001.fastq.gz 8_S8_L001_R2_001.fastq.gz\n",
      "[main] Real time: 60.886 sec; CPU: 117.309 sec\n"
     ]
    }
   ],
   "source": [
    "%%bash\n",
    "bwa mem -t 32  cons_2015k4.fa 8_S8_L001_R1_001.fastq.gz 8_S8_L001_R2_001.fastq.gz | samtools view -b -F 4 -F 2048 | samtools sort -o 8_japan_GI.1.sorted.bam\n",
    "echo \"mapping completed\""
   ]
  },
  {
   "cell_type": "code",
   "execution_count": 4,
   "metadata": {},
   "outputs": [
    {
     "name": "stdout",
     "output_type": "stream",
     "text": [
      "8_japan_GI.1.sorted.bam\n",
      "8_S8_L001_R1_001.fastq.gz\n",
      "8_S8_L001_R2_001.fastq.gz\n",
      "cons_2015k4.fa\n",
      "cons_2015k4.fa.amb\n",
      "cons_2015k4.fa.ann\n",
      "cons_2015k4.fa.bwt\n",
      "cons_2015k4.fa.fai\n",
      "cons_2015k4.fa.pac\n",
      "cons_2015k4.fa.sa\n",
      "cons_2015k4.gff\n",
      "Primalprimers_SaVGI.1_batch2_ok.fa\n",
      "Primal-primers_SaVGI.1pairs_ok.tsv\n",
      "script-ivar-8_japan.sh\n"
     ]
    }
   ],
   "source": [
    "%%bash\n",
    "ls"
   ]
  },
  {
   "cell_type": "code",
   "execution_count": 5,
   "metadata": {},
   "outputs": [
    {
     "name": "stdout",
     "output_type": "stream",
     "text": [
      "1230213 + 0 in total (QC-passed reads + QC-failed reads)\n",
      "0 + 0 secondary\n",
      "0 + 0 supplementary\n",
      "0 + 0 duplicates\n",
      "1230213 + 0 mapped (100.00% : N/A)\n",
      "1230213 + 0 paired in sequencing\n",
      "616409 + 0 read1\n",
      "613804 + 0 read2\n",
      "1216216 + 0 properly paired (98.86% : N/A)\n",
      "1222894 + 0 with itself and mate mapped\n",
      "7319 + 0 singletons (0.59% : N/A)\n",
      "0 + 0 with mate mapped to a different chr\n",
      "0 + 0 with mate mapped to a different chr (mapQ>=5)\n"
     ]
    }
   ],
   "source": [
    "%%bash\n",
    "samtools flagstat 8_japan_GI.1.sorted.bam"
   ]
  },
  {
   "cell_type": "markdown",
   "metadata": {},
   "source": [
    "### 3-Let's now trim-off the primer sequences using ivar. \n",
    "In order to do this we need three files: (1) a BED file with primer coordinates. We will generate this by aligning the primer sequences to the reference sequence and then using bedtools to create the BED file. We also neet (2) Aligned and (3) sorted BAM file generate in the previous step.\n"
   ]
  },
  {
   "cell_type": "code",
   "execution_count": 6,
   "metadata": {},
   "outputs": [],
   "source": [
    "# map primers to the reference genome to identify primers coordinates"
   ]
  },
  {
   "cell_type": "code",
   "execution_count": 7,
   "metadata": {},
   "outputs": [
    {
     "name": "stdout",
     "output_type": "stream",
     "text": [
      "bed file with primers locations on reference sequence generated\n"
     ]
    },
    {
     "name": "stderr",
     "output_type": "stream",
     "text": [
      "[M::bwa_idx_load_from_disk] read 0 ALT contigs\n",
      "[M::process] read 68 sequences (1520 bp)...\n",
      "[M::mem_process_seqs] Processed 68 reads in 0.015 CPU sec, 0.015 real sec\n",
      "[main] Version: 0.7.12-r1039\n",
      "[main] CMD: bwa mem -k 5 -T 16 cons_2015k4.fa Primalprimers_SaVGI.1_batch2_ok.fa\n",
      "[main] Real time: 0.017 sec; CPU: 0.018 sec\n"
     ]
    }
   ],
   "source": [
    "%%bash\n",
    "bwa mem -k 5 -T 16 cons_2015k4.fa Primalprimers_SaVGI.1_batch2_ok.fa  | samtools view -b -F 4 > Primalprimers_SaVGI.1_batch2_ok.fa.bam\n",
    "bedtools bamtobed -i Primalprimers_SaVGI.1_batch2_ok.fa.bam > 8_japan_GI.1_primers.bed\n",
    "echo \"bed file with primers locations on reference sequence generated\""
   ]
  },
  {
   "cell_type": "code",
   "execution_count": 8,
   "metadata": {},
   "outputs": [],
   "source": [
    "# We will now use this BED file as input to ivar to trim primer sequences\n",
    "\n",
    "# Note that this BED file has to be generated only once for a reference sequence."
   ]
  },
  {
   "cell_type": "code",
   "execution_count": 9,
   "metadata": {},
   "outputs": [
    {
     "name": "stdout",
     "output_type": "stream",
     "text": [
      "Number of references: 1\n",
      "Reference Name: cons_2015k4\n",
      "Reference Length: 7384\n",
      "Using Region: cons_2015k4\n",
      "Sorted By Coordinate\n",
      "Sorted By Query Name\n",
      "Processed 1000000 reads ... \n",
      "Results: \n",
      "Trimmed primers from 315171 reads.\n",
      "61568 reads were shortened below the minimum length of 30 bp and were not writen to file.\n",
      "875750 reads that started outside of primer regions were not written to file.\n",
      "primers trimming complete\n",
      "Sorted and indexed trimmed BAM file\n"
     ]
    },
    {
     "name": "stderr",
     "output_type": "stream",
     "text": [
      "[E::idx_find_and_load] Could not retrieve index file for '8_japan_GI.1.sorted.bam'\n"
     ]
    }
   ],
   "source": [
    "%%bash\n",
    "ivar trim -b 8_japan_GI.1_primers.bed -p 8_japan_GI.1.trimmed -i 8_japan_GI.1.sorted.bam\n",
    "echo \"primers trimming complete\"\n",
    "# Sort and index trimmed BAM file.\n",
    "samtools sort -o 8_japan_GI.1.trimmed.sorted.bam 8_japan_GI.1.trimmed.bam ; samtools index 8_japan_GI.1.trimmed.sorted.bam\n",
    "echo \"Sorted and indexed trimmed BAM file\"\n"
   ]
  },
  {
   "cell_type": "code",
   "execution_count": null,
   "metadata": {},
   "outputs": [],
   "source": []
  },
  {
   "cell_type": "code",
   "execution_count": 10,
   "metadata": {},
   "outputs": [
    {
     "name": "stdout",
     "output_type": "stream",
     "text": [
      "292895 + 0 in total (QC-passed reads + QC-failed reads)\n",
      "0 + 0 secondary\n",
      "0 + 0 supplementary\n",
      "0 + 0 duplicates\n",
      "292895 + 0 mapped (100.00% : N/A)\n",
      "292895 + 0 paired in sequencing\n",
      "152610 + 0 read1\n",
      "140285 + 0 read2\n",
      "290338 + 0 properly paired (99.13% : N/A)\n",
      "291579 + 0 with itself and mate mapped\n",
      "1316 + 0 singletons (0.45% : N/A)\n",
      "0 + 0 with mate mapped to a different chr\n",
      "0 + 0 with mate mapped to a different chr (mapQ>=5)\n"
     ]
    }
   ],
   "source": [
    "%%bash\n",
    "samtools flagstat 8_japan_GI.1.trimmed.sorted.bam"
   ]
  },
  {
   "cell_type": "markdown",
   "metadata": {},
   "source": [
    "### 4-Let's quicky take a look at the depth of the trimmed vs untrimmed BAM file. We'll extract the depth using the samtools depth command.\n"
   ]
  },
  {
   "cell_type": "code",
   "execution_count": 11,
   "metadata": {},
   "outputs": [
    {
     "name": "stdout",
     "output_type": "stream",
     "text": [
      "Please plot the depth per position\n"
     ]
    }
   ],
   "source": [
    "%%bash\n",
    "mkdir depth\n",
    "samtools depth -a 8_japan_GI.1.trimmed.sorted.bam > depth/8_japan_GI.1.trimmed.sorted.bam.depth ; samtools depth -a 8_japan_GI.1.sorted.bam > depth/8_japan_GI.1.sorted.bam.depth\n",
    "echo \"Please plot the depth per position\""
   ]
  },
  {
   "cell_type": "code",
   "execution_count": 12,
   "metadata": {},
   "outputs": [],
   "source": [
    "## Plot of the depth per position"
   ]
  },
  {
   "cell_type": "code",
   "execution_count": 13,
   "metadata": {},
   "outputs": [],
   "source": [
    "os.chdir(\"/media/viro102/HD-ADU3/kte-data/sapo-ivar/test/outbreak_samples/GI.1/remapped-share/2015k4/8_japan/depth\")"
   ]
  },
  {
   "cell_type": "code",
   "execution_count": 14,
   "metadata": {},
   "outputs": [
    {
     "data": {
      "image/png": "[encoded data removed]",
      "text/plain": [
       "<Figure size 1080x360 with 1 Axes>"
      ]
     },
     "metadata": {
      "needs_background": "light"
     },
     "output_type": "display_data"
    }
   ],
   "source": [
    "import pandas as pd\n",
    "import matplotlib.pyplot as plt\n",
    "df_trimmed = pd.read_csv(\"8_japan_GI.1.trimmed.sorted.bam.depth\", sep = \"\\t\", names = [\"Ref\", \"Pos\", \"depth_t\"])\n",
    "df_untrimmed = pd.read_csv(\"8_japan_GI.1.sorted.bam.depth\", sep = \"\\t\", names = [\"Ref\", \"Pos\", \"depth_unt\"])\n",
    "\n",
    "ax = df_trimmed[\"depth_t\"].plot(logy=True, label = \"Trimmed\", figsize = (15,5), alpha = 0.9)\n",
    "df_untrimmed[\"depth_unt\"].plot(logy=True, ax = ax, label =\"Untrimmed\", alpha=0.9)\n",
    "plt.legend()\n",
    "plt.grid()\n",
    "plt.show()"
   ]
  },
  {
   "cell_type": "markdown",
   "metadata": {},
   "source": [
    "### 5-Let us identify primer sequences that might have a mismatch with the consensus sequence to ensure that we remove reads from any amplicons derived from those primers; Otherwise, it might bias the iSNV frequency due to varying primer binding effeciency"
   ]
  },
  {
   "cell_type": "code",
   "execution_count": 15,
   "metadata": {},
   "outputs": [],
   "source": [
    "#To that end, we have to : \n",
    "\n",
    "#Call consensus on merged BAM file (If the sequencing of each technical replicate was done separately).\n",
    "\n",
    "#Align primer sequences to consensus after creating a bwa index from the consensus sequence called."
   ]
  },
  {
   "cell_type": "code",
   "execution_count": 16,
   "metadata": {},
   "outputs": [],
   "source": [
    "os.chdir(\"/media/viro102/HD-ADU3/kte-data/sapo-ivar/test/outbreak_samples/GI.1/remapped-share/2015k4/8_japan/\")"
   ]
  },
  {
   "cell_type": "code",
   "execution_count": 17,
   "metadata": {},
   "outputs": [
    {
     "name": "stdout",
     "output_type": "stream",
     "text": [
      "Minimum Quality: 20\n",
      "Threshold: 0\n",
      "Minimum depth: \u0000\n",
      "Regions with depth less than minimum depth covered by: -\n",
      "consensus called on BAM file.\n"
     ]
    },
    {
     "name": "stderr",
     "output_type": "stream",
     "text": [
      "[mpileup] 1 samples in 1 input files\n",
      "[mpileup] Max depth set to maximum value (2147483647)\n"
     ]
    }
   ],
   "source": [
    "%%bash\n",
    "# a-call consensus\n",
    "samtools mpileup -A -d 0 -Q 0 8_japan_GI.1.trimmed.sorted.bam  | ivar consensus -p 8_japan_GI.1.consensus\n",
    "echo \"consensus called on BAM file.\"\n"
   ]
  },
  {
   "cell_type": "code",
   "execution_count": 18,
   "metadata": {},
   "outputs": [
    {
     "name": "stdout",
     "output_type": "stream",
     "text": [
      "primers mapped to consensus\n"
     ]
    },
    {
     "name": "stderr",
     "output_type": "stream",
     "text": [
      "[bwa_index] Pack FASTA... 0.00 sec\n",
      "[bwa_index] Construct BWT for the packed sequence...\n",
      "[bwa_index] 0.00 seconds elapse.\n",
      "[bwa_index] Update BWT... 0.00 sec\n",
      "[bwa_index] Pack forward-only FASTA... 0.00 sec\n",
      "[bwa_index] Construct SA from BWT and Occ... 0.00 sec\n",
      "[main] Version: 0.7.12-r1039\n",
      "[main] CMD: bwa index -p 8_japan_GI.1.consensus 8_japan_GI.1.consensus.fa\n",
      "[main] Real time: 0.449 sec; CPU: 0.008 sec\n",
      "[M::bwa_idx_load_from_disk] read 0 ALT contigs\n",
      "[M::process] read 68 sequences (1520 bp)...\n",
      "[M::mem_process_seqs] Processed 68 reads in 0.016 CPU sec, 0.016 real sec\n",
      "[main] Version: 0.7.12-r1039\n",
      "[main] CMD: bwa mem -k 5 -T 16 8_japan_GI.1.consensus Primalprimers_SaVGI.1_batch2_ok.fa\n",
      "[main] Real time: 0.018 sec; CPU: 0.019 sec\n"
     ]
    }
   ],
   "source": [
    "%%bash\n",
    "# Map primers to the indexed consensus sequence\n",
    "bwa index -p 8_japan_GI.1.consensus 8_japan_GI.1.consensus.fa\n",
    "bwa mem -k 5 -T 16 8_japan_GI.1.consensus Primalprimers_SaVGI.1_batch2_ok.fa  | samtools view -bS -F 4 | samtools sort -o 8_japan_GI.1_primers_consensus.bam\n",
    "\n",
    "echo \"primers mapped to consensus\""
   ]
  },
  {
   "cell_type": "code",
   "execution_count": 19,
   "metadata": {},
   "outputs": [
    {
     "name": "stdout",
     "output_type": "stream",
     "text": [
      "iSNVs on this initial BAM (without removal of reads from mismached primers) called at a minimum threshold of 3%\n"
     ]
    },
    {
     "name": "stderr",
     "output_type": "stream",
     "text": [
      "[mpileup] 1 samples in 1 input files\n",
      "[mpileup] Max depth set to maximum value (2147483647)\n"
     ]
    }
   ],
   "source": [
    "%%bash\n",
    "# \"Let's now call iSNVs on this BAM file at a minimum threshold of 3% and the default minimum quality threshold of 20\"\n",
    "samtools mpileup -A -d 0  -Q 0 8_japan_GI.1_primers_consensus.bam | ivar variants -p 8_japan_GI.1_primers_consensus_1 -t 0.03 -r 8_japan_GI.1.consensus.fa -g cons_2015k4.gff\n",
    "\n",
    "echo \"iSNVs on this initial BAM (without removal of reads from mismached primers) called at a minimum threshold of 3%\"\n"
   ]
  },
  {
   "cell_type": "code",
   "execution_count": 20,
   "metadata": {},
   "outputs": [
    {
     "name": "stdout",
     "output_type": "stream",
     "text": [
      "Primer pair for KTESAVG11_2_LEFT not found in BED file.\n",
      "Primer pair for KTESAVG11_4_LEFT not found in BED file.\n",
      "Primer pair for KTESAVG11_5_LEFT not found in BED file.\n",
      "Primer pair for KTESAVG11_7_LEFT not found in BED file.\n",
      "Primer pair for KTESAVG11_8_LEFT not found in BED file.\n",
      "Primer pair for KTESAVG11_9_LEFT not found in BED file.\n",
      "Primer pair for KTESAVG11_11_RIGHT not found in BED file.\n",
      "Primer pair for KTESAVG11_12_RIGHT not found in BED file.\n",
      "Primer pair for KTESAVG11_13_RIGHT not found in BED file.\n",
      "Primer pair for KTESAVG11_14_RIGHT not found in BED file.\n",
      "Primer pair for KTESAVG11_15_RIGHT not found in BED file.\n",
      "Primer pair for KTESAVG11_16_RIGHT not found in BED file.\n",
      "Primer pair for KTESAVG11_17_RIGHT not found in BED file.\n",
      "Primer pair for KTESAVG11_18_RIGHT not found in BED file.\n",
      "Primer pair for KTESAVG11_19_RIGHT not found in BED file.\n",
      "Primer pair for KTESAVG11_20_RIGHT not found in BED file.\n",
      "Primer pair for KTESAVG11_21_RIGHT not found in BED file.\n",
      "Primer pair for KTESAVG11_22_RIGHT not found in BED file.\n",
      "Primer pair for KTESAVG11_23_RIGHT not found in BED file.\n",
      "Primer pair for KTESAVG11_24_RIGHT not found in BED file.\n",
      "Primer pair for KTESAVG11_25_RIGHT not found in BED file.\n",
      "KTESAVG11_1_RIGHT\tKTESAVG11_4_LEFT\tKTESAVG11_5_LEFT\tKTESAVG11_5_RIGHT\tGI1batch4_3_LEFT\tKTESAVG11_9_RIGHT\tKTESAVG11_11_LEFT\tKTESAVG11_13_LEFT\tKTESAVG11_14_LEFT\tKTESAVG11_14_RIGHT\tKTESAVG11_17_LEFT\tGI1batch4_7_LEFT\tKTESAVG11_17_RIGHT\tKTESAVG11_19_LEFT\tKTESAVG11_20_LEFT\tKTESAVG11_20_RIGHT\tKTESAVG11_21_RIGHT\tKTESAVG11_23_LEFT\tKTESAVG11_25_LEFT\tKTESAVG11_24_RIGHT\tGI1batch4_9_RIGHT\tKTESAVG11_25_RIGHT\n",
      "you got the indices of primers with mismtaches and their respective pairs\n"
     ]
    }
   ],
   "source": [
    "%%bash\n",
    "# Let's now get the indices of primers with mismtaches and their respective pairs. To get the pair information, we need a tsv file with two columns to represent the pairs of primers. This file is at pair_information.tsv\n",
    "bedtools bamtobed -i 8_japan_GI.1_primers_consensus.bam > 8_japan_GI.1_primers_consensus.bam.bed ; ivar getmasked -i 8_japan_GI.1_primers_consensus_1.tsv -b 8_japan_GI.1_primers_consensus.bam.bed -f Primal-primers_SaVGI.1pairs_ok.tsv -p primer_mismatchers_indices\n",
    "echo \"you got the indices of primers with mismtaches and their respective pairs\"\n"
   ]
  },
  {
   "cell_type": "markdown",
   "metadata": {},
   "source": [
    "### 6- Let's omit reads from mismatched primers (Masking)"
   ]
  },
  {
   "cell_type": "code",
   "execution_count": 21,
   "metadata": {},
   "outputs": [
    {
     "name": "stdout",
     "output_type": "stream",
     "text": [
      "Writing to 8_japan_GI.1.bad_are_masked.bam\n",
      "Number of references: 1\n",
      "Reference Name: cons_2015k4\n",
      "Reference Length: 7384\n",
      "Using Region: cons_2015k4\n",
      "Sorted By Coordinate\n",
      "Results:\n",
      "112245 reads were removed.\n",
      "you removed reads from mismatched primers\n"
     ]
    }
   ],
   "source": [
    "%%bash\n",
    "ivar removereads -i 8_japan_GI.1.trimmed.sorted.bam -p 8_japan_GI.1.bad_are_masked.bam -t primer_mismatchers_indices.txt -b 8_japan_GI.1_primers.bed\n",
    "echo \"you removed reads from mismatched primers\""
   ]
  },
  {
   "cell_type": "code",
   "execution_count": 22,
   "metadata": {},
   "outputs": [
    {
     "name": "stdout",
     "output_type": "stream",
     "text": [
      "180650 + 0 in total (QC-passed reads + QC-failed reads)\n",
      "0 + 0 secondary\n",
      "0 + 0 supplementary\n",
      "0 + 0 duplicates\n",
      "180650 + 0 mapped (100.00% : N/A)\n",
      "180650 + 0 paired in sequencing\n",
      "94368 + 0 read1\n",
      "86282 + 0 read2\n",
      "179083 + 0 properly paired (99.13% : N/A)\n",
      "179953 + 0 with itself and mate mapped\n",
      "697 + 0 singletons (0.39% : N/A)\n",
      "0 + 0 with mate mapped to a different chr\n",
      "0 + 0 with mate mapped to a different chr (mapQ>=5)\n"
     ]
    }
   ],
   "source": [
    "%%bash\n",
    "samtools flagstat 8_japan_GI.1.bad_are_masked.bam"
   ]
  },
  {
   "cell_type": "code",
   "execution_count": 23,
   "metadata": {},
   "outputs": [
    {
     "name": "stdout",
     "output_type": "stream",
     "text": [
      "\u001b[31mplease exclude variants with depth <400 and count iSNV\n"
     ]
    },
    {
     "name": "stderr",
     "output_type": "stream",
     "text": [
      "[mpileup] 1 samples in 1 input files\n",
      "[mpileup] Max depth set to maximum value (2147483647)\n"
     ]
    }
   ],
   "source": [
    "%%bash\n",
    "# let us take a look at the reads distribution before and after masking\n",
    "samtools sort -o 8_japan_GI.1.bad_are_masked.sorted.bam 8_japan_GI.1.bad_are_masked.bam \n",
    "samtools depth -a 8_japan_GI.1.bad_are_masked.sorted.bam > depth/8_japan_GI.1.bad_are_masked.sorted.depth\n",
    "\n",
    "# echo \"Let's now call iSNVs from the BAMS without reads from the masked amplicons\"\n",
    "\n",
    "samtools mpileup -A -d 0 --reference cons_2015k4.fa -Q 0 8_japan_GI.1.bad_are_masked.sorted.bam | ivar variants -p 8_japan_GI.1_final -t 0.03 -r cons_2015k4.fa -g cons_2015k4.gff ; tput setaf 1 echo \"analysis is completed\"\n",
    "echo \"please exclude variants with depth <400 and count iSNV\""
   ]
  },
  {
   "cell_type": "code",
   "execution_count": 24,
   "metadata": {},
   "outputs": [],
   "source": [
    "os.chdir(\"/media/viro102/HD-ADU3/kte-data/sapo-ivar/test/outbreak_samples/GI.1/remapped-share/2015k4/8_japan/depth\")"
   ]
  },
  {
   "cell_type": "code",
   "execution_count": 25,
   "metadata": {},
   "outputs": [
    {
     "data": {
      "image/png": "[encoded data removed]",
      "text/plain": [
       "<Figure size 1080x360 with 1 Axes>"
      ]
     },
     "metadata": {
      "needs_background": "light"
     },
     "output_type": "display_data"
    }
   ],
   "source": [
    "import pandas as pd\n",
    "import matplotlib.pyplot as plt\n",
    "df_unmasked = pd.read_csv(\"8_japan_GI.1.trimmed.sorted.bam.depth\", sep = \"\\t\", names = [\"Ref\", \"Pos\", \"depth_unmask\"])\n",
    "df_masked = pd.read_csv(\"8_japan_GI.1.bad_are_masked.sorted.depth\", sep = \"\\t\", names = [\"Ref\", \"Pos\", \"depth_mask\"])\n",
    "\n",
    "ax = df_masked[\"depth_mask\"].plot(logy=True, label = \"Masked\", figsize = (15,5), alpha = 0.9)\n",
    "df_unmasked[\"depth_unmask\"].plot(logy=True, ax = ax, label =\"Unmasked\", alpha=0.9)\n",
    "plt.legend()\n",
    "plt.grid()\n",
    "plt.show()"
   ]
  },
  {
   "cell_type": "markdown",
   "metadata": {},
   "source": [
    "#### 7- View Tables and Plots"
   ]
  },
  {
   "cell_type": "code",
   "execution_count": 26,
   "metadata": {},
   "outputs": [],
   "source": [
    "os.chdir(\"/media/viro102/HD-ADU3/kte-data/sapo-ivar/test/outbreak_samples/GI.1/remapped-share/2015k4/8_japan/\")"
   ]
  },
  {
   "cell_type": "code",
   "execution_count": 27,
   "metadata": {},
   "outputs": [
    {
     "data": {
      "text/html": [
       "<div>\n",
       "<style scoped>\n",
       "    .dataframe tbody tr th:only-of-type {\n",
       "        vertical-align: middle;\n",
       "    }\n",
       "\n",
       "    .dataframe tbody tr th {\n",
       "        vertical-align: top;\n",
       "    }\n",
       "\n",
       "    .dataframe thead th {\n",
       "        text-align: right;\n",
       "    }\n",
       "</style>\n",
       "<table border=\"1\" class=\"dataframe\">\n",
       "  <thead>\n",
       "    <tr style=\"text-align: right;\">\n",
       "      <th></th>\n",
       "      <th>REGION</th>\n",
       "      <th>POS</th>\n",
       "      <th>REF</th>\n",
       "      <th>ALT</th>\n",
       "      <th>REF_DP</th>\n",
       "      <th>REF_RV</th>\n",
       "      <th>REF_QUAL</th>\n",
       "      <th>ALT_DP</th>\n",
       "      <th>ALT_RV</th>\n",
       "      <th>ALT_QUAL</th>\n",
       "      <th>ALT_FREQ</th>\n",
       "      <th>TOTAL_DP</th>\n",
       "      <th>PVAL</th>\n",
       "      <th>PASS</th>\n",
       "      <th>GFF_FEATURE</th>\n",
       "      <th>REF_CODON</th>\n",
       "      <th>REF_AA</th>\n",
       "      <th>ALT_CODON</th>\n",
       "      <th>ALT_AA</th>\n",
       "      <th>S_NS</th>\n",
       "    </tr>\n",
       "  </thead>\n",
       "  <tbody>\n",
       "    <tr>\n",
       "      <th>0</th>\n",
       "      <td>cons_2015k4</td>\n",
       "      <td>656</td>\n",
       "      <td>G</td>\n",
       "      <td>A</td>\n",
       "      <td>0</td>\n",
       "      <td>0</td>\n",
       "      <td>0</td>\n",
       "      <td>204</td>\n",
       "      <td>204</td>\n",
       "      <td>37</td>\n",
       "      <td>1.000000</td>\n",
       "      <td>204</td>\n",
       "      <td>1.920650e-122</td>\n",
       "      <td>True</td>\n",
       "      <td>NaN</td>\n",
       "      <td>GGA</td>\n",
       "      <td>G</td>\n",
       "      <td>GAA</td>\n",
       "      <td>E</td>\n",
       "      <td>NS</td>\n",
       "    </tr>\n",
       "    <tr>\n",
       "      <th>1</th>\n",
       "      <td>cons_2015k4</td>\n",
       "      <td>1161</td>\n",
       "      <td>C</td>\n",
       "      <td>A</td>\n",
       "      <td>719</td>\n",
       "      <td>564</td>\n",
       "      <td>37</td>\n",
       "      <td>193</td>\n",
       "      <td>192</td>\n",
       "      <td>36</td>\n",
       "      <td>0.211623</td>\n",
       "      <td>912</td>\n",
       "      <td>4.821030e-69</td>\n",
       "      <td>True</td>\n",
       "      <td>NaN</td>\n",
       "      <td>GGC</td>\n",
       "      <td>G</td>\n",
       "      <td>GGA</td>\n",
       "      <td>G</td>\n",
       "      <td>S</td>\n",
       "    </tr>\n",
       "    <tr>\n",
       "      <th>2</th>\n",
       "      <td>cons_2015k4</td>\n",
       "      <td>1308</td>\n",
       "      <td>G</td>\n",
       "      <td>+T</td>\n",
       "      <td>673</td>\n",
       "      <td>0</td>\n",
       "      <td>38</td>\n",
       "      <td>21</td>\n",
       "      <td>0</td>\n",
       "      <td>20</td>\n",
       "      <td>0.030837</td>\n",
       "      <td>681</td>\n",
       "      <td>3.207970e-03</td>\n",
       "      <td>True</td>\n",
       "      <td>NaN</td>\n",
       "      <td>NaN</td>\n",
       "      <td>NaN</td>\n",
       "      <td>NaN</td>\n",
       "      <td>NaN</td>\n",
       "      <td>NS</td>\n",
       "    </tr>\n",
       "    <tr>\n",
       "      <th>3</th>\n",
       "      <td>cons_2015k4</td>\n",
       "      <td>3132</td>\n",
       "      <td>C</td>\n",
       "      <td>T</td>\n",
       "      <td>73</td>\n",
       "      <td>55</td>\n",
       "      <td>38</td>\n",
       "      <td>6758</td>\n",
       "      <td>5321</td>\n",
       "      <td>40</td>\n",
       "      <td>0.989313</td>\n",
       "      <td>6831</td>\n",
       "      <td>0.000000e+00</td>\n",
       "      <td>True</td>\n",
       "      <td>NaN</td>\n",
       "      <td>ACC</td>\n",
       "      <td>T</td>\n",
       "      <td>ACT</td>\n",
       "      <td>T</td>\n",
       "      <td>S</td>\n",
       "    </tr>\n",
       "    <tr>\n",
       "      <th>4</th>\n",
       "      <td>cons_2015k4</td>\n",
       "      <td>3468</td>\n",
       "      <td>C</td>\n",
       "      <td>T</td>\n",
       "      <td>983</td>\n",
       "      <td>692</td>\n",
       "      <td>37</td>\n",
       "      <td>199</td>\n",
       "      <td>198</td>\n",
       "      <td>34</td>\n",
       "      <td>0.168359</td>\n",
       "      <td>1182</td>\n",
       "      <td>3.479640e-70</td>\n",
       "      <td>True</td>\n",
       "      <td>NaN</td>\n",
       "      <td>GTC</td>\n",
       "      <td>V</td>\n",
       "      <td>GTT</td>\n",
       "      <td>V</td>\n",
       "      <td>S</td>\n",
       "    </tr>\n",
       "  </tbody>\n",
       "</table>\n",
       "</div>"
      ],
      "text/plain": [
       "        REGION   POS REF ALT  REF_DP  REF_RV  REF_QUAL  ALT_DP  ALT_RV  \\\n",
       "0  cons_2015k4   656   G   A       0       0         0     204     204   \n",
       "1  cons_2015k4  1161   C   A     719     564        37     193     192   \n",
       "2  cons_2015k4  1308   G  +T     673       0        38      21       0   \n",
       "3  cons_2015k4  3132   C   T      73      55        38    6758    5321   \n",
       "4  cons_2015k4  3468   C   T     983     692        37     199     198   \n",
       "\n",
       "   ALT_QUAL  ALT_FREQ  TOTAL_DP           PVAL  PASS  GFF_FEATURE REF_CODON  \\\n",
       "0        37  1.000000       204  1.920650e-122  True          NaN       GGA   \n",
       "1        36  0.211623       912   4.821030e-69  True          NaN       GGC   \n",
       "2        20  0.030837       681   3.207970e-03  True          NaN       NaN   \n",
       "3        40  0.989313      6831   0.000000e+00  True          NaN       ACC   \n",
       "4        34  0.168359      1182   3.479640e-70  True          NaN       GTC   \n",
       "\n",
       "  REF_AA ALT_CODON ALT_AA S_NS  \n",
       "0      G       GAA      E   NS  \n",
       "1      G       GGA      G    S  \n",
       "2    NaN       NaN    NaN   NS  \n",
       "3      T       ACT      T    S  \n",
       "4      V       GTT      V    S  "
      ]
     },
     "execution_count": 27,
     "metadata": {},
     "output_type": "execute_result"
    }
   ],
   "source": [
    "import pandas as pd\n",
    "import matplotlib.pyplot as plt\n",
    "import numpy as np\n",
    "rep_a = pd.read_csv(\"8_japan_GI.1_final.tsv\", sep=\"\\t\")\n",
    "rep_a[\"S_NS\"] = np.where(rep_a[\"REF_AA\"] == rep_a[\"ALT_AA\"], \"S\", \"NS\")\n",
    "rep_a.head()"
   ]
  },
  {
   "cell_type": "code",
   "execution_count": 28,
   "metadata": {},
   "outputs": [
    {
     "data": {
      "text/plain": [
       "(7, 20)"
      ]
     },
     "execution_count": 28,
     "metadata": {},
     "output_type": "execute_result"
    }
   ],
   "source": [
    "rep_b=rep_a[rep_a['TOTAL_DP'] >= 400]\n",
    "shape = rep_b.shape \n",
    "shape"
   ]
  },
  {
   "cell_type": "code",
   "execution_count": 29,
   "metadata": {},
   "outputs": [
    {
     "ename": "IndexError",
     "evalue": "invalid index to scalar variable.",
     "output_type": "error",
     "traceback": [
      "\u001b[0;31m---------------------------------------------------------------------------\u001b[0m",
      "\u001b[0;31mIndexError\u001b[0m                                Traceback (most recent call last)",
      "\u001b[0;32m<ipython-input-29-6cd891dd41c7>\u001b[0m in \u001b[0;36m<module>\u001b[0;34m\u001b[0m\n\u001b[1;32m      4\u001b[0m \u001b[0mrep_b\u001b[0m\u001b[0;34m=\u001b[0m\u001b[0mrep_a\u001b[0m\u001b[0;34m[\u001b[0m\u001b[0mrep_a\u001b[0m\u001b[0;34m[\u001b[0m\u001b[0;34m'TOTAL_DP'\u001b[0m\u001b[0;34m]\u001b[0m \u001b[0;34m>=\u001b[0m \u001b[0;36m400\u001b[0m\u001b[0;34m]\u001b[0m\u001b[0;34m\u001b[0m\u001b[0;34m\u001b[0m\u001b[0m\n\u001b[1;32m      5\u001b[0m sns.lmplot( x=\"POS\", y=\"ALT_FREQ\", data=rep_b, fit_reg=False, hue='S_NS',aspect=14/5, \n\u001b[0;32m----> 6\u001b[0;31m            legend=True, legend_out=True)\n\u001b[0m\u001b[1;32m      7\u001b[0m \u001b[0mplt\u001b[0m\u001b[0;34m.\u001b[0m\u001b[0mxlabel\u001b[0m\u001b[0;34m(\u001b[0m\u001b[0;34m'Genome position'\u001b[0m\u001b[0;34m,\u001b[0m \u001b[0mfontsize\u001b[0m\u001b[0;34m=\u001b[0m\u001b[0;36m15\u001b[0m\u001b[0;34m)\u001b[0m\u001b[0;34m\u001b[0m\u001b[0;34m\u001b[0m\u001b[0m\n\u001b[1;32m      8\u001b[0m \u001b[0mplt\u001b[0m\u001b[0;34m.\u001b[0m\u001b[0mylabel\u001b[0m\u001b[0;34m(\u001b[0m\u001b[0;34m'iSNV frequency'\u001b[0m\u001b[0;34m,\u001b[0m \u001b[0mfontsize\u001b[0m\u001b[0;34m=\u001b[0m\u001b[0;36m15\u001b[0m\u001b[0;34m)\u001b[0m\u001b[0;34m\u001b[0m\u001b[0;34m\u001b[0m\u001b[0m\n",
      "\u001b[0;32m~/anaconda3/lib/python3.7/site-packages/seaborn/regression.py\u001b[0m in \u001b[0;36mlmplot\u001b[0;34m(x, y, data, hue, col, row, palette, col_wrap, height, aspect, markers, sharex, sharey, hue_order, col_order, row_order, legend, legend_out, x_estimator, x_bins, x_ci, scatter, fit_reg, ci, n_boot, units, seed, order, logistic, lowess, robust, logx, x_partial, y_partial, truncate, x_jitter, y_jitter, scatter_kws, line_kws, size)\u001b[0m\n\u001b[1;32m    615\u001b[0m         \u001b[0mscatter_kws\u001b[0m\u001b[0;34m=\u001b[0m\u001b[0mscatter_kws\u001b[0m\u001b[0;34m,\u001b[0m \u001b[0mline_kws\u001b[0m\u001b[0;34m=\u001b[0m\u001b[0mline_kws\u001b[0m\u001b[0;34m,\u001b[0m\u001b[0;34m\u001b[0m\u001b[0;34m\u001b[0m\u001b[0m\n\u001b[1;32m    616\u001b[0m         )\n\u001b[0;32m--> 617\u001b[0;31m     \u001b[0mfacets\u001b[0m\u001b[0;34m.\u001b[0m\u001b[0mmap_dataframe\u001b[0m\u001b[0;34m(\u001b[0m\u001b[0mregplot\u001b[0m\u001b[0;34m,\u001b[0m \u001b[0mx\u001b[0m\u001b[0;34m,\u001b[0m \u001b[0my\u001b[0m\u001b[0;34m,\u001b[0m \u001b[0;34m**\u001b[0m\u001b[0mregplot_kws\u001b[0m\u001b[0;34m)\u001b[0m\u001b[0;34m\u001b[0m\u001b[0;34m\u001b[0m\u001b[0m\n\u001b[0m\u001b[1;32m    618\u001b[0m \u001b[0;34m\u001b[0m\u001b[0m\n\u001b[1;32m    619\u001b[0m     \u001b[0;31m# Add a legend\u001b[0m\u001b[0;34m\u001b[0m\u001b[0;34m\u001b[0m\u001b[0;34m\u001b[0m\u001b[0m\n",
      "\u001b[0;32m~/anaconda3/lib/python3.7/site-packages/seaborn/axisgrid.py\u001b[0m in \u001b[0;36mmap_dataframe\u001b[0;34m(self, func, *args, **kwargs)\u001b[0m\n\u001b[1;32m    831\u001b[0m \u001b[0;34m\u001b[0m\u001b[0m\n\u001b[1;32m    832\u001b[0m             \u001b[0;31m# Draw the plot\u001b[0m\u001b[0;34m\u001b[0m\u001b[0;34m\u001b[0m\u001b[0;34m\u001b[0m\u001b[0m\n\u001b[0;32m--> 833\u001b[0;31m             \u001b[0mself\u001b[0m\u001b[0;34m.\u001b[0m\u001b[0m_facet_plot\u001b[0m\u001b[0;34m(\u001b[0m\u001b[0mfunc\u001b[0m\u001b[0;34m,\u001b[0m \u001b[0max\u001b[0m\u001b[0;34m,\u001b[0m \u001b[0margs\u001b[0m\u001b[0;34m,\u001b[0m \u001b[0mkwargs\u001b[0m\u001b[0;34m)\u001b[0m\u001b[0;34m\u001b[0m\u001b[0;34m\u001b[0m\u001b[0m\n\u001b[0m\u001b[1;32m    834\u001b[0m \u001b[0;34m\u001b[0m\u001b[0m\n\u001b[1;32m    835\u001b[0m         \u001b[0;31m# Finalize the annotations and layout\u001b[0m\u001b[0;34m\u001b[0m\u001b[0;34m\u001b[0m\u001b[0;34m\u001b[0m\u001b[0m\n",
      "\u001b[0;32m~/anaconda3/lib/python3.7/site-packages/seaborn/axisgrid.py\u001b[0m in \u001b[0;36m_facet_plot\u001b[0;34m(self, func, ax, plot_args, plot_kwargs)\u001b[0m\n\u001b[1;32m    849\u001b[0m \u001b[0;34m\u001b[0m\u001b[0m\n\u001b[1;32m    850\u001b[0m         \u001b[0;31m# Draw the plot\u001b[0m\u001b[0;34m\u001b[0m\u001b[0;34m\u001b[0m\u001b[0;34m\u001b[0m\u001b[0m\n\u001b[0;32m--> 851\u001b[0;31m         \u001b[0mfunc\u001b[0m\u001b[0;34m(\u001b[0m\u001b[0;34m*\u001b[0m\u001b[0mplot_args\u001b[0m\u001b[0;34m,\u001b[0m \u001b[0;34m**\u001b[0m\u001b[0mplot_kwargs\u001b[0m\u001b[0;34m)\u001b[0m\u001b[0;34m\u001b[0m\u001b[0;34m\u001b[0m\u001b[0m\n\u001b[0m\u001b[1;32m    852\u001b[0m \u001b[0;34m\u001b[0m\u001b[0m\n\u001b[1;32m    853\u001b[0m         \u001b[0;31m# Sort out the supporting information\u001b[0m\u001b[0;34m\u001b[0m\u001b[0;34m\u001b[0m\u001b[0;34m\u001b[0m\u001b[0m\n",
      "\u001b[0;32m~/anaconda3/lib/python3.7/site-packages/seaborn/regression.py\u001b[0m in \u001b[0;36mregplot\u001b[0;34m(x, y, data, x_estimator, x_bins, x_ci, scatter, fit_reg, ci, n_boot, units, seed, order, logistic, lowess, robust, logx, x_partial, y_partial, truncate, dropna, x_jitter, y_jitter, label, color, marker, scatter_kws, line_kws, ax)\u001b[0m\n\u001b[1;32m    808\u001b[0m                                  \u001b[0morder\u001b[0m\u001b[0;34m,\u001b[0m \u001b[0mlogistic\u001b[0m\u001b[0;34m,\u001b[0m \u001b[0mlowess\u001b[0m\u001b[0;34m,\u001b[0m \u001b[0mrobust\u001b[0m\u001b[0;34m,\u001b[0m \u001b[0mlogx\u001b[0m\u001b[0;34m,\u001b[0m\u001b[0;34m\u001b[0m\u001b[0;34m\u001b[0m\u001b[0m\n\u001b[1;32m    809\u001b[0m                                  \u001b[0mx_partial\u001b[0m\u001b[0;34m,\u001b[0m \u001b[0my_partial\u001b[0m\u001b[0;34m,\u001b[0m \u001b[0mtruncate\u001b[0m\u001b[0;34m,\u001b[0m \u001b[0mdropna\u001b[0m\u001b[0;34m,\u001b[0m\u001b[0;34m\u001b[0m\u001b[0;34m\u001b[0m\u001b[0m\n\u001b[0;32m--> 810\u001b[0;31m                                  x_jitter, y_jitter, color, label)\n\u001b[0m\u001b[1;32m    811\u001b[0m \u001b[0;34m\u001b[0m\u001b[0m\n\u001b[1;32m    812\u001b[0m     \u001b[0;32mif\u001b[0m \u001b[0max\u001b[0m \u001b[0;32mis\u001b[0m \u001b[0;32mNone\u001b[0m\u001b[0;34m:\u001b[0m\u001b[0;34m\u001b[0m\u001b[0;34m\u001b[0m\u001b[0m\n",
      "\u001b[0;32m~/anaconda3/lib/python3.7/site-packages/seaborn/regression.py\u001b[0m in \u001b[0;36m__init__\u001b[0;34m(self, x, y, data, x_estimator, x_bins, x_ci, scatter, fit_reg, ci, n_boot, units, seed, order, logistic, lowess, robust, logx, x_partial, y_partial, truncate, dropna, x_jitter, y_jitter, color, label)\u001b[0m\n\u001b[1;32m    112\u001b[0m         \u001b[0;31m# Drop null observations\u001b[0m\u001b[0;34m\u001b[0m\u001b[0;34m\u001b[0m\u001b[0;34m\u001b[0m\u001b[0m\n\u001b[1;32m    113\u001b[0m         \u001b[0;32mif\u001b[0m \u001b[0mdropna\u001b[0m\u001b[0;34m:\u001b[0m\u001b[0;34m\u001b[0m\u001b[0;34m\u001b[0m\u001b[0m\n\u001b[0;32m--> 114\u001b[0;31m             \u001b[0mself\u001b[0m\u001b[0;34m.\u001b[0m\u001b[0mdropna\u001b[0m\u001b[0;34m(\u001b[0m\u001b[0;34m\"x\"\u001b[0m\u001b[0;34m,\u001b[0m \u001b[0;34m\"y\"\u001b[0m\u001b[0;34m,\u001b[0m \u001b[0;34m\"units\"\u001b[0m\u001b[0;34m,\u001b[0m \u001b[0;34m\"x_partial\"\u001b[0m\u001b[0;34m,\u001b[0m \u001b[0;34m\"y_partial\"\u001b[0m\u001b[0;34m)\u001b[0m\u001b[0;34m\u001b[0m\u001b[0;34m\u001b[0m\u001b[0m\n\u001b[0m\u001b[1;32m    115\u001b[0m \u001b[0;34m\u001b[0m\u001b[0m\n\u001b[1;32m    116\u001b[0m         \u001b[0;31m# Regress nuisance variables out of the data\u001b[0m\u001b[0;34m\u001b[0m\u001b[0;34m\u001b[0m\u001b[0;34m\u001b[0m\u001b[0m\n",
      "\u001b[0;32m~/anaconda3/lib/python3.7/site-packages/seaborn/regression.py\u001b[0m in \u001b[0;36mdropna\u001b[0;34m(self, *vars)\u001b[0m\n\u001b[1;32m     64\u001b[0m             \u001b[0mval\u001b[0m \u001b[0;34m=\u001b[0m \u001b[0mgetattr\u001b[0m\u001b[0;34m(\u001b[0m\u001b[0mself\u001b[0m\u001b[0;34m,\u001b[0m \u001b[0mvar\u001b[0m\u001b[0;34m)\u001b[0m\u001b[0;34m\u001b[0m\u001b[0;34m\u001b[0m\u001b[0m\n\u001b[1;32m     65\u001b[0m             \u001b[0;32mif\u001b[0m \u001b[0mval\u001b[0m \u001b[0;32mis\u001b[0m \u001b[0;32mnot\u001b[0m \u001b[0;32mNone\u001b[0m\u001b[0;34m:\u001b[0m\u001b[0;34m\u001b[0m\u001b[0;34m\u001b[0m\u001b[0m\n\u001b[0;32m---> 66\u001b[0;31m                 \u001b[0msetattr\u001b[0m\u001b[0;34m(\u001b[0m\u001b[0mself\u001b[0m\u001b[0;34m,\u001b[0m \u001b[0mvar\u001b[0m\u001b[0;34m,\u001b[0m \u001b[0mval\u001b[0m\u001b[0;34m[\u001b[0m\u001b[0mnot_na\u001b[0m\u001b[0;34m]\u001b[0m\u001b[0;34m)\u001b[0m\u001b[0;34m\u001b[0m\u001b[0;34m\u001b[0m\u001b[0m\n\u001b[0m\u001b[1;32m     67\u001b[0m \u001b[0;34m\u001b[0m\u001b[0m\n\u001b[1;32m     68\u001b[0m     \u001b[0;32mdef\u001b[0m \u001b[0mplot\u001b[0m\u001b[0;34m(\u001b[0m\u001b[0mself\u001b[0m\u001b[0;34m,\u001b[0m \u001b[0max\u001b[0m\u001b[0;34m)\u001b[0m\u001b[0;34m:\u001b[0m\u001b[0;34m\u001b[0m\u001b[0;34m\u001b[0m\u001b[0m\n",
      "\u001b[0;31mIndexError\u001b[0m: invalid index to scalar variable."
     ]
    },
    {
     "data": {
      "image/png": "[encoded data removed]",
      "text/plain": [
       "<Figure size 1008x360 with 1 Axes>"
      ]
     },
     "metadata": {
      "needs_background": "light"
     },
     "output_type": "display_data"
    }
   ],
   "source": [
    "import numpy as np\n",
    "import seaborn as sns\n",
    "import matplotlib.pyplot as plt\n",
    "rep_b=rep_a[rep_a['TOTAL_DP'] >= 400]\n",
    "sns.lmplot( x=\"POS\", y=\"ALT_FREQ\", data=rep_b, fit_reg=False, hue='S_NS',aspect=14/5, \n",
    "           legend=True, legend_out=True)\n",
    "plt.xlabel('Genome position', fontsize=15)\n",
    "plt.ylabel('iSNV frequency', fontsize=15)\n",
    "plt.title('iSNVs in sample 8_japan vs outbreak_consensus', fontsize=20)\n",
    "plt.grid(axis=\"both\")\n",
    "plt.show()"
   ]
  },
  {
   "cell_type": "code",
   "execution_count": null,
   "metadata": {},
   "outputs": [],
   "source": [
    "# let us filter snps in non structural region [1-5099]\n",
    "print(\"snps in non structural region\")\n",
    "print((rep_b[(rep_b['POS'] > 3610) & (rep_b['POS'] < 5099)]).shape)\n",
    "# let us filter snps in complete capsid[5010-6800]\n",
    "print(\"snps in capsid\")\n",
    "print((rep_b[(rep_b['POS'] > 5100) & (rep_b['POS'] < 7350)]).shape)"
   ]
  },
  {
   "cell_type": "code",
   "execution_count": null,
   "metadata": {},
   "outputs": [],
   "source": [
    "# what percentage of this masked genome (without reads from mismached primers) has depth >400 ? \n",
    "os.chdir(\"/media/viro102/HD-ADU3/kte-data/sapo-ivar/test/outbreak_samples/GI.1/remapped-share/2015k4/8_japan/depth\")\n",
    "df_masked = pd.read_csv(\"8_japan_GI.1.bad_are_masked.sorted.depth\", sep = \"\\t\", names = [\"Ref\", \"Pos\", \"depth_mask\"])\n",
    "df_masked['400cov'] = np.where(df_masked['depth_mask']>=400, 'yes', 'no')\n",
    "df_masked['100cov'] = np.where(df_masked['depth_mask']>=100, 'yes', 'no')\n",
    "df_masked.head()"
   ]
  },
  {
   "cell_type": "code",
   "execution_count": null,
   "metadata": {},
   "outputs": [],
   "source": [
    "# What proportion of the genome is has a depth of coverage of at least >100 reads, >400 (Breadth ofcoverage)\n",
    "my_tab1 = pd.crosstab(index=df_masked[\"100cov\"],  # Make a crosstab\n",
    "                              columns=\"Breadth 100coverage\")      # Name the count column\n",
    "my_tab2 = pd.crosstab(index=df_masked[\"400cov\"],  # Make a crosstab\n",
    "                              columns=\"Beadth above 400coverage\")      # Name the count column\n",
    "shape=df_masked.shape\n",
    "print(shape)\n",
    "print(my_tab1); print(my_tab2)"
   ]
  },
  {
   "cell_type": "code",
   "execution_count": null,
   "metadata": {},
   "outputs": [],
   "source": [
    "5941/7388 * 100 # proportion of genome covered >400"
   ]
  },
  {
   "cell_type": "code",
   "execution_count": null,
   "metadata": {},
   "outputs": [],
   "source": [
    "6697/7388 * 100 # proportion of genome covered >100"
   ]
  }
 ],
 "metadata": {
  "kernelspec": {
   "display_name": "Python 3",
   "language": "python",
   "name": "python3"
  },
  "language_info": {
   "codemirror_mode": {
    "name": "ipython",
    "version": 3
   },
   "file_extension": ".py",
   "mimetype": "text/x-python",
   "name": "python",
   "nbconvert_exporter": "python",
   "pygments_lexer": "ipython3",
   "version": "3.7.6"
  }
 },
 "nbformat": 4,
 "nbformat_minor": 4
}

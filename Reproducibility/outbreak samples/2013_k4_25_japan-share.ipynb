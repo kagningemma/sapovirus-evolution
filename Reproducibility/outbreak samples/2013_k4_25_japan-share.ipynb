{
 "cells": [
  {
   "cell_type": "markdown",
   "metadata": {},
   "source": [
    "## Full analysis of a sample tested positive to the sapovirus GI.2 during a non-foodborne outbreak in Miyagi-Japan\n"
   ]
  },
  {
   "cell_type": "markdown",
   "metadata": {},
   "source": [
    "We initially mapped these reads to the Nashville Reference sequence\n",
    "Here, we curated the outbreak consensus and re-mapped the reads to outbreak consensus"
   ]
  },
  {
   "cell_type": "code",
   "execution_count": 1,
   "metadata": {},
   "outputs": [],
   "source": [
    "import os\n",
    "os.chdir(\"/media/viro102/HD-ADU3/kte-data/sapo-ivar/test/outbreak_samples/GI.2/remapped-share/2013k4.fa/25_japan/\")"
   ]
  },
  {
   "cell_type": "markdown",
   "metadata": {},
   "source": [
    "### 1-index reference for mapping"
   ]
  },
  {
   "cell_type": "code",
   "execution_count": 2,
   "metadata": {},
   "outputs": [
    {
     "name": "stdout",
     "output_type": "stream",
     "text": [
      "GANBATTE! KTE\n",
      "reference indexed\n"
     ]
    },
    {
     "name": "stderr",
     "output_type": "stream",
     "text": [
      "[bwa_index] Pack FASTA... 0.00 sec\n",
      "[bwa_index] Construct BWT for the packed sequence...\n",
      "[bwa_index] 0.00 seconds elapse.\n",
      "[bwa_index] Update BWT... 0.00 sec\n",
      "[bwa_index] Pack forward-only FASTA... 0.00 sec\n",
      "[bwa_index] Construct SA from BWT and Occ... 0.00 sec\n",
      "[main] Version: 0.7.12-r1039\n",
      "[main] CMD: bwa index cons_GI.2_outbreak2013k4.fa\n",
      "[main] Real time: 0.132 sec; CPU: 0.009 sec\n"
     ]
    }
   ],
   "source": [
    "%%bash\n",
    "echo \"GANBATTE! KTE\"\n",
    "echo \"reference indexed\"\n",
    "\n",
    "# index ref\n",
    "bwa index cons_GI.2_outbreak2013k4.fa"
   ]
  },
  {
   "cell_type": "markdown",
   "metadata": {},
   "source": [
    "### 2-Map reads to reference"
   ]
  },
  {
   "cell_type": "code",
   "execution_count": 3,
   "metadata": {},
   "outputs": [
    {
     "name": "stdout",
     "output_type": "stream",
     "text": [
      "mapping completed\n"
     ]
    },
    {
     "name": "stderr",
     "output_type": "stream",
     "text": [
      "[M::bwa_idx_load_from_disk] read 0 ALT contigs\n",
      "[M::process] read 1489630 sequences (193156752 bp)...\n",
      "[M::mem_pestat] # candidate unique pairs for (FF, FR, RF, RR): (28, 714234, 21, 19)\n",
      "[M::mem_pestat] analyzing insert size distribution for orientation FF...\n",
      "[M::mem_pestat] (25, 50, 75) percentile: (288, 400, 1907)\n",
      "[M::mem_pestat] low and high boundaries for computing mean and std.dev: (1, 5145)\n",
      "[M::mem_pestat] mean and std.dev: (1007.39, 1012.86)\n",
      "[M::mem_pestat] low and high boundaries for proper pairs: (1, 6764)\n",
      "[M::mem_pestat] analyzing insert size distribution for orientation FR...\n",
      "[M::mem_pestat] (25, 50, 75) percentile: (76, 115, 173)\n",
      "[M::mem_pestat] low and high boundaries for computing mean and std.dev: (1, 367)\n",
      "[M::mem_pestat] mean and std.dev: (129.58, 69.97)\n",
      "[M::mem_pestat] low and high boundaries for proper pairs: (1, 464)\n",
      "[M::mem_pestat] analyzing insert size distribution for orientation RF...\n",
      "[M::mem_pestat] (25, 50, 75) percentile: (36, 1391, 2850)\n",
      "[M::mem_pestat] low and high boundaries for computing mean and std.dev: (1, 8478)\n",
      "[M::mem_pestat] mean and std.dev: (1690.86, 1642.17)\n",
      "[M::mem_pestat] low and high boundaries for proper pairs: (1, 11292)\n",
      "[M::mem_pestat] analyzing insert size distribution for orientation RR...\n",
      "[M::mem_pestat] (25, 50, 75) percentile: (262, 372, 1213)\n",
      "[M::mem_pestat] low and high boundaries for computing mean and std.dev: (1, 3115)\n",
      "[M::mem_pestat] mean and std.dev: (686.06, 774.38)\n",
      "[M::mem_pestat] low and high boundaries for proper pairs: (1, 4066)\n",
      "[M::mem_pestat] skip orientation FF\n",
      "[M::mem_pestat] skip orientation RF\n",
      "[M::mem_pestat] skip orientation RR\n",
      "[M::mem_process_seqs] Processed 1489630 reads in 113.778 CPU sec, 23.422 real sec\n",
      "[main] Version: 0.7.12-r1039\n",
      "[main] CMD: bwa mem -t 32 cons_GI.2_outbreak2013k4.fa 25_S8_L001_R1_001.fastq.gz 25_S8_L001_R2_001.fastq.gz\n",
      "[main] Real time: 71.143 sec; CPU: 123.805 sec\n"
     ]
    }
   ],
   "source": [
    "%%bash\n",
    "bwa mem -t 32  cons_GI.2_outbreak2013k4.fa 25_S8_L001_R1_001.fastq.gz 25_S8_L001_R2_001.fastq.gz | samtools view -b -F 4 -F 2048 | samtools sort -o 25_japan_GI.2.sorted.bam\n",
    "echo \"mapping completed\""
   ]
  },
  {
   "cell_type": "code",
   "execution_count": 4,
   "metadata": {},
   "outputs": [
    {
     "name": "stdout",
     "output_type": "stream",
     "text": [
      "25_japan_GI.2.sorted.bam\n",
      "25_S8_L001_R1_001.fastq.gz\n",
      "25_S8_L001_R2_001.fastq.gz\n",
      "cons_GI.2_outbreak2013k4.fa\n",
      "cons_GI.2_outbreak2013k4.fa.amb\n",
      "cons_GI.2_outbreak2013k4.fa.ann\n",
      "cons_GI.2_outbreak2013k4.fa.bwt\n",
      "cons_GI.2_outbreak2013k4.fa.pac\n",
      "cons_GI.2_outbreak2013k4.fa.sa\n",
      "cons_GI.2_outbreak2013k4.gff\n",
      "Primalprimers_SaV_GI.2_batch2_ok.fa\n",
      "Primal-primers_SaVGI.2pairs_ok.tsv\n"
     ]
    }
   ],
   "source": [
    "%%bash\n",
    "ls"
   ]
  },
  {
   "cell_type": "code",
   "execution_count": 5,
   "metadata": {},
   "outputs": [
    {
     "name": "stdout",
     "output_type": "stream",
     "text": [
      "1436859 + 0 in total (QC-passed reads + QC-failed reads)\n",
      "0 + 0 secondary\n",
      "0 + 0 supplementary\n",
      "0 + 0 duplicates\n",
      "1436859 + 0 mapped (100.00% : N/A)\n",
      "1436859 + 0 paired in sequencing\n",
      "718551 + 0 read1\n",
      "718308 + 0 read2\n",
      "1425716 + 0 properly paired (99.22% : N/A)\n",
      "1433032 + 0 with itself and mate mapped\n",
      "3827 + 0 singletons (0.27% : N/A)\n",
      "0 + 0 with mate mapped to a different chr\n",
      "0 + 0 with mate mapped to a different chr (mapQ>=5)\n"
     ]
    }
   ],
   "source": [
    "%%bash\n",
    "samtools flagstat 25_japan_GI.2.sorted.bam"
   ]
  },
  {
   "cell_type": "markdown",
   "metadata": {},
   "source": [
    "### 3-Let's now trim-off the primer sequences using ivar. \n",
    "In order to do this we need three files: (1) a BED file with primer coordinates. We will generate this by aligning the primer sequences to the reference sequence and then using bedtools to create the BED file. We also neet (2) Aligned and (3) sorted BAM file generate in the previous step.\n"
   ]
  },
  {
   "cell_type": "code",
   "execution_count": 6,
   "metadata": {},
   "outputs": [],
   "source": [
    "# map primers to the reference genome to identify primers coordinates"
   ]
  },
  {
   "cell_type": "code",
   "execution_count": 7,
   "metadata": {},
   "outputs": [
    {
     "name": "stdout",
     "output_type": "stream",
     "text": [
      "bed file with primers locations on reference sequence generated\n"
     ]
    },
    {
     "name": "stderr",
     "output_type": "stream",
     "text": [
      "[M::bwa_idx_load_from_disk] read 0 ALT contigs\n",
      "[M::process] read 68 sequences (1514 bp)...\n",
      "[M::mem_process_seqs] Processed 68 reads in 0.010 CPU sec, 0.010 real sec\n",
      "[main] Version: 0.7.12-r1039\n",
      "[main] CMD: bwa mem -k 5 -T 16 cons_GI.2_outbreak2013k4.fa Primalprimers_SaV_GI.2_batch2_ok.fa\n",
      "[main] Real time: 0.012 sec; CPU: 0.013 sec\n"
     ]
    }
   ],
   "source": [
    "%%bash\n",
    "bwa mem -k 5 -T 16 cons_GI.2_outbreak2013k4.fa Primalprimers_SaV_GI.2_batch2_ok.fa  | samtools view -b -F 4 > Primalprimers_SaV_GI.2_batch2_ok.fa.bam\n",
    "bedtools bamtobed -i Primalprimers_SaV_GI.2_batch2_ok.fa.bam > 25_japan_GI.2_primers.bed\n",
    "echo \"bed file with primers locations on reference sequence generated\""
   ]
  },
  {
   "cell_type": "code",
   "execution_count": 8,
   "metadata": {},
   "outputs": [],
   "source": [
    "# We will now use this BED file as input to ivar to trim primer sequences\n",
    "\n",
    "# Note that this BED file has to be generated only once for a reference sequence."
   ]
  },
  {
   "cell_type": "code",
   "execution_count": 9,
   "metadata": {},
   "outputs": [
    {
     "name": "stdout",
     "output_type": "stream",
     "text": [
      "Number of references: 1\n",
      "Reference Name: cons_GI.2_outbreak2013k4\n",
      "Reference Length: 7442\n",
      "Using Region: cons_GI.2_outbreak2013k4\n",
      "Sorted By Coordinate\n",
      "Sorted By Query Name\n",
      "Processed 1000000 reads ... \n",
      "Results: \n",
      "Trimmed primers from 375201 reads.\n",
      "52383 reads were shortened below the minimum length of 30 bp and were not writen to file.\n",
      "1031052 reads that started outside of primer regions were not written to file.\n",
      "primers trimming complete\n",
      "Sorted and indexed trimmed BAM file\n"
     ]
    },
    {
     "name": "stderr",
     "output_type": "stream",
     "text": [
      "[E::idx_find_and_load] Could not retrieve index file for '25_japan_GI.2.sorted.bam'\n"
     ]
    }
   ],
   "source": [
    "%%bash\n",
    "ivar trim -b 25_japan_GI.2_primers.bed -p 25_japan_GI.2.trimmed -i 25_japan_GI.2.sorted.bam\n",
    "echo \"primers trimming complete\"\n",
    "# Sort and index trimmed BAM file.\n",
    "samtools sort -o 25_japan_GI.2.trimmed.sorted.bam 25_japan_GI.2.trimmed.bam ; samtools index 25_japan_GI.2.trimmed.sorted.bam\n",
    "echo \"Sorted and indexed trimmed BAM file\"\n"
   ]
  },
  {
   "cell_type": "code",
   "execution_count": null,
   "metadata": {},
   "outputs": [],
   "source": []
  },
  {
   "cell_type": "code",
   "execution_count": 10,
   "metadata": {},
   "outputs": [
    {
     "name": "stdout",
     "output_type": "stream",
     "text": [
      "353424 + 0 in total (QC-passed reads + QC-failed reads)\n",
      "0 + 0 secondary\n",
      "0 + 0 supplementary\n",
      "0 + 0 duplicates\n",
      "353424 + 0 mapped (100.00% : N/A)\n",
      "353424 + 0 paired in sequencing\n",
      "181226 + 0 read1\n",
      "172198 + 0 read2\n",
      "351430 + 0 properly paired (99.44% : N/A)\n",
      "352998 + 0 with itself and mate mapped\n",
      "426 + 0 singletons (0.12% : N/A)\n",
      "0 + 0 with mate mapped to a different chr\n",
      "0 + 0 with mate mapped to a different chr (mapQ>=5)\n"
     ]
    }
   ],
   "source": [
    "%%bash\n",
    "samtools flagstat 25_japan_GI.2.trimmed.sorted.bam"
   ]
  },
  {
   "cell_type": "markdown",
   "metadata": {},
   "source": [
    "### 4-Let's quicky take a look at the depth of the trimmed vs untrimmed BAM file. We'll extract the depth using the samtools depth command.\n"
   ]
  },
  {
   "cell_type": "code",
   "execution_count": 11,
   "metadata": {},
   "outputs": [
    {
     "name": "stdout",
     "output_type": "stream",
     "text": [
      "Please plot the depth per position\n"
     ]
    }
   ],
   "source": [
    "%%bash\n",
    "mkdir depth\n",
    "samtools depth -a 25_japan_GI.2.trimmed.sorted.bam > depth/25_japan_GI.2.trimmed.sorted.bam.depth ; samtools depth -a 25_japan_GI.2.sorted.bam > depth/25_japan_GI.2.sorted.bam.depth\n",
    "echo \"Please plot the depth per position\""
   ]
  },
  {
   "cell_type": "code",
   "execution_count": 12,
   "metadata": {},
   "outputs": [],
   "source": [
    "## Plot of the depth per position"
   ]
  },
  {
   "cell_type": "code",
   "execution_count": 13,
   "metadata": {},
   "outputs": [],
   "source": [
    "os.chdir(\"/media/viro102/HD-ADU3/kte-data/sapo-ivar/test/outbreak_samples/GI.2/remapped-share/2013k4.fa/25_japan/depth\")"
   ]
  },
  {
   "cell_type": "code",
   "execution_count": 14,
   "metadata": {},
   "outputs": [
    {
     "data": {
      "image/png": "[encoded data removed]",
      "text/plain": [
       "<Figure size 1080x360 with 1 Axes>"
      ]
     },
     "metadata": {
      "needs_background": "light"
     },
     "output_type": "display_data"
    }
   ],
   "source": [
    "import pandas as pd\n",
    "import matplotlib.pyplot as plt\n",
    "df_trimmed = pd.read_csv(\"25_japan_GI.2.trimmed.sorted.bam.depth\", sep = \"\\t\", names = [\"Ref\", \"Pos\", \"depth_t\"])\n",
    "df_untrimmed = pd.read_csv(\"25_japan_GI.2.sorted.bam.depth\", sep = \"\\t\", names = [\"Ref\", \"Pos\", \"depth_unt\"])\n",
    "\n",
    "ax = df_trimmed[\"depth_t\"].plot(logy=True, label = \"Trimmed\", figsize = (15,5), alpha = 0.9)\n",
    "df_untrimmed[\"depth_unt\"].plot(logy=True, ax = ax, label =\"Untrimmed\", alpha=0.9)\n",
    "plt.legend()\n",
    "plt.grid()\n",
    "plt.show()"
   ]
  },
  {
   "cell_type": "markdown",
   "metadata": {},
   "source": [
    "### 5-Let us identify primer sequences that might have a mismatch with the consensus sequence to ensure that we remove reads from any amplicons derived from those primers; Otherwise, it might bias the iSNV frequency due to varying primer binding effeciency"
   ]
  },
  {
   "cell_type": "code",
   "execution_count": 15,
   "metadata": {},
   "outputs": [],
   "source": [
    "#To that end, we have to : \n",
    "\n",
    "#Call consensus on merged BAM file (If the sequencing of each technical replicate was done separately).\n",
    "\n",
    "#Align primer sequences to consensus after creating a bwa index from the consensus sequence called."
   ]
  },
  {
   "cell_type": "code",
   "execution_count": 16,
   "metadata": {},
   "outputs": [],
   "source": [
    "os.chdir(\"/media/viro102/HD-ADU3/kte-data/sapo-ivar/test/outbreak_samples/GI.2/remapped-share/2013k4.fa/25_japan/\")"
   ]
  },
  {
   "cell_type": "code",
   "execution_count": 17,
   "metadata": {},
   "outputs": [
    {
     "name": "stdout",
     "output_type": "stream",
     "text": [
      "Minimum Quality: 20\n",
      "Threshold: 0\n",
      "Minimum depth: \u0000\n",
      "Regions with depth less than minimum depth covered by: -\n",
      "consensus called on BAM file.\n"
     ]
    },
    {
     "name": "stderr",
     "output_type": "stream",
     "text": [
      "[mpileup] 1 samples in 1 input files\n",
      "[mpileup] Max depth set to maximum value (2147483647)\n"
     ]
    }
   ],
   "source": [
    "%%bash\n",
    "# a-call consensus\n",
    "samtools mpileup -A -d 0 -Q 0 25_japan_GI.2.trimmed.sorted.bam  | ivar consensus -p 25_japan_GI.2.consensus\n",
    "echo \"consensus called on BAM file.\"\n"
   ]
  },
  {
   "cell_type": "code",
   "execution_count": 18,
   "metadata": {},
   "outputs": [
    {
     "name": "stdout",
     "output_type": "stream",
     "text": [
      "primers mapped to consensus\n"
     ]
    },
    {
     "name": "stderr",
     "output_type": "stream",
     "text": [
      "[bwa_index] Pack FASTA... 0.00 sec\n",
      "[bwa_index] Construct BWT for the packed sequence...\n",
      "[bwa_index] 0.00 seconds elapse.\n",
      "[bwa_index] Update BWT... 0.00 sec\n",
      "[bwa_index] Pack forward-only FASTA... 0.00 sec\n",
      "[bwa_index] Construct SA from BWT and Occ... 0.00 sec\n",
      "[main] Version: 0.7.12-r1039\n",
      "[main] CMD: bwa index -p 25_japan_GI.2.consensus 25_japan_GI.2.consensus.fa\n",
      "[main] Real time: 0.458 sec; CPU: 0.009 sec\n",
      "[M::bwa_idx_load_from_disk] read 0 ALT contigs\n",
      "[M::process] read 68 sequences (1514 bp)...\n",
      "[M::mem_process_seqs] Processed 68 reads in 0.011 CPU sec, 0.011 real sec\n",
      "[main] Version: 0.7.12-r1039\n",
      "[main] CMD: bwa mem -k 5 -T 16 25_japan_GI.2.consensus Primalprimers_SaV_GI.2_batch2_ok.fa\n",
      "[main] Real time: 0.013 sec; CPU: 0.014 sec\n"
     ]
    }
   ],
   "source": [
    "%%bash\n",
    "# Map primers to the indexed consensus sequence\n",
    "bwa index -p 25_japan_GI.2.consensus 25_japan_GI.2.consensus.fa\n",
    "bwa mem -k 5 -T 16 25_japan_GI.2.consensus Primalprimers_SaV_GI.2_batch2_ok.fa  | samtools view -bS -F 4 | samtools sort -o 25_japan_GI.2_primers_consensus.bam\n",
    "\n",
    "echo \"primers mapped to consensus\""
   ]
  },
  {
   "cell_type": "code",
   "execution_count": 19,
   "metadata": {},
   "outputs": [
    {
     "name": "stdout",
     "output_type": "stream",
     "text": [
      "GFF file is not in GFF3 file format!\n",
      "iSNVs on this initial BAM (without removal of reads from mismached primers) called at a minimum threshold of 3%\n"
     ]
    },
    {
     "name": "stderr",
     "output_type": "stream",
     "text": [
      "[mpileup] 1 samples in 1 input files\n",
      "[mpileup] Max depth set to maximum value (2147483647)\n"
     ]
    }
   ],
   "source": [
    "%%bash\n",
    "# \"Let's now call iSNVs on this BAM file at a minimum threshold of 3% and the default minimum quality threshold of 20\"\n",
    "samtools mpileup -A -d 0  -Q 0 25_japan_GI.2_primers_consensus.bam | ivar variants -p 25_japan_GI.2_primers_consensus_1 -t 0.03 -r 25_japan_GI.2.consensus.fa -g cons_GI.2_outbreak2013k4.gff\n",
    "\n",
    "echo \"iSNVs on this initial BAM (without removal of reads from mismached primers) called at a minimum threshold of 3%\"\n"
   ]
  },
  {
   "cell_type": "code",
   "execution_count": 20,
   "metadata": {},
   "outputs": [
    {
     "name": "stdout",
     "output_type": "stream",
     "text": [
      "KTESAVG12_1_RIGHT\tGI24thbatch_2_LEFT\tGI24thbatch_1_RIGHT\tKTESAVG12_5_RIGHT\tKTESAVG12_7_LEFT\tKTESAVG12_9_LEFT\tKTESAVG12_11_LEFT\tKTESAVG12_13_LEFT\tKTESAVG12_16_LEFT\tKTESAVG12_15_RIGHT\tGI24thbatch_6_RIGHT\tGI24thbatch_8_LEFT\tKTESAVG12_21_LEFT\tKTESAVG12_22_LEFT\tKTESAVG12_25_LEFT\tGI24thbatch_9_RIGHT\n",
      "you got the indices of primers with mismtaches and their respective pairs\n"
     ]
    }
   ],
   "source": [
    "%%bash\n",
    "# Let's now get the indices of primers with mismtaches and their respective pairs. To get the pair information, we need a tsv file with two columns to represent the pairs of primers. This file is at pair_information.tsv\n",
    "bedtools bamtobed -i 25_japan_GI.2_primers_consensus.bam > 25_japan_GI.2_primers_consensus.bam.bed ; ivar getmasked -i 25_japan_GI.2_primers_consensus_1.tsv -b 25_japan_GI.2_primers_consensus.bam.bed -f Primal-primers_SaVGI.1pairs_ok.tsv -p primer_mismatchers_indices\n",
    "echo \"you got the indices of primers with mismtaches and their respective pairs\"\n"
   ]
  },
  {
   "cell_type": "markdown",
   "metadata": {},
   "source": [
    "### 6- Let's omit reads from mismatched primers (Masking)"
   ]
  },
  {
   "cell_type": "code",
   "execution_count": 21,
   "metadata": {},
   "outputs": [
    {
     "name": "stdout",
     "output_type": "stream",
     "text": [
      "Writing to 25_japan_GI.2.bad_are_masked.bam\n",
      "Number of references: 1\n",
      "Reference Name: cons_GI.2_outbreak2013k4\n",
      "Reference Length: 7442\n",
      "Using Region: cons_GI.2_outbreak2013k4\n",
      "Sorted By Coordinate\n",
      "Results:\n",
      "82987 reads were removed.\n",
      "you removed reads from mismatched primers\n"
     ]
    }
   ],
   "source": [
    "%%bash\n",
    "ivar removereads -i 25_japan_GI.2.trimmed.sorted.bam -p 25_japan_GI.2.bad_are_masked.bam -t primer_mismatchers_indices.txt -b 25_japan_GI.2_primers.bed\n",
    "echo \"you removed reads from mismatched primers\""
   ]
  },
  {
   "cell_type": "code",
   "execution_count": 22,
   "metadata": {},
   "outputs": [
    {
     "name": "stdout",
     "output_type": "stream",
     "text": [
      "270437 + 0 in total (QC-passed reads + QC-failed reads)\n",
      "0 + 0 secondary\n",
      "0 + 0 supplementary\n",
      "0 + 0 duplicates\n",
      "270437 + 0 mapped (100.00% : N/A)\n",
      "270437 + 0 paired in sequencing\n",
      "138631 + 0 read1\n",
      "131806 + 0 read2\n",
      "268904 + 0 properly paired (99.43% : N/A)\n",
      "270120 + 0 with itself and mate mapped\n",
      "317 + 0 singletons (0.12% : N/A)\n",
      "0 + 0 with mate mapped to a different chr\n",
      "0 + 0 with mate mapped to a different chr (mapQ>=5)\n"
     ]
    }
   ],
   "source": [
    "%%bash\n",
    "samtools flagstat 25_japan_GI.2.bad_are_masked.bam"
   ]
  },
  {
   "cell_type": "code",
   "execution_count": 23,
   "metadata": {},
   "outputs": [
    {
     "name": "stdout",
     "output_type": "stream",
     "text": [
      "GFF file is not in GFF3 file format!\n",
      "\u001b[31mplease exclude variants with depth <400 and count iSNV\n"
     ]
    },
    {
     "name": "stderr",
     "output_type": "stream",
     "text": [
      "[mpileup] 1 samples in 1 input files\n",
      "[mpileup] Max depth set to maximum value (2147483647)\n"
     ]
    }
   ],
   "source": [
    "%%bash\n",
    "# let us take a look at the reads distribution before and after masking\n",
    "samtools sort -o 25_japan_GI.2.bad_are_masked.sorted.bam 25_japan_GI.2.bad_are_masked.bam \n",
    "samtools depth -a 25_japan_GI.2.bad_are_masked.sorted.bam > depth/25_japan_GI.2.bad_are_masked.sorted.depth\n",
    "\n",
    "# echo \"Let's now call iSNVs from the BAMS without reads from the masked amplicons\"\n",
    "\n",
    "samtools mpileup -A -d 0 --reference cons_GI.2_outbreak2013k4.fa -Q 0 25_japan_GI.2.bad_are_masked.sorted.bam | ivar variants -p 25_japan_GI.2_final -t 0.03 -r cons_GI.2_outbreak2013k4.fa -g cons_GI.2_outbreak2013k4.gff ; tput setaf 1 echo \"analysis is completed\"\n",
    "echo \"please exclude variants with depth <400 and count iSNV\""
   ]
  },
  {
   "cell_type": "code",
   "execution_count": 24,
   "metadata": {},
   "outputs": [],
   "source": [
    "os.chdir(\"/media/viro102/HD-ADU3/kte-data/sapo-ivar/test/outbreak_samples/GI.2/remapped-share/2013k4.fa/25_japan/depth\")"
   ]
  },
  {
   "cell_type": "code",
   "execution_count": 25,
   "metadata": {},
   "outputs": [
    {
     "data": {
      "image/png": "[encoded data removed]",
      "text/plain": [
       "<Figure size 1080x360 with 1 Axes>"
      ]
     },
     "metadata": {
      "needs_background": "light"
     },
     "output_type": "display_data"
    }
   ],
   "source": [
    "import pandas as pd\n",
    "import matplotlib.pyplot as plt\n",
    "df_unmasked = pd.read_csv(\"25_japan_GI.2.trimmed.sorted.bam.depth\", sep = \"\\t\", names = [\"Ref\", \"Pos\", \"depth_unmask\"])\n",
    "df_masked = pd.read_csv(\"25_japan_GI.2.bad_are_masked.sorted.depth\", sep = \"\\t\", names = [\"Ref\", \"Pos\", \"depth_mask\"])\n",
    "\n",
    "ax = df_masked[\"depth_mask\"].plot(logy=True, label = \"Masked\", figsize = (15,5), alpha = 0.9)\n",
    "df_unmasked[\"depth_unmask\"].plot(logy=True, ax = ax, label =\"Unmasked\", alpha=0.9)\n",
    "plt.legend()\n",
    "plt.grid()\n",
    "plt.show()"
   ]
  },
  {
   "cell_type": "markdown",
   "metadata": {},
   "source": [
    "#### 7- View Tables and Plots"
   ]
  },
  {
   "cell_type": "code",
   "execution_count": 26,
   "metadata": {},
   "outputs": [],
   "source": [
    "os.chdir(\"/media/viro102/HD-ADU3/kte-data/sapo-ivar/test/outbreak_samples/GI.2/remapped-share/2013k4.fa/25_japan/\")"
   ]
  },
  {
   "cell_type": "code",
   "execution_count": 27,
   "metadata": {},
   "outputs": [
    {
     "data": {
      "text/html": [
       "<div>\n",
       "<style scoped>\n",
       "    .dataframe tbody tr th:only-of-type {\n",
       "        vertical-align: middle;\n",
       "    }\n",
       "\n",
       "    .dataframe tbody tr th {\n",
       "        vertical-align: top;\n",
       "    }\n",
       "\n",
       "    .dataframe thead th {\n",
       "        text-align: right;\n",
       "    }\n",
       "</style>\n",
       "<table border=\"1\" class=\"dataframe\">\n",
       "  <thead>\n",
       "    <tr style=\"text-align: right;\">\n",
       "      <th></th>\n",
       "      <th>REGION</th>\n",
       "      <th>POS</th>\n",
       "      <th>REF</th>\n",
       "      <th>ALT</th>\n",
       "      <th>REF_DP</th>\n",
       "      <th>REF_RV</th>\n",
       "      <th>REF_QUAL</th>\n",
       "      <th>ALT_DP</th>\n",
       "      <th>ALT_RV</th>\n",
       "      <th>ALT_QUAL</th>\n",
       "      <th>ALT_FREQ</th>\n",
       "      <th>TOTAL_DP</th>\n",
       "      <th>PVAL</th>\n",
       "      <th>PASS</th>\n",
       "      <th>GFF_FEATURE</th>\n",
       "      <th>REF_CODON</th>\n",
       "      <th>REF_AA</th>\n",
       "      <th>ALT_CODON</th>\n",
       "      <th>ALT_AA</th>\n",
       "      <th>S_NS</th>\n",
       "    </tr>\n",
       "  </thead>\n",
       "  <tbody>\n",
       "    <tr>\n",
       "      <th>0</th>\n",
       "      <td>cons_GI.2_outbreak2013k4</td>\n",
       "      <td>224</td>\n",
       "      <td>G</td>\n",
       "      <td>C</td>\n",
       "      <td>159</td>\n",
       "      <td>117</td>\n",
       "      <td>39</td>\n",
       "      <td>6</td>\n",
       "      <td>5</td>\n",
       "      <td>37</td>\n",
       "      <td>0.035928</td>\n",
       "      <td>167</td>\n",
       "      <td>1.337940e-02</td>\n",
       "      <td>False</td>\n",
       "      <td>NaN</td>\n",
       "      <td>AGC</td>\n",
       "      <td>S</td>\n",
       "      <td>ACC</td>\n",
       "      <td>T</td>\n",
       "      <td>NS</td>\n",
       "    </tr>\n",
       "    <tr>\n",
       "      <th>1</th>\n",
       "      <td>cons_GI.2_outbreak2013k4</td>\n",
       "      <td>972</td>\n",
       "      <td>C</td>\n",
       "      <td>T</td>\n",
       "      <td>745</td>\n",
       "      <td>707</td>\n",
       "      <td>37</td>\n",
       "      <td>132</td>\n",
       "      <td>124</td>\n",
       "      <td>34</td>\n",
       "      <td>0.150342</td>\n",
       "      <td>878</td>\n",
       "      <td>2.025250e-44</td>\n",
       "      <td>True</td>\n",
       "      <td>NaN</td>\n",
       "      <td>GGC</td>\n",
       "      <td>G</td>\n",
       "      <td>GGT</td>\n",
       "      <td>G</td>\n",
       "      <td>S</td>\n",
       "    </tr>\n",
       "    <tr>\n",
       "      <th>2</th>\n",
       "      <td>cons_GI.2_outbreak2013k4</td>\n",
       "      <td>1321</td>\n",
       "      <td>C</td>\n",
       "      <td>+T</td>\n",
       "      <td>813</td>\n",
       "      <td>43</td>\n",
       "      <td>38</td>\n",
       "      <td>32</td>\n",
       "      <td>0</td>\n",
       "      <td>20</td>\n",
       "      <td>0.037080</td>\n",
       "      <td>863</td>\n",
       "      <td>5.974660e-05</td>\n",
       "      <td>True</td>\n",
       "      <td>NaN</td>\n",
       "      <td>NaN</td>\n",
       "      <td>NaN</td>\n",
       "      <td>NaN</td>\n",
       "      <td>NaN</td>\n",
       "      <td>NS</td>\n",
       "    </tr>\n",
       "    <tr>\n",
       "      <th>3</th>\n",
       "      <td>cons_GI.2_outbreak2013k4</td>\n",
       "      <td>1323</td>\n",
       "      <td>T</td>\n",
       "      <td>C</td>\n",
       "      <td>753</td>\n",
       "      <td>40</td>\n",
       "      <td>38</td>\n",
       "      <td>56</td>\n",
       "      <td>9</td>\n",
       "      <td>38</td>\n",
       "      <td>0.069221</td>\n",
       "      <td>809</td>\n",
       "      <td>7.456490e-19</td>\n",
       "      <td>True</td>\n",
       "      <td>NaN</td>\n",
       "      <td>CTT</td>\n",
       "      <td>L</td>\n",
       "      <td>CTC</td>\n",
       "      <td>L</td>\n",
       "      <td>S</td>\n",
       "    </tr>\n",
       "    <tr>\n",
       "      <th>4</th>\n",
       "      <td>cons_GI.2_outbreak2013k4</td>\n",
       "      <td>2229</td>\n",
       "      <td>A</td>\n",
       "      <td>G</td>\n",
       "      <td>1201</td>\n",
       "      <td>0</td>\n",
       "      <td>38</td>\n",
       "      <td>192</td>\n",
       "      <td>0</td>\n",
       "      <td>37</td>\n",
       "      <td>0.137832</td>\n",
       "      <td>1393</td>\n",
       "      <td>4.852780e-60</td>\n",
       "      <td>True</td>\n",
       "      <td>NaN</td>\n",
       "      <td>GCA</td>\n",
       "      <td>A</td>\n",
       "      <td>GCG</td>\n",
       "      <td>A</td>\n",
       "      <td>S</td>\n",
       "    </tr>\n",
       "  </tbody>\n",
       "</table>\n",
       "</div>"
      ],
      "text/plain": [
       "                     REGION   POS REF ALT  REF_DP  REF_RV  REF_QUAL  ALT_DP  \\\n",
       "0  cons_GI.2_outbreak2013k4   224   G   C     159     117        39       6   \n",
       "1  cons_GI.2_outbreak2013k4   972   C   T     745     707        37     132   \n",
       "2  cons_GI.2_outbreak2013k4  1321   C  +T     813      43        38      32   \n",
       "3  cons_GI.2_outbreak2013k4  1323   T   C     753      40        38      56   \n",
       "4  cons_GI.2_outbreak2013k4  2229   A   G    1201       0        38     192   \n",
       "\n",
       "   ALT_RV  ALT_QUAL  ALT_FREQ  TOTAL_DP          PVAL   PASS  GFF_FEATURE  \\\n",
       "0       5        37  0.035928       167  1.337940e-02  False          NaN   \n",
       "1     124        34  0.150342       878  2.025250e-44   True          NaN   \n",
       "2       0        20  0.037080       863  5.974660e-05   True          NaN   \n",
       "3       9        38  0.069221       809  7.456490e-19   True          NaN   \n",
       "4       0        37  0.137832      1393  4.852780e-60   True          NaN   \n",
       "\n",
       "  REF_CODON REF_AA ALT_CODON ALT_AA S_NS  \n",
       "0       AGC      S       ACC      T   NS  \n",
       "1       GGC      G       GGT      G    S  \n",
       "2       NaN    NaN       NaN    NaN   NS  \n",
       "3       CTT      L       CTC      L    S  \n",
       "4       GCA      A       GCG      A    S  "
      ]
     },
     "execution_count": 27,
     "metadata": {},
     "output_type": "execute_result"
    }
   ],
   "source": [
    "import pandas as pd\n",
    "import matplotlib.pyplot as plt\n",
    "import numpy as np\n",
    "rep_a = pd.read_csv(\"25_japan_GI.2_final.tsv\", sep=\"\\t\")\n",
    "rep_a[\"S_NS\"] = np.where(rep_a[\"REF_AA\"] == rep_a[\"ALT_AA\"], \"S\", \"NS\")\n",
    "rep_a.head()"
   ]
  },
  {
   "cell_type": "code",
   "execution_count": 28,
   "metadata": {},
   "outputs": [
    {
     "data": {
      "text/plain": [
       "(13, 20)"
      ]
     },
     "execution_count": 28,
     "metadata": {},
     "output_type": "execute_result"
    }
   ],
   "source": [
    "rep_b=rep_a[rep_a['TOTAL_DP'] >= 400]\n",
    "shape = rep_b.shape \n",
    "shape"
   ]
  },
  {
   "cell_type": "code",
   "execution_count": 29,
   "metadata": {},
   "outputs": [
    {
     "data": {
      "image/png": "[encoded data removed]",
      "text/plain": [
       "<Figure size 1057.75x360 with 1 Axes>"
      ]
     },
     "metadata": {
      "needs_background": "light"
     },
     "output_type": "display_data"
    }
   ],
   "source": [
    "import numpy as np\n",
    "import seaborn as sns\n",
    "import matplotlib.pyplot as plt\n",
    "rep_b=rep_a[rep_a['TOTAL_DP'] >= 400]\n",
    "sns.lmplot( x=\"POS\", y=\"ALT_FREQ\", data=rep_b, fit_reg=False, hue='S_NS',aspect=14/5, \n",
    "           legend=True, legend_out=True)\n",
    "plt.xlabel('Genome position', fontsize=15)\n",
    "plt.ylabel('iSNV frequency', fontsize=15)\n",
    "plt.title('iSNVs in sample 25_japan vs outbreak_consensus', fontsize=20)\n",
    "plt.grid(axis=\"both\")\n",
    "plt.show()"
   ]
  },
  {
   "cell_type": "code",
   "execution_count": 30,
   "metadata": {},
   "outputs": [
    {
     "name": "stdout",
     "output_type": "stream",
     "text": [
      "snps in non structural region\n",
      "(2, 20)\n",
      "snps in capsid\n",
      "(5, 20)\n"
     ]
    }
   ],
   "source": [
    "# let us filter snps in non structural region [1-5099]\n",
    "print(\"snps in non structural region\")\n",
    "print((rep_b[(rep_b['POS'] > 3610) & (rep_b['POS'] < 5099)]).shape)\n",
    "# let us filter snps in complete capsid[5010-6800]\n",
    "print(\"snps in capsid\")\n",
    "print((rep_b[(rep_b['POS'] > 5100) & (rep_b['POS'] < 7350)]).shape)"
   ]
  },
  {
   "cell_type": "code",
   "execution_count": 31,
   "metadata": {},
   "outputs": [
    {
     "data": {
      "text/html": [
       "<div>\n",
       "<style scoped>\n",
       "    .dataframe tbody tr th:only-of-type {\n",
       "        vertical-align: middle;\n",
       "    }\n",
       "\n",
       "    .dataframe tbody tr th {\n",
       "        vertical-align: top;\n",
       "    }\n",
       "\n",
       "    .dataframe thead th {\n",
       "        text-align: right;\n",
       "    }\n",
       "</style>\n",
       "<table border=\"1\" class=\"dataframe\">\n",
       "  <thead>\n",
       "    <tr style=\"text-align: right;\">\n",
       "      <th></th>\n",
       "      <th>Ref</th>\n",
       "      <th>Pos</th>\n",
       "      <th>depth_mask</th>\n",
       "      <th>400cov</th>\n",
       "      <th>100cov</th>\n",
       "    </tr>\n",
       "  </thead>\n",
       "  <tbody>\n",
       "    <tr>\n",
       "      <th>0</th>\n",
       "      <td>cons_GI.2_outbreak2013k4</td>\n",
       "      <td>1</td>\n",
       "      <td>0</td>\n",
       "      <td>no</td>\n",
       "      <td>no</td>\n",
       "    </tr>\n",
       "    <tr>\n",
       "      <th>1</th>\n",
       "      <td>cons_GI.2_outbreak2013k4</td>\n",
       "      <td>2</td>\n",
       "      <td>0</td>\n",
       "      <td>no</td>\n",
       "      <td>no</td>\n",
       "    </tr>\n",
       "    <tr>\n",
       "      <th>2</th>\n",
       "      <td>cons_GI.2_outbreak2013k4</td>\n",
       "      <td>3</td>\n",
       "      <td>0</td>\n",
       "      <td>no</td>\n",
       "      <td>no</td>\n",
       "    </tr>\n",
       "    <tr>\n",
       "      <th>3</th>\n",
       "      <td>cons_GI.2_outbreak2013k4</td>\n",
       "      <td>4</td>\n",
       "      <td>0</td>\n",
       "      <td>no</td>\n",
       "      <td>no</td>\n",
       "    </tr>\n",
       "    <tr>\n",
       "      <th>4</th>\n",
       "      <td>cons_GI.2_outbreak2013k4</td>\n",
       "      <td>5</td>\n",
       "      <td>0</td>\n",
       "      <td>no</td>\n",
       "      <td>no</td>\n",
       "    </tr>\n",
       "  </tbody>\n",
       "</table>\n",
       "</div>"
      ],
      "text/plain": [
       "                        Ref  Pos  depth_mask 400cov 100cov\n",
       "0  cons_GI.2_outbreak2013k4    1           0     no     no\n",
       "1  cons_GI.2_outbreak2013k4    2           0     no     no\n",
       "2  cons_GI.2_outbreak2013k4    3           0     no     no\n",
       "3  cons_GI.2_outbreak2013k4    4           0     no     no\n",
       "4  cons_GI.2_outbreak2013k4    5           0     no     no"
      ]
     },
     "execution_count": 31,
     "metadata": {},
     "output_type": "execute_result"
    }
   ],
   "source": [
    "# what percentage of this masked genome (without reads from mismached primers) has depth >400 ? \n",
    "os.chdir(\"/media/viro102/HD-ADU3/kte-data/sapo-ivar/test/outbreak_samples/GI.2/remapped-share/2013k4.fa/25_japan/depth\")\n",
    "df_masked = pd.read_csv(\"25_japan_GI.2.bad_are_masked.sorted.depth\", sep = \"\\t\", names = [\"Ref\", \"Pos\", \"depth_mask\"])\n",
    "df_masked['400cov'] = np.where(df_masked['depth_mask']>=400, 'yes', 'no')\n",
    "df_masked['100cov'] = np.where(df_masked['depth_mask']>=100, 'yes', 'no')\n",
    "df_masked.head()"
   ]
  },
  {
   "cell_type": "code",
   "execution_count": 32,
   "metadata": {},
   "outputs": [
    {
     "name": "stdout",
     "output_type": "stream",
     "text": [
      "(7442, 5)\n",
      "col_0   Breadth 100coverage\n",
      "100cov                     \n",
      "no                      136\n",
      "yes                    7306\n",
      "col_0   Beadth above 400coverage\n",
      "400cov                          \n",
      "no                           665\n",
      "yes                         6777\n"
     ]
    }
   ],
   "source": [
    "# What proportion of the genome is has a depth of coverage of at least >100 reads, >400 (Breadth ofcoverage)\n",
    "my_tab1 = pd.crosstab(index=df_masked[\"100cov\"],  # Make a crosstab\n",
    "                              columns=\"Breadth 100coverage\")      # Name the count column\n",
    "my_tab2 = pd.crosstab(index=df_masked[\"400cov\"],  # Make a crosstab\n",
    "                              columns=\"Beadth above 400coverage\")      # Name the count column\n",
    "shape=df_masked.shape\n",
    "print(shape)\n",
    "print(my_tab1); print(my_tab2)"
   ]
  },
  {
   "cell_type": "code",
   "execution_count": 35,
   "metadata": {},
   "outputs": [
    {
     "data": {
      "text/plain": [
       "91.06423004568664"
      ]
     },
     "execution_count": 35,
     "metadata": {},
     "output_type": "execute_result"
    }
   ],
   "source": [
    "6777/7442 * 100 # proportion of genome covered >400"
   ]
  },
  {
   "cell_type": "code",
   "execution_count": 36,
   "metadata": {},
   "outputs": [
    {
     "data": {
      "text/plain": [
       "98.17253426498253"
      ]
     },
     "execution_count": 36,
     "metadata": {},
     "output_type": "execute_result"
    }
   ],
   "source": [
    "7306/7442 * 100 # proportion of genome covered >100"
   ]
  }
 ],
 "metadata": {
  "kernelspec": {
   "display_name": "Python 3",
   "language": "python",
   "name": "python3"
  },
  "language_info": {
   "codemirror_mode": {
    "name": "ipython",
    "version": 3
   },
   "file_extension": ".py",
   "mimetype": "text/x-python",
   "name": "python",
   "nbconvert_exporter": "python",
   "pygments_lexer": "ipython3",
   "version": "3.7.6"
  }
 },
 "nbformat": 4,
 "nbformat_minor": 4
}

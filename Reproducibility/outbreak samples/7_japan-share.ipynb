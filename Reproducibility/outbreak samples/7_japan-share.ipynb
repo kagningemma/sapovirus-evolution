{
 "cells": [
  {
   "cell_type": "markdown",
   "metadata": {},
   "source": [
    "## Full analysis of a sample tested positive to the sapovirus GI.1 during a non-foodborne outbreak in Miyagi-Japan\n",
    "Individual H4 (s93)"
   ]
  },
  {
   "cell_type": "markdown",
   "metadata": {},
   "source": [
    "This workflow is a modified version of the original iVar workflow. Sapovirus genome was amplified by PCR in duplicate and amplified products from Pool1 primers and Pool2 primers were obtained. Amplicons derived from replicate of same sample were pooled into a single tube. Illumina Nextera library was prepared and Amplicon sequencing was performed. \n",
    "Here, we will use paired reads from one sample. \n",
    "These were collected during a non-foodborne sapovirus GI.1 outbreak. Let's start by aligning these reads to reference. The first step is creating an index to align the reads to. "
   ]
  },
  {
   "cell_type": "code",
   "execution_count": 1,
   "metadata": {},
   "outputs": [],
   "source": [
    "import os\n",
    "os.chdir(\"/media/viro102/HD-ADU3/kte-data/sapo-ivar/test/outbreak_samples/GI.1/7_japan/\")"
   ]
  },
  {
   "cell_type": "markdown",
   "metadata": {},
   "source": [
    "### 1-index reference for mapping"
   ]
  },
  {
   "cell_type": "code",
   "execution_count": 2,
   "metadata": {},
   "outputs": [
    {
     "name": "stdout",
     "output_type": "stream",
     "text": [
      "GANBATTE! KTE\n",
      "reference indexed\n"
     ]
    },
    {
     "name": "stderr",
     "output_type": "stream",
     "text": [
      "[bwa_index] Pack FASTA... 0.00 sec\n",
      "[bwa_index] Construct BWT for the packed sequence...\n",
      "[bwa_index] 0.00 seconds elapse.\n",
      "[bwa_index] Update BWT... 0.00 sec\n",
      "[bwa_index] Pack forward-only FASTA... 0.00 sec\n",
      "[bwa_index] Construct SA from BWT and Occ... 0.00 sec\n",
      "[main] Version: 0.7.12-r1039\n",
      "[main] CMD: bwa index MG012437_GI.1_ref.fa\n",
      "[main] Real time: 0.178 sec; CPU: 0.009 sec\n"
     ]
    }
   ],
   "source": [
    "%%bash\n",
    "echo \"GANBATTE! KTE\"\n",
    "echo \"reference indexed\"\n",
    "\n",
    "# index ref\n",
    "bwa index MG012437_GI.1_ref.fa"
   ]
  },
  {
   "cell_type": "markdown",
   "metadata": {},
   "source": [
    "### 2-Map reads to reference"
   ]
  },
  {
   "cell_type": "code",
   "execution_count": 3,
   "metadata": {},
   "outputs": [
    {
     "name": "stdout",
     "output_type": "stream",
     "text": [
      "mapping completed\n"
     ]
    },
    {
     "name": "stderr",
     "output_type": "stream",
     "text": [
      "[M::bwa_idx_load_from_disk] read 0 ALT contigs\n",
      "[M::process] read 1797344 sequences (233573914 bp)...\n",
      "[M::mem_pestat] # candidate unique pairs for (FF, FR, RF, RR): (165, 849898, 173, 188)\n",
      "[M::mem_pestat] analyzing insert size distribution for orientation FF...\n",
      "[M::mem_pestat] (25, 50, 75) percentile: (641, 1729, 3382)\n",
      "[M::mem_pestat] low and high boundaries for computing mean and std.dev: (1, 8864)\n",
      "[M::mem_pestat] mean and std.dev: (2117.96, 1744.57)\n",
      "[M::mem_pestat] low and high boundaries for proper pairs: (1, 11605)\n",
      "[M::mem_pestat] analyzing insert size distribution for orientation FR...\n",
      "[M::mem_pestat] (25, 50, 75) percentile: (75, 116, 172)\n",
      "[M::mem_pestat] low and high boundaries for computing mean and std.dev: (1, 366)\n",
      "[M::mem_pestat] mean and std.dev: (129.41, 69.69)\n",
      "[M::mem_pestat] low and high boundaries for proper pairs: (1, 463)\n",
      "[M::mem_pestat] analyzing insert size distribution for orientation RF...\n",
      "[M::mem_pestat] (25, 50, 75) percentile: (509, 1807, 3455)\n",
      "[M::mem_pestat] low and high boundaries for computing mean and std.dev: (1, 9347)\n",
      "[M::mem_pestat] mean and std.dev: (2123.27, 1730.47)\n",
      "[M::mem_pestat] low and high boundaries for proper pairs: (1, 12293)\n",
      "[M::mem_pestat] analyzing insert size distribution for orientation RR...\n",
      "[M::mem_pestat] (25, 50, 75) percentile: (525, 1557, 3068)\n",
      "[M::mem_pestat] low and high boundaries for computing mean and std.dev: (1, 8154)\n",
      "[M::mem_pestat] mean and std.dev: (1936.69, 1604.01)\n",
      "[M::mem_pestat] low and high boundaries for proper pairs: (1, 10697)\n",
      "[M::mem_pestat] skip orientation FF\n",
      "[M::mem_pestat] skip orientation RF\n",
      "[M::mem_pestat] skip orientation RR\n",
      "[M::mem_process_seqs] Processed 1797344 reads in 289.108 CPU sec, 42.688 real sec\n",
      "[main] Version: 0.7.12-r1039\n",
      "[main] CMD: bwa mem -t 32 MG012437_GI.1_ref.fa 7_S7_L001_R1_001.fastq.gz 7_S7_L001_R2_001.fastq.gz\n",
      "[main] Real time: 103.732 sec; CPU: 300.753 sec\n"
     ]
    }
   ],
   "source": [
    "%%bash\n",
    "bwa mem -t 32  MG012437_GI.1_ref.fa  7_S7_L001_R1_001.fastq.gz 7_S7_L001_R2_001.fastq.gz | samtools view -b -F 4 -F 2048 | samtools sort -o 7_japan_GI.1_a.sorted.bam\n",
    "echo \"mapping completed\""
   ]
  },
  {
   "cell_type": "code",
   "execution_count": 4,
   "metadata": {},
   "outputs": [
    {
     "name": "stdout",
     "output_type": "stream",
     "text": [
      "7_japan_GI.1_a.sorted.bam\n",
      "7_S7_L001_R1_001.fastq.gz\n",
      "7_S7_L001_R2_001.fastq.gz\n",
      "MG012437_GI.1.gff\n",
      "MG012437_GI.1_ref.fa\n",
      "MG012437_GI.1_ref.fa.amb\n",
      "MG012437_GI.1_ref.fa.ann\n",
      "MG012437_GI.1_ref.fa.bwt\n",
      "MG012437_GI.1_ref.fa.pac\n",
      "MG012437_GI.1_ref.fa.sa\n",
      "Primalprimers_SaVGI.1_batch2_ok.fa\n",
      "Primal-primers_SaVGI.1pairs_ok.tsv\n",
      "script-ivar-7_japan.sh\n"
     ]
    }
   ],
   "source": [
    "%%bash\n",
    "ls"
   ]
  },
  {
   "cell_type": "code",
   "execution_count": 5,
   "metadata": {},
   "outputs": [
    {
     "name": "stdout",
     "output_type": "stream",
     "text": [
      "1720339 + 0 in total (QC-passed reads + QC-failed reads)\n",
      "0 + 0 secondary\n",
      "0 + 0 supplementary\n",
      "0 + 0 duplicates\n",
      "1720339 + 0 mapped (100.00% : N/A)\n",
      "1720339 + 0 paired in sequencing\n",
      "861005 + 0 read1\n",
      "859334 + 0 read2\n",
      "1702040 + 0 properly paired (98.94% : N/A)\n",
      "1711108 + 0 with itself and mate mapped\n",
      "9231 + 0 singletons (0.54% : N/A)\n",
      "0 + 0 with mate mapped to a different chr\n",
      "0 + 0 with mate mapped to a different chr (mapQ>=5)\n"
     ]
    }
   ],
   "source": [
    "%%bash\n",
    "samtools flagstat 7_japan_GI.1_a.sorted.bam"
   ]
  },
  {
   "cell_type": "markdown",
   "metadata": {},
   "source": [
    "### 3-Let's now trim-off the primer sequences using ivar. \n",
    "In order to do this we need three files: (1) a BED file with primer coordinates. We will generate this by aligning the primer sequences to the reference sequence and then using bedtools to create the BED file. We also neet (2) Aligned and (3) sorted BAM file generate in the previous step.\n"
   ]
  },
  {
   "cell_type": "code",
   "execution_count": 6,
   "metadata": {},
   "outputs": [],
   "source": [
    "# map primers to the reference genome to identify primers coordinates"
   ]
  },
  {
   "cell_type": "code",
   "execution_count": 7,
   "metadata": {},
   "outputs": [
    {
     "name": "stdout",
     "output_type": "stream",
     "text": [
      "bed file with primers locations on reference sequence generated\n"
     ]
    },
    {
     "name": "stderr",
     "output_type": "stream",
     "text": [
      "[M::bwa_idx_load_from_disk] read 0 ALT contigs\n",
      "[M::process] read 68 sequences (1520 bp)...\n",
      "[M::mem_process_seqs] Processed 68 reads in 0.016 CPU sec, 0.015 real sec\n",
      "[main] Version: 0.7.12-r1039\n",
      "[main] CMD: bwa mem -k 5 -T 16 MG012437_GI.1_ref.fa Primalprimers_SaVGI.1_batch2_ok.fa\n",
      "[main] Real time: 0.017 sec; CPU: 0.019 sec\n"
     ]
    }
   ],
   "source": [
    "%%bash\n",
    "bwa mem -k 5 -T 16 MG012437_GI.1_ref.fa Primalprimers_SaVGI.1_batch2_ok.fa  | samtools view -b -F 4 > Primalprimers_SaVGI.1_batch2_ok.fa.bam\n",
    "bedtools bamtobed -i Primalprimers_SaVGI.1_batch2_ok.fa.bam > 7_japan_GI.1_primers.bed\n",
    "echo \"bed file with primers locations on reference sequence generated\""
   ]
  },
  {
   "cell_type": "code",
   "execution_count": 8,
   "metadata": {},
   "outputs": [],
   "source": [
    "# We will now use this BED file as input to ivar to trim primer sequences\n",
    "\n",
    "# Note that this BED file has to be generated only once for a reference sequence."
   ]
  },
  {
   "cell_type": "code",
   "execution_count": 9,
   "metadata": {},
   "outputs": [
    {
     "name": "stdout",
     "output_type": "stream",
     "text": [
      "Number of references: 1\n",
      "Reference Name: MG012437.1\n",
      "Reference Length: 7388\n",
      "Using Region: MG012437.1\n",
      "Sorted By Coordinate\n",
      "Sorted By Query Name\n",
      "Processed 1000000 reads ... \n",
      "Results: \n",
      "Trimmed primers from 428293 reads.\n",
      "79559 reads were shortened below the minimum length of 30 bp and were not writen to file.\n",
      "1241228 reads that started outside of primer regions were not written to file.\n",
      "primers trimming complete\n",
      "Sorted and indexed trimmed BAM file\n"
     ]
    },
    {
     "name": "stderr",
     "output_type": "stream",
     "text": [
      "[E::idx_find_and_load] Could not retrieve index file for '7_japan_GI.1_a.sorted.bam'\n"
     ]
    }
   ],
   "source": [
    "%%bash\n",
    "ivar trim -b 7_japan_GI.1_primers.bed -p 7_japan_GI.1.trimmed -i 7_japan_GI.1_a.sorted.bam\n",
    "echo \"primers trimming complete\"\n",
    "\n",
    "# Sort and index trimmed BAM file.\n",
    "samtools sort -o 7_japan_GI.1.trimmed.sorted.bam 7_japan_GI.1.trimmed.bam ; samtools index 7_japan_GI.1.trimmed.sorted.bam\n",
    "echo \"Sorted and indexed trimmed BAM file\"\n"
   ]
  },
  {
   "cell_type": "code",
   "execution_count": 10,
   "metadata": {},
   "outputs": [
    {
     "name": "stdout",
     "output_type": "stream",
     "text": [
      "399552 + 0 in total (QC-passed reads + QC-failed reads)\n",
      "0 + 0 secondary\n",
      "0 + 0 supplementary\n",
      "0 + 0 duplicates\n",
      "399552 + 0 mapped (100.00% : N/A)\n",
      "399552 + 0 paired in sequencing\n",
      "207775 + 0 read1\n",
      "191777 + 0 read2\n",
      "396417 + 0 properly paired (99.22% : N/A)\n",
      "398173 + 0 with itself and mate mapped\n",
      "1379 + 0 singletons (0.35% : N/A)\n",
      "0 + 0 with mate mapped to a different chr\n",
      "0 + 0 with mate mapped to a different chr (mapQ>=5)\n"
     ]
    }
   ],
   "source": [
    "%%bash\n",
    "samtools flagstat 7_japan_GI.1.trimmed.sorted.bam"
   ]
  },
  {
   "cell_type": "markdown",
   "metadata": {},
   "source": [
    "### 4-Let's quicky take a look at the depth of the trimmed vs untrimmed BAM file. We'll extract the depth using the samtools depth command.\n"
   ]
  },
  {
   "cell_type": "code",
   "execution_count": 11,
   "metadata": {},
   "outputs": [
    {
     "name": "stdout",
     "output_type": "stream",
     "text": [
      "Please plot the depth per position\n"
     ]
    }
   ],
   "source": [
    "%%bash\n",
    "mkdir depth\n",
    "samtools depth -a 7_japan_GI.1.trimmed.sorted.bam > depth/7_japan_GI.1.trimmed.sorted.bam.depth ; samtools depth -a 7_japan_GI.1_a.sorted.bam > depth/7_japan_GI.1.sorted.bam.depth\n",
    "echo \"Please plot the depth per position\""
   ]
  },
  {
   "cell_type": "code",
   "execution_count": 12,
   "metadata": {},
   "outputs": [],
   "source": [
    "## Plot of the depth per position"
   ]
  },
  {
   "cell_type": "code",
   "execution_count": 13,
   "metadata": {},
   "outputs": [],
   "source": [
    "os.chdir(\"/media/viro102/HD-ADU3/kte-data/sapo-ivar/test/outbreak_samples/GI.1/7_japan/depth\")"
   ]
  },
  {
   "cell_type": "code",
   "execution_count": 14,
   "metadata": {},
   "outputs": [
    {
     "data": {
      "image/png": "[encoded data removed]",
      "text/plain": [
       "<Figure size 1080x360 with 1 Axes>"
      ]
     },
     "metadata": {
      "needs_background": "light"
     },
     "output_type": "display_data"
    }
   ],
   "source": [
    "import pandas as pd\n",
    "import matplotlib.pyplot as plt\n",
    "df_trimmed = pd.read_csv(\"7_japan_GI.1.trimmed.sorted.bam.depth\", sep = \"\\t\", names = [\"Ref\", \"Pos\", \"depth_t\"])\n",
    "df_untrimmed = pd.read_csv(\"7_japan_GI.1.sorted.bam.depth\", sep = \"\\t\", names = [\"Ref\", \"Pos\", \"depth_unt\"])\n",
    "\n",
    "ax = df_trimmed[\"depth_t\"].plot(logy=True, label = \"Trimmed\", figsize = (15,5), alpha = 0.9)\n",
    "df_untrimmed[\"depth_unt\"].plot(logy=True, ax = ax, label =\"Untrimmed\", alpha=0.9)\n",
    "plt.legend()\n",
    "plt.grid()\n",
    "plt.show()"
   ]
  },
  {
   "cell_type": "markdown",
   "metadata": {},
   "source": [
    "### 5-Let us identify primer sequences that might have a mismatch with the consensus sequence to ensure that we remove reads from any amplicons derived from those primers; Otherwise, it might bias the iSNV frequency due to varying primer binding effeciency"
   ]
  },
  {
   "cell_type": "code",
   "execution_count": 15,
   "metadata": {},
   "outputs": [],
   "source": [
    "#To that end, we have to : \n",
    "\n",
    "#Call consensus on merged BAM file (If the sequencing of each technical replicate was done separately).\n",
    "\n",
    "#Align primer sequences to consensus after creating a bwa index from the consensus sequence called."
   ]
  },
  {
   "cell_type": "code",
   "execution_count": 16,
   "metadata": {},
   "outputs": [],
   "source": [
    "os.chdir(\"/media/viro102/HD-ADU3/kte-data/sapo-ivar/test/outbreak_samples/GI.1/7_japan/\")"
   ]
  },
  {
   "cell_type": "code",
   "execution_count": 17,
   "metadata": {},
   "outputs": [
    {
     "name": "stdout",
     "output_type": "stream",
     "text": [
      "Minimum Quality: 20\n",
      "Threshold: 0\n",
      "Minimum depth: \u0000\n",
      "Regions with depth less than minimum depth covered by: -\n",
      "consensus called on BAM file.\n"
     ]
    },
    {
     "name": "stderr",
     "output_type": "stream",
     "text": [
      "[mpileup] 1 samples in 1 input files\n",
      "[mpileup] Max depth set to maximum value (2147483647)\n"
     ]
    }
   ],
   "source": [
    "%%bash\n",
    "# a-call consensus\n",
    "samtools mpileup -A -d 0 -Q 0 7_japan_GI.1.trimmed.sorted.bam  | ivar consensus -p 7_japan_GI.1.consensus\n",
    "echo \"consensus called on BAM file.\"\n"
   ]
  },
  {
   "cell_type": "code",
   "execution_count": 18,
   "metadata": {},
   "outputs": [
    {
     "name": "stdout",
     "output_type": "stream",
     "text": [
      "primers mapped to consensus\n"
     ]
    },
    {
     "name": "stderr",
     "output_type": "stream",
     "text": [
      "[bwa_index] Pack FASTA... 0.00 sec\n",
      "[bwa_index] Construct BWT for the packed sequence...\n",
      "[bwa_index] 0.00 seconds elapse.\n",
      "[bwa_index] Update BWT... 0.00 sec\n",
      "[bwa_index] Pack forward-only FASTA... 0.00 sec\n",
      "[bwa_index] Construct SA from BWT and Occ... 0.00 sec\n",
      "[main] Version: 0.7.12-r1039\n",
      "[main] CMD: bwa index -p 7_japan_GI.1.consensus 7_japan_GI.1.consensus.fa\n",
      "[main] Real time: 0.059 sec; CPU: 0.008 sec\n",
      "[M::bwa_idx_load_from_disk] read 0 ALT contigs\n",
      "[M::process] read 68 sequences (1520 bp)...\n",
      "[M::mem_process_seqs] Processed 68 reads in 0.015 CPU sec, 0.015 real sec\n",
      "[main] Version: 0.7.12-r1039\n",
      "[main] CMD: bwa mem -k 5 -T 16 7_japan_GI.1.consensus Primalprimers_SaVGI.1_batch2_ok.fa\n",
      "[main] Real time: 0.017 sec; CPU: 0.018 sec\n"
     ]
    }
   ],
   "source": [
    "%%bash\n",
    "# Map primers to the indexed consensus sequence\n",
    "bwa index -p 7_japan_GI.1.consensus 7_japan_GI.1.consensus.fa\n",
    "bwa mem -k 5 -T 16 7_japan_GI.1.consensus Primalprimers_SaVGI.1_batch2_ok.fa  | samtools view -bS -F 4 | samtools sort -o 7_japan_GI.1_primers_consensus.bam\n",
    "\n",
    "echo \"primers mapped to consensus\""
   ]
  },
  {
   "cell_type": "code",
   "execution_count": 19,
   "metadata": {},
   "outputs": [
    {
     "name": "stdout",
     "output_type": "stream",
     "text": [
      "iSNVs on this initial BAM (without removal of reads from mismached primers) called at a minimum threshold of 3%\n"
     ]
    },
    {
     "name": "stderr",
     "output_type": "stream",
     "text": [
      "[mpileup] 1 samples in 1 input files\n",
      "[mpileup] Max depth set to maximum value (2147483647)\n"
     ]
    }
   ],
   "source": [
    "%%bash\n",
    "# \"Let's now call iSNVs on this BAM file at a minimum threshold of 3% and the default minimum quality threshold of 20\"\n",
    "samtools mpileup -A -d 0  -Q 0 7_japan_GI.1_primers_consensus.bam | ivar variants -p 7_japan_GI.1_primers_consensus_1 -t 0.03 -r 7_japan_GI.1.consensus.fa -g MG012437_GI.1.gff\n",
    "\n",
    "echo \"iSNVs on this initial BAM (without removal of reads from mismached primers) called at a minimum threshold of 3%\"\n"
   ]
  },
  {
   "cell_type": "code",
   "execution_count": 20,
   "metadata": {},
   "outputs": [
    {
     "name": "stdout",
     "output_type": "stream",
     "text": [
      "Primer pair for KTESAVG11_2_LEFT not found in BED file.\n",
      "Primer pair for KTESAVG11_4_LEFT not found in BED file.\n",
      "Primer pair for KTESAVG11_5_LEFT not found in BED file.\n",
      "Primer pair for KTESAVG11_7_LEFT not found in BED file.\n",
      "Primer pair for KTESAVG11_8_LEFT not found in BED file.\n",
      "Primer pair for KTESAVG11_9_LEFT not found in BED file.\n",
      "Primer pair for KTESAVG11_11_RIGHT not found in BED file.\n",
      "Primer pair for KTESAVG11_12_RIGHT not found in BED file.\n",
      "Primer pair for KTESAVG11_13_RIGHT not found in BED file.\n",
      "Primer pair for KTESAVG11_14_RIGHT not found in BED file.\n",
      "Primer pair for KTESAVG11_15_RIGHT not found in BED file.\n",
      "Primer pair for KTESAVG11_16_RIGHT not found in BED file.\n",
      "Primer pair for KTESAVG11_17_RIGHT not found in BED file.\n",
      "Primer pair for KTESAVG11_18_RIGHT not found in BED file.\n",
      "Primer pair for KTESAVG11_19_RIGHT not found in BED file.\n",
      "Primer pair for KTESAVG11_20_RIGHT not found in BED file.\n",
      "Primer pair for KTESAVG11_21_RIGHT not found in BED file.\n",
      "Primer pair for KTESAVG11_22_RIGHT not found in BED file.\n",
      "Primer pair for KTESAVG11_23_RIGHT not found in BED file.\n",
      "Primer pair for KTESAVG11_24_RIGHT not found in BED file.\n",
      "Primer pair for KTESAVG11_25_RIGHT not found in BED file.\n",
      "KTESAVG11_1_RIGHT\tKTESAVG11_4_LEFT\tKTESAVG11_5_LEFT\tKTESAVG11_5_RIGHT\tGI1batch4_3_LEFT\tKTESAVG11_9_RIGHT\tKTESAVG11_11_LEFT\tKTESAVG11_13_LEFT\tKTESAVG11_14_LEFT\tKTESAVG11_14_RIGHT\tKTESAVG11_17_LEFT\tGI1batch4_7_LEFT\tKTESAVG11_17_RIGHT\tKTESAVG11_19_LEFT\tKTESAVG11_20_LEFT\tKTESAVG11_20_RIGHT\tKTESAVG11_21_RIGHT\tKTESAVG11_23_LEFT\tKTESAVG11_25_LEFT\tKTESAVG11_24_RIGHT\tGI1batch4_9_RIGHT\tKTESAVG11_25_RIGHT\n",
      "you got the indices of primers with mismtaches and their respective pairs\n"
     ]
    }
   ],
   "source": [
    "%%bash\n",
    "# Let's now get the indices of primers with mismtaches and their respective pairs. To get the pair information, we need a tsv file with two columns to represent the pairs of primers. This file is at pair_information.tsv\n",
    "bedtools bamtobed -i 7_japan_GI.1_primers_consensus.bam > 7_japan_GI.1_primers_consensus.bam.bed ; ivar getmasked -i 7_japan_GI.1_primers_consensus_1.tsv -b 7_japan_GI.1_primers_consensus.bam.bed -f Primal-primers_SaVGI.1pairs_ok.tsv -p primer_mismatchers_indices\n",
    "echo \"you got the indices of primers with mismtaches and their respective pairs\"\n"
   ]
  },
  {
   "cell_type": "markdown",
   "metadata": {},
   "source": [
    "### 6- Let's omit reads from mismatched primers (Masking)"
   ]
  },
  {
   "cell_type": "code",
   "execution_count": 21,
   "metadata": {},
   "outputs": [
    {
     "name": "stdout",
     "output_type": "stream",
     "text": [
      "Writing to 7_japan_GI.1.bad_are_masked.bam\n",
      "Number of references: 1\n",
      "Reference Name: MG012437.1\n",
      "Reference Length: 7388\n",
      "Using Region: MG012437.1\n",
      "Sorted By Coordinate\n",
      "Results:\n",
      "153095 reads were removed.\n",
      "you removed reads from mismatched primers\n"
     ]
    }
   ],
   "source": [
    "%%bash\n",
    "ivar removereads -i 7_japan_GI.1.trimmed.sorted.bam -p 7_japan_GI.1.bad_are_masked.bam -t primer_mismatchers_indices.txt -b 7_japan_GI.1_primers.bed\n",
    "echo \"you removed reads from mismatched primers\""
   ]
  },
  {
   "cell_type": "code",
   "execution_count": 22,
   "metadata": {},
   "outputs": [
    {
     "name": "stdout",
     "output_type": "stream",
     "text": [
      "246457 + 0 in total (QC-passed reads + QC-failed reads)\n",
      "0 + 0 secondary\n",
      "0 + 0 supplementary\n",
      "0 + 0 duplicates\n",
      "246457 + 0 mapped (100.00% : N/A)\n",
      "246457 + 0 paired in sequencing\n",
      "127800 + 0 read1\n",
      "118657 + 0 read2\n",
      "244552 + 0 properly paired (99.23% : N/A)\n",
      "245776 + 0 with itself and mate mapped\n",
      "681 + 0 singletons (0.28% : N/A)\n",
      "0 + 0 with mate mapped to a different chr\n",
      "0 + 0 with mate mapped to a different chr (mapQ>=5)\n"
     ]
    }
   ],
   "source": [
    "%%bash\n",
    "samtools flagstat 7_japan_GI.1.bad_are_masked.bam"
   ]
  },
  {
   "cell_type": "code",
   "execution_count": 23,
   "metadata": {},
   "outputs": [
    {
     "name": "stdout",
     "output_type": "stream",
     "text": [
      "\u001b[31mplease exclude variants with depth <400 and count iSNV\n"
     ]
    },
    {
     "name": "stderr",
     "output_type": "stream",
     "text": [
      "[mpileup] 1 samples in 1 input files\n",
      "[mpileup] Max depth set to maximum value (2147483647)\n"
     ]
    }
   ],
   "source": [
    "%%bash\n",
    "# let us take a look at the reads distribution before and after masking\n",
    "samtools sort -o 7_japan_GI.1.bad_are_masked.sorted.bam 7_japan_GI.1.bad_are_masked.bam \n",
    "samtools depth -a 7_japan_GI.1.bad_are_masked.sorted.bam > depth/7_japan_GI.1.bad_are_masked.sorted.depth\n",
    "\n",
    "# echo \"Let's now call iSNVs from the BAMS without reads from the masked amplicons\"\n",
    "\n",
    "samtools mpileup -A -d 0 --reference MG012437_GI.1_ref.fa -Q 0 7_japan_GI.1.bad_are_masked.sorted.bam | ivar variants -p 7_japan_GI.1_final -t 0.03 -r MG012437_GI.1_ref.fa -g MG012437_GI.1.gff ; tput setaf 1 echo \"analysis is completed\"\n",
    "echo \"please exclude variants with depth <400 and count iSNV\""
   ]
  },
  {
   "cell_type": "code",
   "execution_count": 24,
   "metadata": {},
   "outputs": [],
   "source": [
    "os.chdir(\"/media/viro102/HD-ADU3/kte-data/sapo-ivar/test/outbreak_samples/GI.1/7_japan/depth\")"
   ]
  },
  {
   "cell_type": "code",
   "execution_count": 25,
   "metadata": {},
   "outputs": [
    {
     "data": {
      "image/png": "[encoded data removed]",
      "text/plain": [
       "<Figure size 1080x360 with 1 Axes>"
      ]
     },
     "metadata": {
      "needs_background": "light"
     },
     "output_type": "display_data"
    }
   ],
   "source": [
    "import pandas as pd\n",
    "import matplotlib.pyplot as plt\n",
    "df_unmasked = pd.read_csv(\"7_japan_GI.1.trimmed.sorted.bam.depth\", sep = \"\\t\", names = [\"Ref\", \"Pos\", \"depth_unmask\"])\n",
    "df_masked = pd.read_csv(\"7_japan_GI.1.bad_are_masked.sorted.depth\", sep = \"\\t\", names = [\"Ref\", \"Pos\", \"depth_mask\"])\n",
    "\n",
    "ax = df_masked[\"depth_mask\"].plot(logy=True, label = \"Masked\", figsize = (15,5), alpha = 0.9)\n",
    "df_unmasked[\"depth_unmask\"].plot(logy=True, ax = ax, label =\"Unmasked\", alpha=0.9)\n",
    "plt.legend()\n",
    "plt.grid()\n",
    "plt.show()"
   ]
  },
  {
   "cell_type": "markdown",
   "metadata": {},
   "source": [
    "#### 7- View Tables and Plots"
   ]
  },
  {
   "cell_type": "code",
   "execution_count": 26,
   "metadata": {},
   "outputs": [],
   "source": [
    "os.chdir(\"/media/viro102/HD-ADU3/kte-data/sapo-ivar/test/outbreak_samples/GI.1/7_japan/\")"
   ]
  },
  {
   "cell_type": "code",
   "execution_count": 27,
   "metadata": {},
   "outputs": [
    {
     "data": {
      "text/html": [
       "<div>\n",
       "<style scoped>\n",
       "    .dataframe tbody tr th:only-of-type {\n",
       "        vertical-align: middle;\n",
       "    }\n",
       "\n",
       "    .dataframe tbody tr th {\n",
       "        vertical-align: top;\n",
       "    }\n",
       "\n",
       "    .dataframe thead th {\n",
       "        text-align: right;\n",
       "    }\n",
       "</style>\n",
       "<table border=\"1\" class=\"dataframe\">\n",
       "  <thead>\n",
       "    <tr style=\"text-align: right;\">\n",
       "      <th></th>\n",
       "      <th>REGION</th>\n",
       "      <th>POS</th>\n",
       "      <th>REF</th>\n",
       "      <th>ALT</th>\n",
       "      <th>REF_DP</th>\n",
       "      <th>REF_RV</th>\n",
       "      <th>REF_QUAL</th>\n",
       "      <th>ALT_DP</th>\n",
       "      <th>ALT_RV</th>\n",
       "      <th>ALT_QUAL</th>\n",
       "      <th>ALT_FREQ</th>\n",
       "      <th>TOTAL_DP</th>\n",
       "      <th>PVAL</th>\n",
       "      <th>PASS</th>\n",
       "      <th>GFF_FEATURE</th>\n",
       "      <th>REF_CODON</th>\n",
       "      <th>REF_AA</th>\n",
       "      <th>ALT_CODON</th>\n",
       "      <th>ALT_AA</th>\n",
       "      <th>S_NS</th>\n",
       "    </tr>\n",
       "  </thead>\n",
       "  <tbody>\n",
       "    <tr>\n",
       "      <th>0</th>\n",
       "      <td>MG012437.1</td>\n",
       "      <td>46</td>\n",
       "      <td>C</td>\n",
       "      <td>T</td>\n",
       "      <td>8</td>\n",
       "      <td>0</td>\n",
       "      <td>38</td>\n",
       "      <td>3834</td>\n",
       "      <td>0</td>\n",
       "      <td>38</td>\n",
       "      <td>0.997918</td>\n",
       "      <td>3842</td>\n",
       "      <td>0.000000e+00</td>\n",
       "      <td>True</td>\n",
       "      <td>NaN</td>\n",
       "      <td>ACC</td>\n",
       "      <td>T</td>\n",
       "      <td>ACT</td>\n",
       "      <td>T</td>\n",
       "      <td>S</td>\n",
       "    </tr>\n",
       "    <tr>\n",
       "      <th>1</th>\n",
       "      <td>MG012437.1</td>\n",
       "      <td>49</td>\n",
       "      <td>T</td>\n",
       "      <td>C</td>\n",
       "      <td>2</td>\n",
       "      <td>0</td>\n",
       "      <td>27</td>\n",
       "      <td>3848</td>\n",
       "      <td>0</td>\n",
       "      <td>38</td>\n",
       "      <td>0.999221</td>\n",
       "      <td>3851</td>\n",
       "      <td>0.000000e+00</td>\n",
       "      <td>True</td>\n",
       "      <td>NaN</td>\n",
       "      <td>TTT</td>\n",
       "      <td>F</td>\n",
       "      <td>TTC</td>\n",
       "      <td>F</td>\n",
       "      <td>S</td>\n",
       "    </tr>\n",
       "    <tr>\n",
       "      <th>2</th>\n",
       "      <td>MG012437.1</td>\n",
       "      <td>69</td>\n",
       "      <td>G</td>\n",
       "      <td>A</td>\n",
       "      <td>1</td>\n",
       "      <td>0</td>\n",
       "      <td>38</td>\n",
       "      <td>3572</td>\n",
       "      <td>25</td>\n",
       "      <td>38</td>\n",
       "      <td>0.999720</td>\n",
       "      <td>3573</td>\n",
       "      <td>0.000000e+00</td>\n",
       "      <td>True</td>\n",
       "      <td>NaN</td>\n",
       "      <td>CGG</td>\n",
       "      <td>R</td>\n",
       "      <td>CAG</td>\n",
       "      <td>Q</td>\n",
       "      <td>NS</td>\n",
       "    </tr>\n",
       "    <tr>\n",
       "      <th>3</th>\n",
       "      <td>MG012437.1</td>\n",
       "      <td>106</td>\n",
       "      <td>C</td>\n",
       "      <td>T</td>\n",
       "      <td>0</td>\n",
       "      <td>0</td>\n",
       "      <td>0</td>\n",
       "      <td>2139</td>\n",
       "      <td>171</td>\n",
       "      <td>39</td>\n",
       "      <td>1.000000</td>\n",
       "      <td>2139</td>\n",
       "      <td>0.000000e+00</td>\n",
       "      <td>True</td>\n",
       "      <td>NaN</td>\n",
       "      <td>TGC</td>\n",
       "      <td>C</td>\n",
       "      <td>TGT</td>\n",
       "      <td>C</td>\n",
       "      <td>S</td>\n",
       "    </tr>\n",
       "    <tr>\n",
       "      <th>4</th>\n",
       "      <td>MG012437.1</td>\n",
       "      <td>112</td>\n",
       "      <td>C</td>\n",
       "      <td>A</td>\n",
       "      <td>1929</td>\n",
       "      <td>168</td>\n",
       "      <td>39</td>\n",
       "      <td>156</td>\n",
       "      <td>10</td>\n",
       "      <td>38</td>\n",
       "      <td>0.074820</td>\n",
       "      <td>2085</td>\n",
       "      <td>2.038490e-47</td>\n",
       "      <td>True</td>\n",
       "      <td>NaN</td>\n",
       "      <td>AAC</td>\n",
       "      <td>N</td>\n",
       "      <td>AAA</td>\n",
       "      <td>K</td>\n",
       "      <td>NS</td>\n",
       "    </tr>\n",
       "  </tbody>\n",
       "</table>\n",
       "</div>"
      ],
      "text/plain": [
       "       REGION  POS REF ALT  REF_DP  REF_RV  REF_QUAL  ALT_DP  ALT_RV  \\\n",
       "0  MG012437.1   46   C   T       8       0        38    3834       0   \n",
       "1  MG012437.1   49   T   C       2       0        27    3848       0   \n",
       "2  MG012437.1   69   G   A       1       0        38    3572      25   \n",
       "3  MG012437.1  106   C   T       0       0         0    2139     171   \n",
       "4  MG012437.1  112   C   A    1929     168        39     156      10   \n",
       "\n",
       "   ALT_QUAL  ALT_FREQ  TOTAL_DP          PVAL  PASS  GFF_FEATURE REF_CODON  \\\n",
       "0        38  0.997918      3842  0.000000e+00  True          NaN       ACC   \n",
       "1        38  0.999221      3851  0.000000e+00  True          NaN       TTT   \n",
       "2        38  0.999720      3573  0.000000e+00  True          NaN       CGG   \n",
       "3        39  1.000000      2139  0.000000e+00  True          NaN       TGC   \n",
       "4        38  0.074820      2085  2.038490e-47  True          NaN       AAC   \n",
       "\n",
       "  REF_AA ALT_CODON ALT_AA S_NS  \n",
       "0      T       ACT      T    S  \n",
       "1      F       TTC      F    S  \n",
       "2      R       CAG      Q   NS  \n",
       "3      C       TGT      C    S  \n",
       "4      N       AAA      K   NS  "
      ]
     },
     "execution_count": 27,
     "metadata": {},
     "output_type": "execute_result"
    }
   ],
   "source": [
    "import pandas as pd\n",
    "import matplotlib.pyplot as plt\n",
    "import numpy as np\n",
    "rep_a = pd.read_csv(\"7_japan_GI.1_final.tsv\", sep=\"\\t\")\n",
    "rep_a[\"S_NS\"] = np.where(rep_a[\"REF_AA\"] == rep_a[\"ALT_AA\"], \"S\", \"NS\")\n",
    "rep_a.head()"
   ]
  },
  {
   "cell_type": "code",
   "execution_count": 28,
   "metadata": {},
   "outputs": [
    {
     "data": {
      "text/plain": [
       "(117, 20)"
      ]
     },
     "execution_count": 28,
     "metadata": {},
     "output_type": "execute_result"
    }
   ],
   "source": [
    "rep_b=rep_a[rep_a['TOTAL_DP'] >= 400]\n",
    "shape = rep_b.shape \n",
    "shape"
   ]
  },
  {
   "cell_type": "code",
   "execution_count": 29,
   "metadata": {},
   "outputs": [
    {
     "data": {
      "image/png": "[encoded data removed]",
      "text/plain": [
       "<Figure size 1057.75x360 with 1 Axes>"
      ]
     },
     "metadata": {
      "needs_background": "light"
     },
     "output_type": "display_data"
    }
   ],
   "source": [
    "import numpy as np\n",
    "import seaborn as sns\n",
    "import matplotlib.pyplot as plt\n",
    "rep_b=rep_a[rep_a['TOTAL_DP'] >= 400]\n",
    "sns.lmplot( x=\"POS\", y=\"ALT_FREQ\", data=rep_b, fit_reg=False, hue='S_NS',aspect=14/5, \n",
    "           legend=True, legend_out=True)\n",
    "plt.xlabel('Genome position', fontsize=15)\n",
    "plt.ylabel('iSNV frequency', fontsize=15)\n",
    "plt.title('iSNVs in sample 7_japan', fontsize=20)\n",
    "plt.grid(axis=\"both\")\n",
    "plt.show()"
   ]
  },
  {
   "cell_type": "code",
   "execution_count": 30,
   "metadata": {},
   "outputs": [
    {
     "name": "stdout",
     "output_type": "stream",
     "text": [
      "snps in non structural region\n",
      "(28, 20)\n",
      "snps in capsid\n",
      "(37, 20)\n"
     ]
    }
   ],
   "source": [
    "# let us filter snps in non structural region [1-5099]\n",
    "print(\"snps in non structural region\")\n",
    "print((rep_b[(rep_b['POS'] > 3610) & (rep_b['POS'] < 5099)]).shape)\n",
    "# let us filter snps in complete capsid[5010-6800]\n",
    "print(\"snps in capsid\")\n",
    "print((rep_b[(rep_b['POS'] > 5100) & (rep_b['POS'] < 7350)]).shape)"
   ]
  },
  {
   "cell_type": "code",
   "execution_count": 31,
   "metadata": {},
   "outputs": [
    {
     "data": {
      "text/html": [
       "<div>\n",
       "<style scoped>\n",
       "    .dataframe tbody tr th:only-of-type {\n",
       "        vertical-align: middle;\n",
       "    }\n",
       "\n",
       "    .dataframe tbody tr th {\n",
       "        vertical-align: top;\n",
       "    }\n",
       "\n",
       "    .dataframe thead th {\n",
       "        text-align: right;\n",
       "    }\n",
       "</style>\n",
       "<table border=\"1\" class=\"dataframe\">\n",
       "  <thead>\n",
       "    <tr style=\"text-align: right;\">\n",
       "      <th></th>\n",
       "      <th>Ref</th>\n",
       "      <th>Pos</th>\n",
       "      <th>depth_mask</th>\n",
       "      <th>400cov</th>\n",
       "      <th>100cov</th>\n",
       "    </tr>\n",
       "  </thead>\n",
       "  <tbody>\n",
       "    <tr>\n",
       "      <th>0</th>\n",
       "      <td>MG012437.1</td>\n",
       "      <td>1</td>\n",
       "      <td>0</td>\n",
       "      <td>no</td>\n",
       "      <td>no</td>\n",
       "    </tr>\n",
       "    <tr>\n",
       "      <th>1</th>\n",
       "      <td>MG012437.1</td>\n",
       "      <td>2</td>\n",
       "      <td>0</td>\n",
       "      <td>no</td>\n",
       "      <td>no</td>\n",
       "    </tr>\n",
       "    <tr>\n",
       "      <th>2</th>\n",
       "      <td>MG012437.1</td>\n",
       "      <td>3</td>\n",
       "      <td>0</td>\n",
       "      <td>no</td>\n",
       "      <td>no</td>\n",
       "    </tr>\n",
       "    <tr>\n",
       "      <th>3</th>\n",
       "      <td>MG012437.1</td>\n",
       "      <td>4</td>\n",
       "      <td>0</td>\n",
       "      <td>no</td>\n",
       "      <td>no</td>\n",
       "    </tr>\n",
       "    <tr>\n",
       "      <th>4</th>\n",
       "      <td>MG012437.1</td>\n",
       "      <td>5</td>\n",
       "      <td>0</td>\n",
       "      <td>no</td>\n",
       "      <td>no</td>\n",
       "    </tr>\n",
       "  </tbody>\n",
       "</table>\n",
       "</div>"
      ],
      "text/plain": [
       "          Ref  Pos  depth_mask 400cov 100cov\n",
       "0  MG012437.1    1           0     no     no\n",
       "1  MG012437.1    2           0     no     no\n",
       "2  MG012437.1    3           0     no     no\n",
       "3  MG012437.1    4           0     no     no\n",
       "4  MG012437.1    5           0     no     no"
      ]
     },
     "execution_count": 31,
     "metadata": {},
     "output_type": "execute_result"
    }
   ],
   "source": [
    "# what percentage of this masked genome (without reads from mismached primers) has depth >400 ? \n",
    "os.chdir(\"/media/viro102/HD-ADU3/kte-data/sapo-ivar/test/outbreak_samples/GI.1/7_japan/depth\")\n",
    "df_masked = pd.read_csv(\"7_japan_GI.1.bad_are_masked.sorted.depth\", sep = \"\\t\", names = [\"Ref\", \"Pos\", \"depth_mask\"])\n",
    "df_masked['400cov'] = np.where(df_masked['depth_mask']>=400, 'yes', 'no')\n",
    "df_masked['100cov'] = np.where(df_masked['depth_mask']>=100, 'yes', 'no')\n",
    "df_masked.head()"
   ]
  },
  {
   "cell_type": "code",
   "execution_count": 32,
   "metadata": {},
   "outputs": [
    {
     "name": "stdout",
     "output_type": "stream",
     "text": [
      "(7388, 5)\n",
      "col_0   Breadth 100coverage\n",
      "100cov                     \n",
      "no                      652\n",
      "yes                    6736\n",
      "col_0   Beadth above 400coverage\n",
      "400cov                          \n",
      "no                          1187\n",
      "yes                         6201\n"
     ]
    }
   ],
   "source": [
    "# What proportion of the genome is has a depth of coverage of at least >100 reads, >400 (Breadth ofcoverage)\n",
    "my_tab1 = pd.crosstab(index=df_masked[\"100cov\"],  # Make a crosstab\n",
    "                              columns=\"Breadth 100coverage\")      # Name the count column\n",
    "my_tab2 = pd.crosstab(index=df_masked[\"400cov\"],  # Make a crosstab\n",
    "                              columns=\"Beadth above 400coverage\")      # Name the count column\n",
    "shape=df_masked.shape\n",
    "print(shape)\n",
    "print(my_tab1); print(my_tab2)"
   ]
  },
  {
   "cell_type": "code",
   "execution_count": 35,
   "metadata": {},
   "outputs": [
    {
     "data": {
      "text/plain": [
       "83.93340552246887"
      ]
     },
     "execution_count": 35,
     "metadata": {},
     "output_type": "execute_result"
    }
   ],
   "source": [
    "6201/7388 * 100 # proportion of genome covered >400"
   ]
  },
  {
   "cell_type": "code",
   "execution_count": 37,
   "metadata": {},
   "outputs": [
    {
     "data": {
      "text/plain": [
       "91.17487818083379"
      ]
     },
     "execution_count": 37,
     "metadata": {},
     "output_type": "execute_result"
    }
   ],
   "source": [
    "6736/7388 * 100 # proportion of genome covered >100"
   ]
  }
 ],
 "metadata": {
  "kernelspec": {
   "display_name": "Python 3",
   "language": "python",
   "name": "python3"
  },
  "language_info": {
   "codemirror_mode": {
    "name": "ipython",
    "version": 3
   },
   "file_extension": ".py",
   "mimetype": "text/x-python",
   "name": "python",
   "nbconvert_exporter": "python",
   "pygments_lexer": "ipython3",
   "version": "3.7.6"
  }
 },
 "nbformat": 4,
 "nbformat_minor": 4
}

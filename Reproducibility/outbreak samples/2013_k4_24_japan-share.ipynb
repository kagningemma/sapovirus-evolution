{
 "cells": [
  {
   "cell_type": "markdown",
   "metadata": {},
   "source": [
    "## Full analysis of a sample tested positive to the sapovirus GI.2 during a non-foodborne outbreak in Miyagi-Japan\n"
   ]
  },
  {
   "cell_type": "markdown",
   "metadata": {},
   "source": [
    "We initially mapped these reads to the Nashville Reference sequence\n",
    "Here, we curated the outbreak consensus and re-mapped the reads to outbreak consensus"
   ]
  },
  {
   "cell_type": "code",
   "execution_count": 1,
   "metadata": {},
   "outputs": [],
   "source": [
    "import os\n",
    "os.chdir(\"/media/viro102/HD-ADU3/kte-data/sapo-ivar/test/outbreak_samples/GI.2/remapped-share/2013k4.fa/24_japan/\")"
   ]
  },
  {
   "cell_type": "markdown",
   "metadata": {},
   "source": [
    "### 1-index reference for mapping"
   ]
  },
  {
   "cell_type": "code",
   "execution_count": 2,
   "metadata": {},
   "outputs": [
    {
     "name": "stdout",
     "output_type": "stream",
     "text": [
      "GANBATTE! KTE\n",
      "reference indexed\n"
     ]
    },
    {
     "name": "stderr",
     "output_type": "stream",
     "text": [
      "[bwa_index] Pack FASTA... 0.00 sec\n",
      "[bwa_index] Construct BWT for the packed sequence...\n",
      "[bwa_index] 0.00 seconds elapse.\n",
      "[bwa_index] Update BWT... 0.00 sec\n",
      "[bwa_index] Pack forward-only FASTA... 0.00 sec\n",
      "[bwa_index] Construct SA from BWT and Occ... 0.00 sec\n",
      "[main] Version: 0.7.12-r1039\n",
      "[main] CMD: bwa index cons_GI.2_outbreak2013k4.fa\n",
      "[main] Real time: 0.109 sec; CPU: 0.008 sec\n"
     ]
    }
   ],
   "source": [
    "%%bash\n",
    "echo \"GANBATTE! KTE\"\n",
    "echo \"reference indexed\"\n",
    "\n",
    "# index ref\n",
    "bwa index cons_GI.2_outbreak2013k4.fa"
   ]
  },
  {
   "cell_type": "markdown",
   "metadata": {},
   "source": [
    "### 2-Map reads to reference"
   ]
  },
  {
   "cell_type": "code",
   "execution_count": 3,
   "metadata": {},
   "outputs": [
    {
     "name": "stdout",
     "output_type": "stream",
     "text": [
      "mapping completed\n"
     ]
    },
    {
     "name": "stderr",
     "output_type": "stream",
     "text": [
      "[M::bwa_idx_load_from_disk] read 0 ALT contigs\n",
      "[M::process] read 1347170 sequences (174170682 bp)...\n",
      "[M::mem_pestat] # candidate unique pairs for (FF, FR, RF, RR): (19, 646735, 14, 16)\n",
      "[M::mem_pestat] analyzing insert size distribution for orientation FF...\n",
      "[M::mem_pestat] (25, 50, 75) percentile: (275, 674, 3003)\n",
      "[M::mem_pestat] low and high boundaries for computing mean and std.dev: (1, 8459)\n",
      "[M::mem_pestat] mean and std.dev: (1625.84, 1801.12)\n",
      "[M::mem_pestat] low and high boundaries for proper pairs: (1, 11187)\n",
      "[M::mem_pestat] analyzing insert size distribution for orientation FR...\n",
      "[M::mem_pestat] (25, 50, 75) percentile: (76, 115, 172)\n",
      "[M::mem_pestat] low and high boundaries for computing mean and std.dev: (1, 364)\n",
      "[M::mem_pestat] mean and std.dev: (129.16, 69.54)\n",
      "[M::mem_pestat] low and high boundaries for proper pairs: (1, 460)\n",
      "[M::mem_pestat] analyzing insert size distribution for orientation RF...\n",
      "[M::mem_pestat] (25, 50, 75) percentile: (74, 1360, 2109)\n",
      "[M::mem_pestat] low and high boundaries for computing mean and std.dev: (1, 6179)\n",
      "[M::mem_pestat] mean and std.dev: (1139.36, 1039.45)\n",
      "[M::mem_pestat] low and high boundaries for proper pairs: (1, 8214)\n",
      "[M::mem_pestat] analyzing insert size distribution for orientation RR...\n",
      "[M::mem_pestat] (25, 50, 75) percentile: (472, 527, 2029)\n",
      "[M::mem_pestat] low and high boundaries for computing mean and std.dev: (1, 5143)\n",
      "[M::mem_pestat] mean and std.dev: (973.50, 1008.03)\n",
      "[M::mem_pestat] low and high boundaries for proper pairs: (1, 6700)\n",
      "[M::mem_pestat] skip orientation FF\n",
      "[M::mem_pestat] skip orientation RF\n",
      "[M::mem_pestat] skip orientation RR\n",
      "[M::mem_process_seqs] Processed 1347170 reads in 102.651 CPU sec, 18.168 real sec\n",
      "[main] Version: 0.7.12-r1039\n",
      "[main] CMD: bwa mem -t 32 cons_GI.2_outbreak2013k4.fa 24_S7_L001_R1_001.fastq.gz 24_S7_L001_R2_001.fastq.gz\n",
      "[main] Real time: 61.555 sec; CPU: 111.472 sec\n"
     ]
    }
   ],
   "source": [
    "%%bash\n",
    "bwa mem -t 32  cons_GI.2_outbreak2013k4.fa 24_S7_L001_R1_001.fastq.gz 24_S7_L001_R2_001.fastq.gz | samtools view -b -F 4 -F 2048 | samtools sort -o 24_japan_GI.2.sorted.bam\n",
    "echo \"mapping completed\""
   ]
  },
  {
   "cell_type": "code",
   "execution_count": null,
   "metadata": {},
   "outputs": [],
   "source": [
    "%%bash\n",
    "ls"
   ]
  },
  {
   "cell_type": "code",
   "execution_count": 5,
   "metadata": {},
   "outputs": [
    {
     "name": "stdout",
     "output_type": "stream",
     "text": [
      "1300909 + 0 in total (QC-passed reads + QC-failed reads)\n",
      "0 + 0 secondary\n",
      "0 + 0 supplementary\n",
      "0 + 0 duplicates\n",
      "1300909 + 0 mapped (100.00% : N/A)\n",
      "1300909 + 0 paired in sequencing\n",
      "650796 + 0 read1\n",
      "650113 + 0 read2\n",
      "1290632 + 0 properly paired (99.21% : N/A)\n",
      "1297356 + 0 with itself and mate mapped\n",
      "3553 + 0 singletons (0.27% : N/A)\n",
      "0 + 0 with mate mapped to a different chr\n",
      "0 + 0 with mate mapped to a different chr (mapQ>=5)\n"
     ]
    }
   ],
   "source": [
    "%%bash\n",
    "samtools flagstat 24_japan_GI.2.sorted.bam"
   ]
  },
  {
   "cell_type": "markdown",
   "metadata": {},
   "source": [
    "### 3-Let's now trim-off the primer sequences using ivar. \n",
    "In order to do this we need three files: (1) a BED file with primer coordinates. We will generate this by aligning the primer sequences to the reference sequence and then using bedtools to create the BED file. We also neet (2) Aligned and (3) sorted BAM file generate in the previous step.\n"
   ]
  },
  {
   "cell_type": "code",
   "execution_count": 6,
   "metadata": {},
   "outputs": [],
   "source": [
    "# map primers to the reference genome to identify primers coordinates"
   ]
  },
  {
   "cell_type": "code",
   "execution_count": 7,
   "metadata": {},
   "outputs": [
    {
     "name": "stdout",
     "output_type": "stream",
     "text": [
      "bed file with primers locations on reference sequence generated\n"
     ]
    },
    {
     "name": "stderr",
     "output_type": "stream",
     "text": [
      "[M::bwa_idx_load_from_disk] read 0 ALT contigs\n",
      "[M::process] read 68 sequences (1514 bp)...\n",
      "[M::mem_process_seqs] Processed 68 reads in 0.011 CPU sec, 0.011 real sec\n",
      "[main] Version: 0.7.12-r1039\n",
      "[main] CMD: bwa mem -k 5 -T 16 cons_GI.2_outbreak2013k4.fa Primalprimers_SaV_GI.2_batch2_ok.fa\n",
      "[main] Real time: 0.013 sec; CPU: 0.014 sec\n"
     ]
    }
   ],
   "source": [
    "%%bash\n",
    "bwa mem -k 5 -T 16 cons_GI.2_outbreak2013k4.fa Primalprimers_SaV_GI.2_batch2_ok.fa  | samtools view -b -F 4 > Primalprimers_SaV_GI.2_batch2_ok.fa.bam\n",
    "bedtools bamtobed -i Primalprimers_SaV_GI.2_batch2_ok.fa.bam > 24_japan_GI.2_primers.bed\n",
    "echo \"bed file with primers locations on reference sequence generated\""
   ]
  },
  {
   "cell_type": "code",
   "execution_count": 8,
   "metadata": {},
   "outputs": [],
   "source": [
    "# We will now use this BED file as input to ivar to trim primer sequences\n",
    "\n",
    "# Note that this BED file has to be generated only once for a reference sequence."
   ]
  },
  {
   "cell_type": "code",
   "execution_count": 9,
   "metadata": {},
   "outputs": [
    {
     "name": "stdout",
     "output_type": "stream",
     "text": [
      "Number of references: 1\n",
      "Reference Name: cons_GI.2_outbreak2013k4\n",
      "Reference Length: 7442\n",
      "Using Region: cons_GI.2_outbreak2013k4\n",
      "Sorted By Coordinate\n",
      "Sorted By Query Name\n",
      "Processed 1000000 reads ... \n",
      "Results: \n",
      "Trimmed primers from 337652 reads.\n",
      "43219 reads were shortened below the minimum length of 30 bp and were not writen to file.\n",
      "938307 reads that started outside of primer regions were not written to file.\n",
      "primers trimming complete\n",
      "Sorted and indexed trimmed BAM file\n"
     ]
    },
    {
     "name": "stderr",
     "output_type": "stream",
     "text": [
      "[E::idx_find_and_load] Could not retrieve index file for '24_japan_GI.2.sorted.bam'\n"
     ]
    }
   ],
   "source": [
    "%%bash\n",
    "ivar trim -b 24_japan_GI.2_primers.bed -p 24_japan_GI.2.trimmed -i 24_japan_GI.2.sorted.bam\n",
    "echo \"primers trimming complete\"\n",
    "# Sort and index trimmed BAM file.\n",
    "samtools sort -o 24_japan_GI.2.trimmed.sorted.bam 24_japan_GI.2.trimmed.bam ; samtools index 24_japan_GI.2.trimmed.sorted.bam\n",
    "echo \"Sorted and indexed trimmed BAM file\"\n"
   ]
  },
  {
   "cell_type": "code",
   "execution_count": null,
   "metadata": {},
   "outputs": [],
   "source": []
  },
  {
   "cell_type": "code",
   "execution_count": 10,
   "metadata": {},
   "outputs": [
    {
     "name": "stdout",
     "output_type": "stream",
     "text": [
      "319383 + 0 in total (QC-passed reads + QC-failed reads)\n",
      "0 + 0 secondary\n",
      "0 + 0 supplementary\n",
      "0 + 0 duplicates\n",
      "319383 + 0 mapped (100.00% : N/A)\n",
      "319383 + 0 paired in sequencing\n",
      "163450 + 0 read1\n",
      "155933 + 0 read2\n",
      "317439 + 0 properly paired (99.39% : N/A)\n",
      "318924 + 0 with itself and mate mapped\n",
      "459 + 0 singletons (0.14% : N/A)\n",
      "0 + 0 with mate mapped to a different chr\n",
      "0 + 0 with mate mapped to a different chr (mapQ>=5)\n"
     ]
    }
   ],
   "source": [
    "%%bash\n",
    "samtools flagstat 24_japan_GI.2.trimmed.sorted.bam"
   ]
  },
  {
   "cell_type": "markdown",
   "metadata": {},
   "source": [
    "### 4-Let's quicky take a look at the depth of the trimmed vs untrimmed BAM file. We'll extract the depth using the samtools depth command.\n"
   ]
  },
  {
   "cell_type": "code",
   "execution_count": 11,
   "metadata": {},
   "outputs": [
    {
     "name": "stdout",
     "output_type": "stream",
     "text": [
      "Please plot the depth per position\n"
     ]
    }
   ],
   "source": [
    "%%bash\n",
    "mkdir depth\n",
    "samtools depth -a 24_japan_GI.2.trimmed.sorted.bam > depth/24_japan_GI.2.trimmed.sorted.bam.depth ; samtools depth -a 24_japan_GI.2.sorted.bam > depth/24_japan_GI.2.sorted.bam.depth\n",
    "echo \"Please plot the depth per position\""
   ]
  },
  {
   "cell_type": "code",
   "execution_count": 12,
   "metadata": {},
   "outputs": [],
   "source": [
    "## Plot of the depth per position"
   ]
  },
  {
   "cell_type": "code",
   "execution_count": 13,
   "metadata": {},
   "outputs": [],
   "source": [
    "os.chdir(\"/media/viro102/HD-ADU3/kte-data/sapo-ivar/test/outbreak_samples/GI.2/remapped-share/2013k4.fa/24_japan/depth\")"
   ]
  },
  {
   "cell_type": "code",
   "execution_count": 14,
   "metadata": {},
   "outputs": [
    {
     "data": {
      "image/png": "[encoded data removed]",
      "text/plain": [
       "<Figure size 1080x360 with 1 Axes>"
      ]
     },
     "metadata": {
      "needs_background": "light"
     },
     "output_type": "display_data"
    }
   ],
   "source": [
    "import pandas as pd\n",
    "import matplotlib.pyplot as plt\n",
    "df_trimmed = pd.read_csv(\"24_japan_GI.2.trimmed.sorted.bam.depth\", sep = \"\\t\", names = [\"Ref\", \"Pos\", \"depth_t\"])\n",
    "df_untrimmed = pd.read_csv(\"24_japan_GI.2.sorted.bam.depth\", sep = \"\\t\", names = [\"Ref\", \"Pos\", \"depth_unt\"])\n",
    "\n",
    "ax = df_trimmed[\"depth_t\"].plot(logy=True, label = \"Trimmed\", figsize = (15,5), alpha = 0.9)\n",
    "df_untrimmed[\"depth_unt\"].plot(logy=True, ax = ax, label =\"Untrimmed\", alpha=0.9)\n",
    "plt.legend()\n",
    "plt.grid()\n",
    "plt.show()"
   ]
  },
  {
   "cell_type": "markdown",
   "metadata": {},
   "source": [
    "### 5-Let us identify primer sequences that might have a mismatch with the consensus sequence to ensure that we remove reads from any amplicons derived from those primers; Otherwise, it might bias the iSNV frequency due to varying primer binding effeciency"
   ]
  },
  {
   "cell_type": "code",
   "execution_count": 15,
   "metadata": {},
   "outputs": [],
   "source": [
    "#To that end, we have to : \n",
    "\n",
    "#Call consensus on merged BAM file (If the sequencing of each technical replicate was done separately).\n",
    "\n",
    "#Align primer sequences to consensus after creating a bwa index from the consensus sequence called."
   ]
  },
  {
   "cell_type": "code",
   "execution_count": 16,
   "metadata": {},
   "outputs": [],
   "source": [
    "os.chdir(\"/media/viro102/HD-ADU3/kte-data/sapo-ivar/test/outbreak_samples/GI.2/remapped-share/2013k4.fa/24_japan/\")"
   ]
  },
  {
   "cell_type": "code",
   "execution_count": 17,
   "metadata": {},
   "outputs": [
    {
     "name": "stdout",
     "output_type": "stream",
     "text": [
      "Minimum Quality: 20\n",
      "Threshold: 0\n",
      "Minimum depth: \u0000\n",
      "Regions with depth less than minimum depth covered by: -\n",
      "consensus called on BAM file.\n"
     ]
    },
    {
     "name": "stderr",
     "output_type": "stream",
     "text": [
      "[mpileup] 1 samples in 1 input files\n",
      "[mpileup] Max depth set to maximum value (2147483647)\n"
     ]
    }
   ],
   "source": [
    "%%bash\n",
    "# a-call consensus\n",
    "samtools mpileup -A -d 0 -Q 0 24_japan_GI.2.trimmed.sorted.bam  | ivar consensus -p 24_japan_GI.2.consensus\n",
    "echo \"consensus called on BAM file.\"\n"
   ]
  },
  {
   "cell_type": "code",
   "execution_count": 18,
   "metadata": {},
   "outputs": [
    {
     "name": "stdout",
     "output_type": "stream",
     "text": [
      "primers mapped to consensus\n"
     ]
    },
    {
     "name": "stderr",
     "output_type": "stream",
     "text": [
      "[bwa_index] Pack FASTA... 0.00 sec\n",
      "[bwa_index] Construct BWT for the packed sequence...\n",
      "[bwa_index] 0.00 seconds elapse.\n",
      "[bwa_index] Update BWT... 0.00 sec\n",
      "[bwa_index] Pack forward-only FASTA... 0.00 sec\n",
      "[bwa_index] Construct SA from BWT and Occ... 0.00 sec\n",
      "[main] Version: 0.7.12-r1039\n",
      "[main] CMD: bwa index -p 24_japan_GI.2.consensus 24_japan_GI.2.consensus.fa\n",
      "[main] Real time: 0.101 sec; CPU: 0.007 sec\n",
      "[M::bwa_idx_load_from_disk] read 0 ALT contigs\n",
      "[M::process] read 68 sequences (1514 bp)...\n",
      "[M::mem_process_seqs] Processed 68 reads in 0.011 CPU sec, 0.011 real sec\n",
      "[main] Version: 0.7.12-r1039\n",
      "[main] CMD: bwa mem -k 5 -T 16 24_japan_GI.2.consensus Primalprimers_SaV_GI.2_batch2_ok.fa\n",
      "[main] Real time: 0.013 sec; CPU: 0.013 sec\n"
     ]
    }
   ],
   "source": [
    "%%bash\n",
    "# Map primers to the indexed consensus sequence\n",
    "bwa index -p 24_japan_GI.2.consensus 24_japan_GI.2.consensus.fa\n",
    "bwa mem -k 5 -T 16 24_japan_GI.2.consensus Primalprimers_SaV_GI.2_batch2_ok.fa  | samtools view -bS -F 4 | samtools sort -o 24_japan_GI.2_primers_consensus.bam\n",
    "\n",
    "echo \"primers mapped to consensus\""
   ]
  },
  {
   "cell_type": "code",
   "execution_count": 19,
   "metadata": {},
   "outputs": [
    {
     "name": "stdout",
     "output_type": "stream",
     "text": [
      "GFF file is not in GFF3 file format!\n",
      "iSNVs on this initial BAM (without removal of reads from mismached primers) called at a minimum threshold of 3%\n"
     ]
    },
    {
     "name": "stderr",
     "output_type": "stream",
     "text": [
      "[mpileup] 1 samples in 1 input files\n",
      "[mpileup] Max depth set to maximum value (2147483647)\n"
     ]
    }
   ],
   "source": [
    "%%bash\n",
    "# \"Let's now call iSNVs on this BAM file at a minimum threshold of 3% and the default minimum quality threshold of 20\"\n",
    "samtools mpileup -A -d 0  -Q 0 24_japan_GI.2_primers_consensus.bam | ivar variants -p 24_japan_GI.2_primers_consensus_1 -t 0.03 -r 24_japan_GI.2.consensus.fa -g cons_GI.2_outbreak2013k4.gff\n",
    "\n",
    "echo \"iSNVs on this initial BAM (without removal of reads from mismached primers) called at a minimum threshold of 3%\"\n"
   ]
  },
  {
   "cell_type": "code",
   "execution_count": 20,
   "metadata": {},
   "outputs": [
    {
     "name": "stdout",
     "output_type": "stream",
     "text": [
      "KTESAVG12_1_RIGHT\tGI24thbatch_2_LEFT\tGI24thbatch_1_RIGHT\tKTESAVG12_5_RIGHT\tKTESAVG12_7_LEFT\tKTESAVG12_9_LEFT\tKTESAVG12_11_LEFT\tKTESAVG12_13_LEFT\tKTESAVG12_16_LEFT\tKTESAVG12_15_RIGHT\tGI24thbatch_6_RIGHT\tGI24thbatch_8_LEFT\tKTESAVG12_21_LEFT\tKTESAVG12_22_LEFT\tKTESAVG12_25_LEFT\tGI24thbatch_9_RIGHT\n",
      "you got the indices of primers with mismtaches and their respective pairs\n"
     ]
    }
   ],
   "source": [
    "%%bash\n",
    "# Let's now get the indices of primers with mismtaches and their respective pairs. To get the pair information, we need a tsv file with two columns to represent the pairs of primers. This file is at pair_information.tsv\n",
    "bedtools bamtobed -i 24_japan_GI.2_primers_consensus.bam > 24_japan_GI.2_primers_consensus.bam.bed ; ivar getmasked -i 24_japan_GI.2_primers_consensus_1.tsv -b 24_japan_GI.2_primers_consensus.bam.bed -f Primal-primers_SaVGI.1pairs_ok.tsv -p primer_mismatchers_indices\n",
    "echo \"you got the indices of primers with mismtaches and their respective pairs\"\n"
   ]
  },
  {
   "cell_type": "markdown",
   "metadata": {},
   "source": [
    "### 6- Let's omit reads from mismatched primers (Masking)"
   ]
  },
  {
   "cell_type": "code",
   "execution_count": 21,
   "metadata": {},
   "outputs": [
    {
     "name": "stdout",
     "output_type": "stream",
     "text": [
      "Writing to 24_japan_GI.2.bad_are_masked.bam\n",
      "Number of references: 1\n",
      "Reference Name: cons_GI.2_outbreak2013k4\n",
      "Reference Length: 7442\n",
      "Using Region: cons_GI.2_outbreak2013k4\n",
      "Sorted By Coordinate\n",
      "Results:\n",
      "74096 reads were removed.\n",
      "you removed reads from mismatched primers\n"
     ]
    }
   ],
   "source": [
    "%%bash\n",
    "ivar removereads -i 24_japan_GI.2.trimmed.sorted.bam -p 24_japan_GI.2.bad_are_masked.bam -t primer_mismatchers_indices.txt -b 24_japan_GI.2_primers.bed\n",
    "echo \"you removed reads from mismatched primers\""
   ]
  },
  {
   "cell_type": "code",
   "execution_count": 22,
   "metadata": {},
   "outputs": [
    {
     "name": "stdout",
     "output_type": "stream",
     "text": [
      "245287 + 0 in total (QC-passed reads + QC-failed reads)\n",
      "0 + 0 secondary\n",
      "0 + 0 supplementary\n",
      "0 + 0 duplicates\n",
      "245287 + 0 mapped (100.00% : N/A)\n",
      "245287 + 0 paired in sequencing\n",
      "125487 + 0 read1\n",
      "119800 + 0 read2\n",
      "243786 + 0 properly paired (99.39% : N/A)\n",
      "244940 + 0 with itself and mate mapped\n",
      "347 + 0 singletons (0.14% : N/A)\n",
      "0 + 0 with mate mapped to a different chr\n",
      "0 + 0 with mate mapped to a different chr (mapQ>=5)\n"
     ]
    }
   ],
   "source": [
    "%%bash\n",
    "samtools flagstat 24_japan_GI.2.bad_are_masked.bam"
   ]
  },
  {
   "cell_type": "code",
   "execution_count": 23,
   "metadata": {},
   "outputs": [
    {
     "name": "stdout",
     "output_type": "stream",
     "text": [
      "GFF file is not in GFF3 file format!\n",
      "\u001b[31mplease exclude variants with depth <400 and count iSNV\n"
     ]
    },
    {
     "name": "stderr",
     "output_type": "stream",
     "text": [
      "[mpileup] 1 samples in 1 input files\n",
      "[mpileup] Max depth set to maximum value (2147483647)\n"
     ]
    }
   ],
   "source": [
    "%%bash\n",
    "# let us take a look at the reads distribution before and after masking\n",
    "samtools sort -o 24_japan_GI.2.bad_are_masked.sorted.bam 24_japan_GI.2.bad_are_masked.bam \n",
    "samtools depth -a 24_japan_GI.2.bad_are_masked.sorted.bam > depth/24_japan_GI.2.bad_are_masked.sorted.depth\n",
    "\n",
    "# echo \"Let's now call iSNVs from the BAMS without reads from the masked amplicons\"\n",
    "\n",
    "samtools mpileup -A -d 0 --reference cons_GI.2_outbreak2013k4.fa -Q 0 24_japan_GI.2.bad_are_masked.sorted.bam | ivar variants -p 24_japan_GI.2_final -t 0.03 -r cons_GI.2_outbreak2013k4.fa -g cons_GI.2_outbreak2013k4.gff ; tput setaf 1 echo \"analysis is completed\"\n",
    "echo \"please exclude variants with depth <400 and count iSNV\""
   ]
  },
  {
   "cell_type": "code",
   "execution_count": 24,
   "metadata": {},
   "outputs": [],
   "source": [
    "os.chdir(\"/media/viro102/HD-ADU3/kte-data/sapo-ivar/test/outbreak_samples/GI.2/remapped-share/2013k4.fa/24_japan/depth\")"
   ]
  },
  {
   "cell_type": "code",
   "execution_count": 25,
   "metadata": {},
   "outputs": [
    {
     "data": {
      "image/png": "[encoded data removed]",
      "text/plain": [
       "<Figure size 1080x360 with 1 Axes>"
      ]
     },
     "metadata": {
      "needs_background": "light"
     },
     "output_type": "display_data"
    }
   ],
   "source": [
    "import pandas as pd\n",
    "import matplotlib.pyplot as plt\n",
    "df_unmasked = pd.read_csv(\"24_japan_GI.2.trimmed.sorted.bam.depth\", sep = \"\\t\", names = [\"Ref\", \"Pos\", \"depth_unmask\"])\n",
    "df_masked = pd.read_csv(\"24_japan_GI.2.bad_are_masked.sorted.depth\", sep = \"\\t\", names = [\"Ref\", \"Pos\", \"depth_mask\"])\n",
    "\n",
    "ax = df_masked[\"depth_mask\"].plot(logy=True, label = \"Masked\", figsize = (15,5), alpha = 0.9)\n",
    "df_unmasked[\"depth_unmask\"].plot(logy=True, ax = ax, label =\"Unmasked\", alpha=0.9)\n",
    "plt.legend()\n",
    "plt.grid()\n",
    "plt.show()"
   ]
  },
  {
   "cell_type": "markdown",
   "metadata": {},
   "source": [
    "#### 7- View Tables and Plots"
   ]
  },
  {
   "cell_type": "code",
   "execution_count": 26,
   "metadata": {},
   "outputs": [],
   "source": [
    "os.chdir(\"/media/viro102/HD-ADU3/kte-data/sapo-ivar/test/outbreak_samples/GI.2/remapped-share/2013k4.fa/24_japan/\")"
   ]
  },
  {
   "cell_type": "code",
   "execution_count": 32,
   "metadata": {},
   "outputs": [
    {
     "data": {
      "text/html": [
       "<div>\n",
       "<style scoped>\n",
       "    .dataframe tbody tr th:only-of-type {\n",
       "        vertical-align: middle;\n",
       "    }\n",
       "\n",
       "    .dataframe tbody tr th {\n",
       "        vertical-align: top;\n",
       "    }\n",
       "\n",
       "    .dataframe thead th {\n",
       "        text-align: right;\n",
       "    }\n",
       "</style>\n",
       "<table border=\"1\" class=\"dataframe\">\n",
       "  <thead>\n",
       "    <tr style=\"text-align: right;\">\n",
       "      <th></th>\n",
       "      <th>REGION</th>\n",
       "      <th>POS</th>\n",
       "      <th>REF</th>\n",
       "      <th>ALT</th>\n",
       "      <th>REF_DP</th>\n",
       "      <th>REF_RV</th>\n",
       "      <th>REF_QUAL</th>\n",
       "      <th>ALT_DP</th>\n",
       "      <th>ALT_RV</th>\n",
       "      <th>ALT_QUAL</th>\n",
       "      <th>ALT_FREQ</th>\n",
       "      <th>TOTAL_DP</th>\n",
       "      <th>PVAL</th>\n",
       "      <th>PASS</th>\n",
       "      <th>GFF_FEATURE</th>\n",
       "      <th>REF_CODON</th>\n",
       "      <th>REF_AA</th>\n",
       "      <th>ALT_CODON</th>\n",
       "      <th>ALT_AA</th>\n",
       "      <th>S_NS</th>\n",
       "    </tr>\n",
       "  </thead>\n",
       "  <tbody>\n",
       "    <tr>\n",
       "      <th>0</th>\n",
       "      <td>cons_GI.2_outbreak2013k4</td>\n",
       "      <td>972</td>\n",
       "      <td>C</td>\n",
       "      <td>T</td>\n",
       "      <td>1022</td>\n",
       "      <td>984</td>\n",
       "      <td>37</td>\n",
       "      <td>142</td>\n",
       "      <td>139</td>\n",
       "      <td>34</td>\n",
       "      <td>0.121993</td>\n",
       "      <td>1164</td>\n",
       "      <td>6.787420e-45</td>\n",
       "      <td>True</td>\n",
       "      <td>NaN</td>\n",
       "      <td>GGC</td>\n",
       "      <td>G</td>\n",
       "      <td>GGT</td>\n",
       "      <td>G</td>\n",
       "      <td>S</td>\n",
       "    </tr>\n",
       "    <tr>\n",
       "      <th>1</th>\n",
       "      <td>cons_GI.2_outbreak2013k4</td>\n",
       "      <td>2997</td>\n",
       "      <td>A</td>\n",
       "      <td>G</td>\n",
       "      <td>1425</td>\n",
       "      <td>1121</td>\n",
       "      <td>37</td>\n",
       "      <td>60</td>\n",
       "      <td>58</td>\n",
       "      <td>36</td>\n",
       "      <td>0.040404</td>\n",
       "      <td>1485</td>\n",
       "      <td>8.700100e-18</td>\n",
       "      <td>True</td>\n",
       "      <td>NaN</td>\n",
       "      <td>GTA</td>\n",
       "      <td>V</td>\n",
       "      <td>GTG</td>\n",
       "      <td>V</td>\n",
       "      <td>S</td>\n",
       "    </tr>\n",
       "    <tr>\n",
       "      <th>2</th>\n",
       "      <td>cons_GI.2_outbreak2013k4</td>\n",
       "      <td>3543</td>\n",
       "      <td>G</td>\n",
       "      <td>A</td>\n",
       "      <td>4693</td>\n",
       "      <td>3717</td>\n",
       "      <td>43</td>\n",
       "      <td>474</td>\n",
       "      <td>471</td>\n",
       "      <td>24</td>\n",
       "      <td>0.091736</td>\n",
       "      <td>5167</td>\n",
       "      <td>1.721330e-99</td>\n",
       "      <td>True</td>\n",
       "      <td>NaN</td>\n",
       "      <td>GTG</td>\n",
       "      <td>V</td>\n",
       "      <td>GTA</td>\n",
       "      <td>V</td>\n",
       "      <td>S</td>\n",
       "    </tr>\n",
       "    <tr>\n",
       "      <th>3</th>\n",
       "      <td>cons_GI.2_outbreak2013k4</td>\n",
       "      <td>5175</td>\n",
       "      <td>C</td>\n",
       "      <td>T</td>\n",
       "      <td>4902</td>\n",
       "      <td>874</td>\n",
       "      <td>39</td>\n",
       "      <td>483</td>\n",
       "      <td>3</td>\n",
       "      <td>38</td>\n",
       "      <td>0.089677</td>\n",
       "      <td>5386</td>\n",
       "      <td>6.306340e-147</td>\n",
       "      <td>True</td>\n",
       "      <td>NaN</td>\n",
       "      <td>TCC</td>\n",
       "      <td>S</td>\n",
       "      <td>TCT</td>\n",
       "      <td>S</td>\n",
       "      <td>S</td>\n",
       "    </tr>\n",
       "    <tr>\n",
       "      <th>4</th>\n",
       "      <td>cons_GI.2_outbreak2013k4</td>\n",
       "      <td>6220</td>\n",
       "      <td>A</td>\n",
       "      <td>G</td>\n",
       "      <td>3594</td>\n",
       "      <td>2862</td>\n",
       "      <td>39</td>\n",
       "      <td>730</td>\n",
       "      <td>729</td>\n",
       "      <td>37</td>\n",
       "      <td>0.168825</td>\n",
       "      <td>4324</td>\n",
       "      <td>5.384950e-238</td>\n",
       "      <td>True</td>\n",
       "      <td>NaN</td>\n",
       "      <td>ATC</td>\n",
       "      <td>I</td>\n",
       "      <td>GTC</td>\n",
       "      <td>V</td>\n",
       "      <td>NS</td>\n",
       "    </tr>\n",
       "  </tbody>\n",
       "</table>\n",
       "</div>"
      ],
      "text/plain": [
       "                     REGION   POS REF ALT  REF_DP  REF_RV  REF_QUAL  ALT_DP  \\\n",
       "0  cons_GI.2_outbreak2013k4   972   C   T    1022     984        37     142   \n",
       "1  cons_GI.2_outbreak2013k4  2997   A   G    1425    1121        37      60   \n",
       "2  cons_GI.2_outbreak2013k4  3543   G   A    4693    3717        43     474   \n",
       "3  cons_GI.2_outbreak2013k4  5175   C   T    4902     874        39     483   \n",
       "4  cons_GI.2_outbreak2013k4  6220   A   G    3594    2862        39     730   \n",
       "\n",
       "   ALT_RV  ALT_QUAL  ALT_FREQ  TOTAL_DP           PVAL  PASS  GFF_FEATURE  \\\n",
       "0     139        34  0.121993      1164   6.787420e-45  True          NaN   \n",
       "1      58        36  0.040404      1485   8.700100e-18  True          NaN   \n",
       "2     471        24  0.091736      5167   1.721330e-99  True          NaN   \n",
       "3       3        38  0.089677      5386  6.306340e-147  True          NaN   \n",
       "4     729        37  0.168825      4324  5.384950e-238  True          NaN   \n",
       "\n",
       "  REF_CODON REF_AA ALT_CODON ALT_AA S_NS  \n",
       "0       GGC      G       GGT      G    S  \n",
       "1       GTA      V       GTG      V    S  \n",
       "2       GTG      V       GTA      V    S  \n",
       "3       TCC      S       TCT      S    S  \n",
       "4       ATC      I       GTC      V   NS  "
      ]
     },
     "execution_count": 32,
     "metadata": {},
     "output_type": "execute_result"
    }
   ],
   "source": [
    "import pandas as pd\n",
    "import matplotlib.pyplot as plt\n",
    "import numpy as np\n",
    "rep_a = pd.read_csv(\"24_japan_GI.2_final.tsv\", sep=\"\\t\")\n",
    "rep_a[\"S_NS\"] = np.where(rep_a[\"REF_AA\"] == rep_a[\"ALT_AA\"], \"S\", \"NS\")\n",
    "rep_a.head()"
   ]
  },
  {
   "cell_type": "code",
   "execution_count": 33,
   "metadata": {},
   "outputs": [
    {
     "data": {
      "text/plain": [
       "(5, 20)"
      ]
     },
     "execution_count": 33,
     "metadata": {},
     "output_type": "execute_result"
    }
   ],
   "source": [
    "rep_b=rep_a[rep_a['TOTAL_DP'] >= 400]\n",
    "shape = rep_b.shape \n",
    "shape"
   ]
  },
  {
   "cell_type": "code",
   "execution_count": 37,
   "metadata": {},
   "outputs": [
    {
     "data": {
      "text/html": [
       "<div>\n",
       "<style scoped>\n",
       "    .dataframe tbody tr th:only-of-type {\n",
       "        vertical-align: middle;\n",
       "    }\n",
       "\n",
       "    .dataframe tbody tr th {\n",
       "        vertical-align: top;\n",
       "    }\n",
       "\n",
       "    .dataframe thead th {\n",
       "        text-align: right;\n",
       "    }\n",
       "</style>\n",
       "<table border=\"1\" class=\"dataframe\">\n",
       "  <thead>\n",
       "    <tr style=\"text-align: right;\">\n",
       "      <th></th>\n",
       "      <th>REGION</th>\n",
       "      <th>POS</th>\n",
       "      <th>REF</th>\n",
       "      <th>ALT</th>\n",
       "      <th>REF_DP</th>\n",
       "      <th>REF_RV</th>\n",
       "      <th>REF_QUAL</th>\n",
       "      <th>ALT_DP</th>\n",
       "      <th>ALT_RV</th>\n",
       "      <th>ALT_QUAL</th>\n",
       "      <th>ALT_FREQ</th>\n",
       "      <th>TOTAL_DP</th>\n",
       "      <th>PVAL</th>\n",
       "      <th>PASS</th>\n",
       "      <th>GFF_FEATURE</th>\n",
       "      <th>REF_CODON</th>\n",
       "      <th>REF_AA</th>\n",
       "      <th>ALT_CODON</th>\n",
       "      <th>ALT_AA</th>\n",
       "      <th>S_NS</th>\n",
       "    </tr>\n",
       "  </thead>\n",
       "  <tbody>\n",
       "    <tr>\n",
       "      <th>0</th>\n",
       "      <td>cons_GI.2_outbreak2013k4</td>\n",
       "      <td>972</td>\n",
       "      <td>C</td>\n",
       "      <td>T</td>\n",
       "      <td>1022</td>\n",
       "      <td>984</td>\n",
       "      <td>37</td>\n",
       "      <td>142</td>\n",
       "      <td>139</td>\n",
       "      <td>34</td>\n",
       "      <td>0.121993</td>\n",
       "      <td>1164</td>\n",
       "      <td>6.787420e-45</td>\n",
       "      <td>True</td>\n",
       "      <td>NaN</td>\n",
       "      <td>GGC</td>\n",
       "      <td>G</td>\n",
       "      <td>GGT</td>\n",
       "      <td>G</td>\n",
       "      <td>S</td>\n",
       "    </tr>\n",
       "    <tr>\n",
       "      <th>1</th>\n",
       "      <td>cons_GI.2_outbreak2013k4</td>\n",
       "      <td>2997</td>\n",
       "      <td>A</td>\n",
       "      <td>G</td>\n",
       "      <td>1425</td>\n",
       "      <td>1121</td>\n",
       "      <td>37</td>\n",
       "      <td>60</td>\n",
       "      <td>58</td>\n",
       "      <td>36</td>\n",
       "      <td>0.040404</td>\n",
       "      <td>1485</td>\n",
       "      <td>8.700100e-18</td>\n",
       "      <td>True</td>\n",
       "      <td>NaN</td>\n",
       "      <td>GTA</td>\n",
       "      <td>V</td>\n",
       "      <td>GTG</td>\n",
       "      <td>V</td>\n",
       "      <td>S</td>\n",
       "    </tr>\n",
       "    <tr>\n",
       "      <th>2</th>\n",
       "      <td>cons_GI.2_outbreak2013k4</td>\n",
       "      <td>3543</td>\n",
       "      <td>G</td>\n",
       "      <td>A</td>\n",
       "      <td>4693</td>\n",
       "      <td>3717</td>\n",
       "      <td>43</td>\n",
       "      <td>474</td>\n",
       "      <td>471</td>\n",
       "      <td>24</td>\n",
       "      <td>0.091736</td>\n",
       "      <td>5167</td>\n",
       "      <td>1.721330e-99</td>\n",
       "      <td>True</td>\n",
       "      <td>NaN</td>\n",
       "      <td>GTG</td>\n",
       "      <td>V</td>\n",
       "      <td>GTA</td>\n",
       "      <td>V</td>\n",
       "      <td>S</td>\n",
       "    </tr>\n",
       "    <tr>\n",
       "      <th>3</th>\n",
       "      <td>cons_GI.2_outbreak2013k4</td>\n",
       "      <td>5175</td>\n",
       "      <td>C</td>\n",
       "      <td>T</td>\n",
       "      <td>4902</td>\n",
       "      <td>874</td>\n",
       "      <td>39</td>\n",
       "      <td>483</td>\n",
       "      <td>3</td>\n",
       "      <td>38</td>\n",
       "      <td>0.089677</td>\n",
       "      <td>5386</td>\n",
       "      <td>6.306340e-147</td>\n",
       "      <td>True</td>\n",
       "      <td>NaN</td>\n",
       "      <td>TCC</td>\n",
       "      <td>S</td>\n",
       "      <td>TCT</td>\n",
       "      <td>S</td>\n",
       "      <td>S</td>\n",
       "    </tr>\n",
       "    <tr>\n",
       "      <th>4</th>\n",
       "      <td>cons_GI.2_outbreak2013k4</td>\n",
       "      <td>6220</td>\n",
       "      <td>A</td>\n",
       "      <td>G</td>\n",
       "      <td>3594</td>\n",
       "      <td>2862</td>\n",
       "      <td>39</td>\n",
       "      <td>730</td>\n",
       "      <td>729</td>\n",
       "      <td>37</td>\n",
       "      <td>0.168825</td>\n",
       "      <td>4324</td>\n",
       "      <td>5.384950e-238</td>\n",
       "      <td>True</td>\n",
       "      <td>NaN</td>\n",
       "      <td>ATC</td>\n",
       "      <td>I</td>\n",
       "      <td>GTC</td>\n",
       "      <td>V</td>\n",
       "      <td>NS</td>\n",
       "    </tr>\n",
       "  </tbody>\n",
       "</table>\n",
       "</div>"
      ],
      "text/plain": [
       "                     REGION   POS REF ALT  REF_DP  REF_RV  REF_QUAL  ALT_DP  \\\n",
       "0  cons_GI.2_outbreak2013k4   972   C   T    1022     984        37     142   \n",
       "1  cons_GI.2_outbreak2013k4  2997   A   G    1425    1121        37      60   \n",
       "2  cons_GI.2_outbreak2013k4  3543   G   A    4693    3717        43     474   \n",
       "3  cons_GI.2_outbreak2013k4  5175   C   T    4902     874        39     483   \n",
       "4  cons_GI.2_outbreak2013k4  6220   A   G    3594    2862        39     730   \n",
       "\n",
       "   ALT_RV  ALT_QUAL  ALT_FREQ  TOTAL_DP           PVAL  PASS  GFF_FEATURE  \\\n",
       "0     139        34  0.121993      1164   6.787420e-45  True          NaN   \n",
       "1      58        36  0.040404      1485   8.700100e-18  True          NaN   \n",
       "2     471        24  0.091736      5167   1.721330e-99  True          NaN   \n",
       "3       3        38  0.089677      5386  6.306340e-147  True          NaN   \n",
       "4     729        37  0.168825      4324  5.384950e-238  True          NaN   \n",
       "\n",
       "  REF_CODON REF_AA ALT_CODON ALT_AA S_NS  \n",
       "0       GGC      G       GGT      G    S  \n",
       "1       GTA      V       GTG      V    S  \n",
       "2       GTG      V       GTA      V    S  \n",
       "3       TCC      S       TCT      S    S  \n",
       "4       ATC      I       GTC      V   NS  "
      ]
     },
     "execution_count": 37,
     "metadata": {},
     "output_type": "execute_result"
    }
   ],
   "source": [
    "import numpy as np\n",
    "import seaborn as sns\n",
    "import matplotlib.pyplot as plt\n",
    "rep_b =rep_a[rep_a['TOTAL_DP'] >= 400]\n",
    "rep_b"
   ]
  },
  {
   "cell_type": "code",
   "execution_count": 38,
   "metadata": {},
   "outputs": [
    {
     "name": "stdout",
     "output_type": "stream",
     "text": [
      "snps in non structural region\n",
      "(0, 20)\n",
      "snps in capsid\n",
      "(2, 20)\n"
     ]
    }
   ],
   "source": [
    "# let us filter snps in non structural region [1-5099]\n",
    "print(\"snps in non structural region\")\n",
    "print((rep_b[(rep_b['POS'] > 3610) & (rep_b['POS'] < 5099)]).shape)\n",
    "# let us filter snps in complete capsid[5010-6800]\n",
    "print(\"snps in capsid\")\n",
    "print((rep_b[(rep_b['POS'] > 5100) & (rep_b['POS'] < 7350)]).shape)"
   ]
  },
  {
   "cell_type": "code",
   "execution_count": 39,
   "metadata": {},
   "outputs": [
    {
     "data": {
      "text/html": [
       "<div>\n",
       "<style scoped>\n",
       "    .dataframe tbody tr th:only-of-type {\n",
       "        vertical-align: middle;\n",
       "    }\n",
       "\n",
       "    .dataframe tbody tr th {\n",
       "        vertical-align: top;\n",
       "    }\n",
       "\n",
       "    .dataframe thead th {\n",
       "        text-align: right;\n",
       "    }\n",
       "</style>\n",
       "<table border=\"1\" class=\"dataframe\">\n",
       "  <thead>\n",
       "    <tr style=\"text-align: right;\">\n",
       "      <th></th>\n",
       "      <th>Ref</th>\n",
       "      <th>Pos</th>\n",
       "      <th>depth_mask</th>\n",
       "      <th>400cov</th>\n",
       "      <th>100cov</th>\n",
       "    </tr>\n",
       "  </thead>\n",
       "  <tbody>\n",
       "    <tr>\n",
       "      <th>0</th>\n",
       "      <td>cons_GI.2_outbreak2013k4</td>\n",
       "      <td>1</td>\n",
       "      <td>0</td>\n",
       "      <td>no</td>\n",
       "      <td>no</td>\n",
       "    </tr>\n",
       "    <tr>\n",
       "      <th>1</th>\n",
       "      <td>cons_GI.2_outbreak2013k4</td>\n",
       "      <td>2</td>\n",
       "      <td>0</td>\n",
       "      <td>no</td>\n",
       "      <td>no</td>\n",
       "    </tr>\n",
       "    <tr>\n",
       "      <th>2</th>\n",
       "      <td>cons_GI.2_outbreak2013k4</td>\n",
       "      <td>3</td>\n",
       "      <td>0</td>\n",
       "      <td>no</td>\n",
       "      <td>no</td>\n",
       "    </tr>\n",
       "    <tr>\n",
       "      <th>3</th>\n",
       "      <td>cons_GI.2_outbreak2013k4</td>\n",
       "      <td>4</td>\n",
       "      <td>0</td>\n",
       "      <td>no</td>\n",
       "      <td>no</td>\n",
       "    </tr>\n",
       "    <tr>\n",
       "      <th>4</th>\n",
       "      <td>cons_GI.2_outbreak2013k4</td>\n",
       "      <td>5</td>\n",
       "      <td>0</td>\n",
       "      <td>no</td>\n",
       "      <td>no</td>\n",
       "    </tr>\n",
       "  </tbody>\n",
       "</table>\n",
       "</div>"
      ],
      "text/plain": [
       "                        Ref  Pos  depth_mask 400cov 100cov\n",
       "0  cons_GI.2_outbreak2013k4    1           0     no     no\n",
       "1  cons_GI.2_outbreak2013k4    2           0     no     no\n",
       "2  cons_GI.2_outbreak2013k4    3           0     no     no\n",
       "3  cons_GI.2_outbreak2013k4    4           0     no     no\n",
       "4  cons_GI.2_outbreak2013k4    5           0     no     no"
      ]
     },
     "execution_count": 39,
     "metadata": {},
     "output_type": "execute_result"
    }
   ],
   "source": [
    "# what percentage of this masked genome (without reads from mismached primers) has depth >400 ? \n",
    "os.chdir(\"/media/viro102/HD-ADU3/kte-data/sapo-ivar/test/outbreak_samples/GI.2/remapped-share/2013k4.fa/24_japan/depth\")\n",
    "df_masked = pd.read_csv(\"24_japan_GI.2.bad_are_masked.sorted.depth\", sep = \"\\t\", names = [\"Ref\", \"Pos\", \"depth_mask\"])\n",
    "df_masked['400cov'] = np.where(df_masked['depth_mask']>=400, 'yes', 'no')\n",
    "df_masked['100cov'] = np.where(df_masked['depth_mask']>=100, 'yes', 'no')\n",
    "df_masked.head()"
   ]
  },
  {
   "cell_type": "code",
   "execution_count": 40,
   "metadata": {},
   "outputs": [
    {
     "name": "stdout",
     "output_type": "stream",
     "text": [
      "(7442, 5)\n",
      "col_0   Breadth 100coverage\n",
      "100cov                     \n",
      "no                      127\n",
      "yes                    7315\n",
      "col_0   Beadth above 400coverage\n",
      "400cov                          \n",
      "no                           627\n",
      "yes                         6815\n"
     ]
    }
   ],
   "source": [
    "# What proportion of the genome is has a depth of coverage of at least >100 reads, >400 (Breadth ofcoverage)\n",
    "my_tab1 = pd.crosstab(index=df_masked[\"100cov\"],  # Make a crosstab\n",
    "                              columns=\"Breadth 100coverage\")      # Name the count column\n",
    "my_tab2 = pd.crosstab(index=df_masked[\"400cov\"],  # Make a crosstab\n",
    "                              columns=\"Beadth above 400coverage\")      # Name the count column\n",
    "shape=df_masked.shape\n",
    "print(shape)\n",
    "print(my_tab1); print(my_tab2)"
   ]
  },
  {
   "cell_type": "code",
   "execution_count": 43,
   "metadata": {},
   "outputs": [
    {
     "data": {
      "text/plain": [
       "91.57484547164741"
      ]
     },
     "execution_count": 43,
     "metadata": {},
     "output_type": "execute_result"
    }
   ],
   "source": [
    "6815/7442 * 100 # proportion of genome covered >400"
   ]
  },
  {
   "cell_type": "code",
   "execution_count": 44,
   "metadata": {},
   "outputs": [
    {
     "data": {
      "text/plain": [
       "98.29346949744692"
      ]
     },
     "execution_count": 44,
     "metadata": {},
     "output_type": "execute_result"
    }
   ],
   "source": [
    "7315/7442 * 100 # proportion of genome covered >100"
   ]
  }
 ],
 "metadata": {
  "kernelspec": {
   "display_name": "Python 3",
   "language": "python",
   "name": "python3"
  },
  "language_info": {
   "codemirror_mode": {
    "name": "ipython",
    "version": 3
   },
   "file_extension": ".py",
   "mimetype": "text/x-python",
   "name": "python",
   "nbconvert_exporter": "python",
   "pygments_lexer": "ipython3",
   "version": "3.7.6"
  }
 },
 "nbformat": 4,
 "nbformat_minor": 4
}
